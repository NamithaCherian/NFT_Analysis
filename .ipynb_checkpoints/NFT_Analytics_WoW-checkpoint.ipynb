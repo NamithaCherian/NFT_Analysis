{
 "cells": [
  {
   "cell_type": "code",
   "execution_count": 1,
   "id": "b612b211-3be8-44a5-b82f-4c2ee3fe412f",
   "metadata": {},
   "outputs": [],
   "source": [
    "import pandas as pd\n",
    "import numpy as np\n",
    "import matplotlib.pyplot as plt\n",
    "from matplotlib import style\n",
    "from datetime import datetime as dt\n",
    "import matplotlib.dates as mpl_dates"
   ]
  },
  {
   "cell_type": "code",
   "execution_count": 4,
   "id": "ad72c15d-7266-47af-b290-aa9cf93267db",
   "metadata": {},
   "outputs": [
    {
     "data": {
      "text/html": [
       "<div>\n",
       "<style scoped>\n",
       "    .dataframe tbody tr th:only-of-type {\n",
       "        vertical-align: middle;\n",
       "    }\n",
       "\n",
       "    .dataframe tbody tr th {\n",
       "        vertical-align: top;\n",
       "    }\n",
       "\n",
       "    .dataframe thead th {\n",
       "        text-align: right;\n",
       "    }\n",
       "</style>\n",
       "<table border=\"1\" class=\"dataframe\">\n",
       "  <thead>\n",
       "    <tr style=\"text-align: right;\">\n",
       "      <th></th>\n",
       "      <th>BLOCK_TIMESTAMP</th>\n",
       "      <th>EVENT_FROM</th>\n",
       "      <th>EVENT_TO</th>\n",
       "      <th>PRICE</th>\n",
       "      <th>PROJECT_NAME</th>\n",
       "      <th>TOKEN_ID</th>\n",
       "      <th>TX_CURRENCY</th>\n",
       "      <th>TX_ID</th>\n",
       "    </tr>\n",
       "  </thead>\n",
       "  <tbody>\n",
       "    <tr>\n",
       "      <th>0</th>\n",
       "      <td>2022-01-25 00:48:37.000</td>\n",
       "      <td>0xfd49ffbd075aaf57e7d7df2608d64ca494ffb6df</td>\n",
       "      <td>0x6a27af7f7a1d80fac6fb8f7e5cec9a88eff26ec6</td>\n",
       "      <td>37.50</td>\n",
       "      <td>World_Of_Women</td>\n",
       "      <td>9647</td>\n",
       "      <td>ETH</td>\n",
       "      <td>0xb888fa28361ed0acb53bf6ad79512ca2f7c65c97caee...</td>\n",
       "    </tr>\n",
       "    <tr>\n",
       "      <th>1</th>\n",
       "      <td>2022-01-25 00:25:03.000</td>\n",
       "      <td>0xb5cb6dba9a9ad75e2ff03d6f0253aff2cd6c5029</td>\n",
       "      <td>0x20556e46ef77fa166d27f0b701c463022b5ab83f</td>\n",
       "      <td>7.45</td>\n",
       "      <td>World_Of_Women</td>\n",
       "      <td>5559</td>\n",
       "      <td>ETH</td>\n",
       "      <td>0xe62d0f47b93cadb485487f4cae93c248cf6aa1a453fb...</td>\n",
       "    </tr>\n",
       "    <tr>\n",
       "      <th>2</th>\n",
       "      <td>2022-01-25 00:16:17.000</td>\n",
       "      <td>0xa0c9bba341881a8d8f835194745d312bb56b4284</td>\n",
       "      <td>0x20556e46ef77fa166d27f0b701c463022b5ab83f</td>\n",
       "      <td>8.00</td>\n",
       "      <td>World_Of_Women</td>\n",
       "      <td>5587</td>\n",
       "      <td>ETH</td>\n",
       "      <td>0xfe07ba2c8bfaf40fc7be93bd434b4580e1f1555d6b2f...</td>\n",
       "    </tr>\n",
       "    <tr>\n",
       "      <th>3</th>\n",
       "      <td>2022-01-24 22:56:00.000</td>\n",
       "      <td>0xaf97a78a41d1d030c89bb5e29e14ada03dc802ce</td>\n",
       "      <td>0x28ee3605321a598d716f9cdda26e226f54af9305</td>\n",
       "      <td>10.00</td>\n",
       "      <td>World_Of_Women</td>\n",
       "      <td>9362</td>\n",
       "      <td>ETH</td>\n",
       "      <td>0x07aebdbe39e346d53b326ed0a110b12bbb4b7de4a4da...</td>\n",
       "    </tr>\n",
       "    <tr>\n",
       "      <th>4</th>\n",
       "      <td>2022-01-24 22:19:04.000</td>\n",
       "      <td>0x28ee3605321a598d716f9cdda26e226f54af9305</td>\n",
       "      <td>0xaf34964b228d7c671fdac25a277f9d9a33fa9730</td>\n",
       "      <td>7.30</td>\n",
       "      <td>World_Of_Women</td>\n",
       "      <td>8766</td>\n",
       "      <td>ETH</td>\n",
       "      <td>0xcc2aa82505967604780feb0bde65b29156f32994997a...</td>\n",
       "    </tr>\n",
       "  </tbody>\n",
       "</table>\n",
       "</div>"
      ],
      "text/plain": [
       "           BLOCK_TIMESTAMP                                  EVENT_FROM  \\\n",
       "0  2022-01-25 00:48:37.000  0xfd49ffbd075aaf57e7d7df2608d64ca494ffb6df   \n",
       "1  2022-01-25 00:25:03.000  0xb5cb6dba9a9ad75e2ff03d6f0253aff2cd6c5029   \n",
       "2  2022-01-25 00:16:17.000  0xa0c9bba341881a8d8f835194745d312bb56b4284   \n",
       "3  2022-01-24 22:56:00.000  0xaf97a78a41d1d030c89bb5e29e14ada03dc802ce   \n",
       "4  2022-01-24 22:19:04.000  0x28ee3605321a598d716f9cdda26e226f54af9305   \n",
       "\n",
       "                                     EVENT_TO  PRICE    PROJECT_NAME  \\\n",
       "0  0x6a27af7f7a1d80fac6fb8f7e5cec9a88eff26ec6  37.50  World_Of_Women   \n",
       "1  0x20556e46ef77fa166d27f0b701c463022b5ab83f   7.45  World_Of_Women   \n",
       "2  0x20556e46ef77fa166d27f0b701c463022b5ab83f   8.00  World_Of_Women   \n",
       "3  0x28ee3605321a598d716f9cdda26e226f54af9305  10.00  World_Of_Women   \n",
       "4  0xaf34964b228d7c671fdac25a277f9d9a33fa9730   7.30  World_Of_Women   \n",
       "\n",
       "   TOKEN_ID TX_CURRENCY                                              TX_ID  \n",
       "0      9647         ETH  0xb888fa28361ed0acb53bf6ad79512ca2f7c65c97caee...  \n",
       "1      5559         ETH  0xe62d0f47b93cadb485487f4cae93c248cf6aa1a453fb...  \n",
       "2      5587         ETH  0xfe07ba2c8bfaf40fc7be93bd434b4580e1f1555d6b2f...  \n",
       "3      9362         ETH  0x07aebdbe39e346d53b326ed0a110b12bbb4b7de4a4da...  \n",
       "4      8766         ETH  0xcc2aa82505967604780feb0bde65b29156f32994997a...  "
      ]
     },
     "execution_count": 4,
     "metadata": {},
     "output_type": "execute_result"
    }
   ],
   "source": [
    "sales=pd.read_csv('wow_sales.csv')\n",
    "sales.head()"
   ]
  },
  {
   "cell_type": "code",
   "execution_count": 5,
   "id": "8f937c85-1f98-41af-aafb-1f818fa7747b",
   "metadata": {},
   "outputs": [
    {
     "data": {
      "text/plain": [
       "20784"
      ]
     },
     "execution_count": 5,
     "metadata": {},
     "output_type": "execute_result"
    }
   ],
   "source": [
    "len(sales)"
   ]
  },
  {
   "cell_type": "code",
   "execution_count": 6,
   "id": "67ca8ff1-ee9e-413a-bd10-7aef94b833d2",
   "metadata": {},
   "outputs": [
    {
     "data": {
      "text/plain": [
       "BLOCK_TIMESTAMP      0\n",
       "EVENT_FROM           0\n",
       "EVENT_TO             0\n",
       "PRICE              147\n",
       "PROJECT_NAME         0\n",
       "TOKEN_ID             0\n",
       "TX_CURRENCY        147\n",
       "TX_ID                0\n",
       "dtype: int64"
      ]
     },
     "execution_count": 6,
     "metadata": {},
     "output_type": "execute_result"
    }
   ],
   "source": [
    "sales.isna().sum()"
   ]
  },
  {
   "cell_type": "code",
   "execution_count": 7,
   "id": "e52bc939-061b-4bd4-bc67-edeac4e98f3f",
   "metadata": {},
   "outputs": [
    {
     "data": {
      "text/plain": [
       "20637"
      ]
     },
     "execution_count": 7,
     "metadata": {},
     "output_type": "execute_result"
    }
   ],
   "source": [
    "sales.dropna(inplace=True)\n",
    "len(sales)"
   ]
  },
  {
   "cell_type": "code",
   "execution_count": 8,
   "id": "ad93ac94-3203-44f2-be1e-fd7eadb99b5f",
   "metadata": {},
   "outputs": [
    {
     "data": {
      "text/plain": [
       "World_Of_Women    20637\n",
       "Name: PROJECT_NAME, dtype: int64"
      ]
     },
     "execution_count": 8,
     "metadata": {},
     "output_type": "execute_result"
    }
   ],
   "source": [
    "sales['PROJECT_NAME'].value_counts()"
   ]
  },
  {
   "cell_type": "code",
   "execution_count": 9,
   "id": "8045b36e-445a-4ab1-b92e-5bf1e56bb01f",
   "metadata": {},
   "outputs": [
    {
     "data": {
      "text/plain": [
       "ETH     19069\n",
       "WETH     1562\n",
       "USDC        6\n",
       "Name: TX_CURRENCY, dtype: int64"
      ]
     },
     "execution_count": 9,
     "metadata": {},
     "output_type": "execute_result"
    }
   ],
   "source": [
    "sales['TX_CURRENCY'].value_counts()"
   ]
  },
  {
   "cell_type": "code",
   "execution_count": 10,
   "id": "497ebe60-c923-4869-bd5d-13fb2efcec3e",
   "metadata": {},
   "outputs": [
    {
     "name": "stdout",
     "output_type": "stream",
     "text": [
      "<class 'pandas.core.frame.DataFrame'>\n",
      "Int64Index: 20637 entries, 0 to 20783\n",
      "Data columns (total 8 columns):\n",
      " #   Column           Non-Null Count  Dtype  \n",
      "---  ------           --------------  -----  \n",
      " 0   BLOCK_TIMESTAMP  20637 non-null  object \n",
      " 1   EVENT_FROM       20637 non-null  object \n",
      " 2   EVENT_TO         20637 non-null  object \n",
      " 3   PRICE            20637 non-null  float64\n",
      " 4   PROJECT_NAME     20637 non-null  object \n",
      " 5   TOKEN_ID         20637 non-null  int64  \n",
      " 6   TX_CURRENCY      20637 non-null  object \n",
      " 7   TX_ID            20637 non-null  object \n",
      "dtypes: float64(1), int64(1), object(6)\n",
      "memory usage: 1.4+ MB\n"
     ]
    }
   ],
   "source": [
    "sales.info()"
   ]
  },
  {
   "cell_type": "code",
   "execution_count": 11,
   "id": "bbdde686-d6cc-4452-9682-e446704c6284",
   "metadata": {},
   "outputs": [],
   "source": [
    "sales['BLOCK_TIMESTAMP']=pd.to_datetime(sales['BLOCK_TIMESTAMP'])"
   ]
  },
  {
   "cell_type": "code",
   "execution_count": 14,
   "id": "b48f0ddc-0f83-4abe-aa9a-bccf94e56cdc",
   "metadata": {},
   "outputs": [],
   "source": [
    "#Total number of uniques sellers, buyers,common people between buying and selling, highest sale,time series of sales"
   ]
  },
  {
   "cell_type": "code",
   "execution_count": 20,
   "id": "22e2406b-ec98-4f5b-9a3d-1df539616bfa",
   "metadata": {},
   "outputs": [],
   "source": [
    "#Understanding Sellers"
   ]
  },
  {
   "cell_type": "code",
   "execution_count": 15,
   "id": "221bea26-42e7-4e1a-a5b6-ea507d8918c2",
   "metadata": {},
   "outputs": [
    {
     "data": {
      "text/plain": [
       "6176"
      ]
     },
     "execution_count": 15,
     "metadata": {},
     "output_type": "execute_result"
    }
   ],
   "source": [
    "len(sales['EVENT_FROM'].unique())"
   ]
  },
  {
   "cell_type": "code",
   "execution_count": 33,
   "id": "4a5bbbe8-8263-4229-b3c3-310227954437",
   "metadata": {},
   "outputs": [
    {
     "data": {
      "text/plain": [
       "0xd387a6e4e84a6c86bd90c158c6028a58cc8ac459    681\n",
       "0xc6de15da3b913764a695819b9835c9ea3f80df29    176\n",
       "0x0b8f4c4e7626a91460dac057eb43e0de59d5b44f    164\n",
       "0x71373fc3d84069e3936f99520d6cd9286a36a5d5    160\n",
       "0x4fed1f42ba007d1f7a6f0df4ae100170adb305c6    150\n",
       "                                             ... \n",
       "0x7347e806165b87fde7c3a04808719f7fb951e9df      1\n",
       "0xdddb5d83c35707de44534ae7e1743bf002fd1a93      1\n",
       "0xbb144d747a8fe8c7d19c6a2f132b6a40b1454d12      1\n",
       "0x69538ef32acdfd8bba6d56d9d0bbdf022a3c6dcc      1\n",
       "0x20d8552cb29dfbbe4cfaf63d4c16d48df0e1ca39      1\n",
       "Name: EVENT_FROM, Length: 6176, dtype: int64"
      ]
     },
     "execution_count": 33,
     "metadata": {},
     "output_type": "execute_result"
    }
   ],
   "source": [
    "sales_count=sales['EVENT_FROM'].value_counts()\n",
    "sales_count\n"
   ]
  },
  {
   "cell_type": "code",
   "execution_count": 34,
   "id": "6ee2cc2c-1db1-4f45-b371-ac786243bb06",
   "metadata": {},
   "outputs": [
    {
     "data": {
      "text/plain": [
       "0xfdcd06edd66582102ea8e8c2cb1fa271cfec8dfc    1\n",
       "0x81ae2b76f7316472124ec7da84f6bda62170ef20    1\n",
       "0x0667640ab57cb909b343157d718651ea49141a75    1\n",
       "0xc2a8632ab752ed90c2151bb6ac434c626336f715    1\n",
       "0x3ec6cf4efad6c90444c892f412498653fa6e6e9d    1\n",
       "                                             ..\n",
       "0x7347e806165b87fde7c3a04808719f7fb951e9df    1\n",
       "0xdddb5d83c35707de44534ae7e1743bf002fd1a93    1\n",
       "0xbb144d747a8fe8c7d19c6a2f132b6a40b1454d12    1\n",
       "0x69538ef32acdfd8bba6d56d9d0bbdf022a3c6dcc    1\n",
       "0x20d8552cb29dfbbe4cfaf63d4c16d48df0e1ca39    1\n",
       "Name: EVENT_FROM, Length: 3250, dtype: int64"
      ]
     },
     "execution_count": 34,
     "metadata": {},
     "output_type": "execute_result"
    }
   ],
   "source": [
    "sales_count.tail(3250)"
   ]
  },
  {
   "cell_type": "code",
   "execution_count": 19,
   "id": "a9cfa48e-49b8-43ee-bd4f-ba658823b204",
   "metadata": {},
   "outputs": [
    {
     "data": {
      "image/png": "[encoded data removed]",
      "text/plain": [
       "<Figure size 720x504 with 1 Axes>"
      ]
     },
     "metadata": {
      "needs_background": "light"
     },
     "output_type": "display_data"
    }
   ],
   "source": [
    "fig, ax1= plt.subplots(figsize=(10,7))\n",
    "bin_list = list(range(1, 60))\n",
    "ax1.hist(sales_count, bins=bin_list)\n",
    "plt.show()"
   ]
  },
  {
   "cell_type": "code",
   "execution_count": 35,
   "id": "0538da73-617a-4fe9-8fb6-698e2d752f22",
   "metadata": {},
   "outputs": [],
   "source": [
    "#Out of 20637 sales, there are 6176 unique sellers. Of this, more than 3000 sellers have sold only once. \n",
    "#The highest number of times the same seller has sold is 681."
   ]
  },
  {
   "cell_type": "code",
   "execution_count": 36,
   "id": "7053159d-6d2b-4c0e-8d5c-d0f403b9aeed",
   "metadata": {},
   "outputs": [],
   "source": [
    "#Understanding Buyers"
   ]
  },
  {
   "cell_type": "code",
   "execution_count": 37,
   "id": "3dd0ed16-5a86-4170-bd50-027b30ec6998",
   "metadata": {},
   "outputs": [
    {
     "data": {
      "text/plain": [
       "8076"
      ]
     },
     "execution_count": 37,
     "metadata": {},
     "output_type": "execute_result"
    }
   ],
   "source": [
    "len(sales['EVENT_TO'].unique())"
   ]
  },
  {
   "cell_type": "code",
   "execution_count": 67,
   "id": "ec475320-28c2-4da8-b01b-0c915765b3ac",
   "metadata": {},
   "outputs": [
    {
     "data": {
      "text/plain": [
       "0xfc840af78a496b52e378dfa94838402e1b7f71dd    481\n",
       "0x4fed1f42ba007d1f7a6f0df4ae100170adb305c6    131\n",
       "0x7d544a853dbcd39a53315e7002f4951a6d2f080d    117\n",
       "0x573d75e2cd4cdbad99e5fb8a599ebab3cf90fd94    107\n",
       "0xdf985c6f09a69ea9b69b8cba22b4b93f805fe587    105\n",
       "                                             ... \n",
       "0x95ba2f511b6d4062952154edc5889f4a7289634d      1\n",
       "0xbebf173c83ad4c877c04592de0c38567abf66526      1\n",
       "0xb9be284db7b212c7e7d6c8c5944ce42faef1bc05      1\n",
       "0x679a375895e2b43a13f07ed4cd0e1a66cdb67e89      1\n",
       "0xdf345e11427c8f97517515956e080fe4a6d7ab9c      1\n",
       "Name: EVENT_TO, Length: 8076, dtype: int64"
      ]
     },
     "execution_count": 67,
     "metadata": {},
     "output_type": "execute_result"
    }
   ],
   "source": [
    "buyers_count=sales['EVENT_TO'].value_counts()\n",
    "buyers_count"
   ]
  },
  {
   "cell_type": "code",
   "execution_count": 46,
   "id": "e7f054bf-48dd-43e1-b13a-eccde7983808",
   "metadata": {},
   "outputs": [
    {
     "data": {
      "text/plain": [
       "0x6f9fb2dfc1844f7bedd7a7d3619a957f457e0eb1    1\n",
       "0x175446bf0f5feef2635de5123fe837bbe6c20ce2    1\n",
       "0xdb8907f5edf23b09c58972490856820fa9d547c3    1\n",
       "0x43586804556ac37e234e092e91dae4d530693c46    1\n",
       "0x79206b9ee1b48ad2ee925ac0f119a4de93509f97    1\n",
       "                                             ..\n",
       "0x95ba2f511b6d4062952154edc5889f4a7289634d    1\n",
       "0xbebf173c83ad4c877c04592de0c38567abf66526    1\n",
       "0xb9be284db7b212c7e7d6c8c5944ce42faef1bc05    1\n",
       "0x679a375895e2b43a13f07ed4cd0e1a66cdb67e89    1\n",
       "0xdf345e11427c8f97517515956e080fe4a6d7ab9c    1\n",
       "Name: EVENT_TO, Length: 4825, dtype: int64"
      ]
     },
     "execution_count": 46,
     "metadata": {},
     "output_type": "execute_result"
    }
   ],
   "source": [
    "buyers_count.tail(4825)"
   ]
  },
  {
   "cell_type": "code",
   "execution_count": 40,
   "id": "45a81459-1ce6-4424-ab0f-a7543b303b3b",
   "metadata": {},
   "outputs": [
    {
     "data": {
      "image/png": "[encoded data removed]",
      "text/plain": [
       "<Figure size 720x504 with 1 Axes>"
      ]
     },
     "metadata": {
      "needs_background": "light"
     },
     "output_type": "display_data"
    }
   ],
   "source": [
    "fig, ax1= plt.subplots(figsize=(10,7))\n",
    "bin_list = list(range(1, 60))\n",
    "ax1.hist(buyers_count, bins=bin_list)\n",
    "plt.show()"
   ]
  },
  {
   "cell_type": "code",
   "execution_count": 47,
   "id": "66f3d82f-cc82-4821-8d97-7815aa374d5d",
   "metadata": {},
   "outputs": [],
   "source": [
    "#Out of 20637 buying transactions, there are 8076 unique buyers. Of this, more than 4800 buyers have bought only one NFT. \n",
    "#The highest number of times the same person a bought NFT's in WoW is 481."
   ]
  },
  {
   "cell_type": "code",
   "execution_count": 48,
   "id": "ae4b2f9e-0d96-4e91-9899-c9208393b4d9",
   "metadata": {},
   "outputs": [],
   "source": [
    "#Understanding overall transactions"
   ]
  },
  {
   "cell_type": "code",
   "execution_count": 49,
   "id": "867a3cc4-a0fb-4ad1-85b8-b5ffc893ecdf",
   "metadata": {},
   "outputs": [],
   "source": [
    "all_transactions=list(sales['EVENT_FROM'])\n",
    "buyer=list(sales['EVENT_TO'])"
   ]
  },
  {
   "cell_type": "code",
   "execution_count": 50,
   "id": "fc256884-6770-4c4c-b25e-9378209b9304",
   "metadata": {},
   "outputs": [],
   "source": [
    "for i in buyer:\n",
    "    all_transactions.append(i)"
   ]
  },
  {
   "cell_type": "code",
   "execution_count": 51,
   "id": "8773c8b1-85bd-459a-8947-c44d76687e22",
   "metadata": {},
   "outputs": [
    {
     "data": {
      "text/plain": [
       "41274"
      ]
     },
     "execution_count": 51,
     "metadata": {},
     "output_type": "execute_result"
    }
   ],
   "source": [
    "len(all_transactions)"
   ]
  },
  {
   "cell_type": "code",
   "execution_count": 52,
   "id": "c87bb30a-1824-42a9-be51-bd4b01d13a64",
   "metadata": {},
   "outputs": [],
   "source": [
    "df_transact=pd.DataFrame(all_transactions)"
   ]
  },
  {
   "cell_type": "code",
   "execution_count": 65,
   "id": "3c9c4fed-a837-49c6-b323-759036671f90",
   "metadata": {},
   "outputs": [
    {
     "data": {
      "text/plain": [
       "9726"
      ]
     },
     "execution_count": 65,
     "metadata": {},
     "output_type": "execute_result"
    }
   ],
   "source": [
    "len(df_transact[0].unique())"
   ]
  },
  {
   "cell_type": "code",
   "execution_count": 70,
   "id": "c23265e1-b4a2-42f5-8a3b-7e2546d3a276",
   "metadata": {},
   "outputs": [
    {
     "data": {
      "text/plain": [
       "0xd387a6e4e84a6c86bd90c158c6028a58cc8ac459    688\n",
       "0xfc840af78a496b52e378dfa94838402e1b7f71dd    482\n",
       "0x4fed1f42ba007d1f7a6f0df4ae100170adb305c6    281\n",
       "0xc6de15da3b913764a695819b9835c9ea3f80df29    273\n",
       "0x0b8f4c4e7626a91460dac057eb43e0de59d5b44f    200\n",
       "                                             ... \n",
       "0x7f249fe08c0adc38495b222a5f34954d65088cdd      1\n",
       "0x7f19c7da5fa56ee87c71e62072b361fe8460c3d1      1\n",
       "0x7f16ec6d12ae3dfd255a022b52655a58bdf75619      1\n",
       "0x7f110ab3ab505a4da4259d42e67dd59472001e92      1\n",
       "0x831a42d67440b00caa02589b9c4b92bb063c8ef4      1\n",
       "Length: 9726, dtype: int64"
      ]
     },
     "execution_count": 70,
     "metadata": {},
     "output_type": "execute_result"
    }
   ],
   "source": [
    "transact_counts=df_transact.value_counts()\n",
    "transact_counts"
   ]
  },
  {
   "cell_type": "code",
   "execution_count": 77,
   "id": "645b792c-a9e0-4dd6-b060-b9c557ac2cd3",
   "metadata": {},
   "outputs": [
    {
     "data": {
      "text/plain": [
       "0xfc229a3d9f8bff3f4c6d09a058cd2687e2b774d1    1\n",
       "0xf764a5674e72e628b7749a5fb46e481096d5fb5d    1\n",
       "0xf764e54648fa68337eedeb7cfd5bedd503224a85    1\n",
       "0xfd918b02e09d985186fa5a768d5021529777d081    1\n",
       "0xc0ec0e2a7f526b2ebf5a7e199ff776a019f012c8    1\n",
       "                                             ..\n",
       "0x7f249fe08c0adc38495b222a5f34954d65088cdd    1\n",
       "0x7f19c7da5fa56ee87c71e62072b361fe8460c3d1    1\n",
       "0x7f16ec6d12ae3dfd255a022b52655a58bdf75619    1\n",
       "0x7f110ab3ab505a4da4259d42e67dd59472001e92    1\n",
       "0x831a42d67440b00caa02589b9c4b92bb063c8ef4    1\n",
       "Length: 3500, dtype: int64"
      ]
     },
     "execution_count": 77,
     "metadata": {},
     "output_type": "execute_result"
    }
   ],
   "source": [
    "transact_counts.tail(3500)"
   ]
  },
  {
   "cell_type": "code",
   "execution_count": 71,
   "id": "c461bbfe-c8dd-4ed4-892d-694e5ef60deb",
   "metadata": {},
   "outputs": [
    {
     "data": {
      "text/plain": [
       "pandas.core.series.Series"
      ]
     },
     "execution_count": 71,
     "metadata": {},
     "output_type": "execute_result"
    }
   ],
   "source": [
    "type(transact_counts)"
   ]
  },
  {
   "cell_type": "code",
   "execution_count": 72,
   "id": "f1375b07-1fab-4e5e-abe4-451b98a429bd",
   "metadata": {},
   "outputs": [
    {
     "data": {
      "image/png": "[encoded data removed]",
      "text/plain": [
       "<Figure size 720x504 with 1 Axes>"
      ]
     },
     "metadata": {
      "needs_background": "light"
     },
     "output_type": "display_data"
    }
   ],
   "source": [
    "fig, ax1= plt.subplots(figsize=(10,7))\n",
    "bin_list = list(range(1, 60))\n",
    "ax1.hist(transact_counts, bins=bin_list)\n",
    "plt.show()"
   ]
  },
  {
   "cell_type": "code",
   "execution_count": 80,
   "id": "60017281-91df-4e20-850b-47294e9f0d22",
   "metadata": {},
   "outputs": [],
   "source": [
    "#Out of all the transactions, there are 9726 unique transacting people. Of this, more than 3500 people have transacted only onece. \n",
    "#The highest number of times the same person transacted WoW is 688.\n"
   ]
  },
  {
   "cell_type": "code",
   "execution_count": 93,
   "id": "e4761bab-35f0-411f-a0e6-d4bbdb3ab95f",
   "metadata": {},
   "outputs": [],
   "source": [
    "#Most and least expensive sale"
   ]
  },
  {
   "cell_type": "code",
   "execution_count": 87,
   "id": "b82c2799-1c4b-4dc6-9c2c-1690cb05ea60",
   "metadata": {},
   "outputs": [
    {
     "data": {
      "text/html": [
       "<div>\n",
       "<style scoped>\n",
       "    .dataframe tbody tr th:only-of-type {\n",
       "        vertical-align: middle;\n",
       "    }\n",
       "\n",
       "    .dataframe tbody tr th {\n",
       "        vertical-align: top;\n",
       "    }\n",
       "\n",
       "    .dataframe thead th {\n",
       "        text-align: right;\n",
       "    }\n",
       "</style>\n",
       "<table border=\"1\" class=\"dataframe\">\n",
       "  <thead>\n",
       "    <tr style=\"text-align: right;\">\n",
       "      <th></th>\n",
       "      <th>BLOCK_TIMESTAMP</th>\n",
       "      <th>EVENT_FROM</th>\n",
       "      <th>EVENT_TO</th>\n",
       "      <th>PRICE</th>\n",
       "      <th>PROJECT_NAME</th>\n",
       "      <th>TOKEN_ID</th>\n",
       "      <th>TX_CURRENCY</th>\n",
       "      <th>TX_ID</th>\n",
       "    </tr>\n",
       "  </thead>\n",
       "  <tbody>\n",
       "    <tr>\n",
       "      <th>2480</th>\n",
       "      <td>2022-01-02 04:28:55</td>\n",
       "      <td>0x6522bbd602e1cdb3c1e12a04c8a5d1a9f5352a1e</td>\n",
       "      <td>0x51d9676f4934e06c45dde9c3c93e9707b0b4f2f2</td>\n",
       "      <td>7420.0</td>\n",
       "      <td>World_Of_Women</td>\n",
       "      <td>4832</td>\n",
       "      <td>USDC</td>\n",
       "      <td>0x5c1e6c8108bd9e628154d30cac31b264fbf09f241626...</td>\n",
       "    </tr>\n",
       "    <tr>\n",
       "      <th>2483</th>\n",
       "      <td>2022-01-02 02:13:49</td>\n",
       "      <td>0x6522bbd602e1cdb3c1e12a04c8a5d1a9f5352a1e</td>\n",
       "      <td>0x6a0c939b355b700192315f24faa80270d33f1115</td>\n",
       "      <td>7420.0</td>\n",
       "      <td>World_Of_Women</td>\n",
       "      <td>2312</td>\n",
       "      <td>USDC</td>\n",
       "      <td>0x26d8d1eda9e359fef86f5de39ff8855bd94cb6aefe61...</td>\n",
       "    </tr>\n",
       "    <tr>\n",
       "      <th>2492</th>\n",
       "      <td>2022-01-01 21:09:26</td>\n",
       "      <td>0x6522bbd602e1cdb3c1e12a04c8a5d1a9f5352a1e</td>\n",
       "      <td>0x279930d09c521c503d10cf4cb0021e8b1cc36042</td>\n",
       "      <td>7420.0</td>\n",
       "      <td>World_Of_Women</td>\n",
       "      <td>7468</td>\n",
       "      <td>USDC</td>\n",
       "      <td>0x7f749fa636057bdd60c376fda87642db806199b5923b...</td>\n",
       "    </tr>\n",
       "    <tr>\n",
       "      <th>2498</th>\n",
       "      <td>2022-01-01 16:39:08</td>\n",
       "      <td>0x6522bbd602e1cdb3c1e12a04c8a5d1a9f5352a1e</td>\n",
       "      <td>0x66dbd9d28a973b1de5d19f64b792490e1bee3fee</td>\n",
       "      <td>7420.0</td>\n",
       "      <td>World_Of_Women</td>\n",
       "      <td>2941</td>\n",
       "      <td>USDC</td>\n",
       "      <td>0x251ac5de955bd0212a2a623287f4bca510d4ab6d2809...</td>\n",
       "    </tr>\n",
       "  </tbody>\n",
       "</table>\n",
       "</div>"
      ],
      "text/plain": [
       "         BLOCK_TIMESTAMP                                  EVENT_FROM  \\\n",
       "2480 2022-01-02 04:28:55  0x6522bbd602e1cdb3c1e12a04c8a5d1a9f5352a1e   \n",
       "2483 2022-01-02 02:13:49  0x6522bbd602e1cdb3c1e12a04c8a5d1a9f5352a1e   \n",
       "2492 2022-01-01 21:09:26  0x6522bbd602e1cdb3c1e12a04c8a5d1a9f5352a1e   \n",
       "2498 2022-01-01 16:39:08  0x6522bbd602e1cdb3c1e12a04c8a5d1a9f5352a1e   \n",
       "\n",
       "                                        EVENT_TO   PRICE    PROJECT_NAME  \\\n",
       "2480  0x51d9676f4934e06c45dde9c3c93e9707b0b4f2f2  7420.0  World_Of_Women   \n",
       "2483  0x6a0c939b355b700192315f24faa80270d33f1115  7420.0  World_Of_Women   \n",
       "2492  0x279930d09c521c503d10cf4cb0021e8b1cc36042  7420.0  World_Of_Women   \n",
       "2498  0x66dbd9d28a973b1de5d19f64b792490e1bee3fee  7420.0  World_Of_Women   \n",
       "\n",
       "      TOKEN_ID TX_CURRENCY                                              TX_ID  \n",
       "2480      4832        USDC  0x5c1e6c8108bd9e628154d30cac31b264fbf09f241626...  \n",
       "2483      2312        USDC  0x26d8d1eda9e359fef86f5de39ff8855bd94cb6aefe61...  \n",
       "2492      7468        USDC  0x7f749fa636057bdd60c376fda87642db806199b5923b...  \n",
       "2498      2941        USDC  0x251ac5de955bd0212a2a623287f4bca510d4ab6d2809...  "
      ]
     },
     "execution_count": 87,
     "metadata": {},
     "output_type": "execute_result"
    }
   ],
   "source": [
    "sales[sales['PRICE']==max(sales['PRICE'])]"
   ]
  },
  {
   "cell_type": "code",
   "execution_count": 88,
   "id": "5902f511-bd3d-41d0-86bc-9974fde9455e",
   "metadata": {},
   "outputs": [],
   "source": [
    "#Removing USDC line items. There are 6 such transactions and none have a very significant value."
   ]
  },
  {
   "cell_type": "code",
   "execution_count": 89,
   "id": "04fbbdc8-c4b2-47de-9003-9736627c9b19",
   "metadata": {},
   "outputs": [],
   "source": [
    "sales_ETH=sales.drop(sales[sales['TX_CURRENCY']=='USDC'].index)"
   ]
  },
  {
   "cell_type": "code",
   "execution_count": 90,
   "id": "71e23cba-058a-415b-9117-816b7e75affb",
   "metadata": {},
   "outputs": [
    {
     "data": {
      "text/html": [
       "<div>\n",
       "<style scoped>\n",
       "    .dataframe tbody tr th:only-of-type {\n",
       "        vertical-align: middle;\n",
       "    }\n",
       "\n",
       "    .dataframe tbody tr th {\n",
       "        vertical-align: top;\n",
       "    }\n",
       "\n",
       "    .dataframe thead th {\n",
       "        text-align: right;\n",
       "    }\n",
       "</style>\n",
       "<table border=\"1\" class=\"dataframe\">\n",
       "  <thead>\n",
       "    <tr style=\"text-align: right;\">\n",
       "      <th></th>\n",
       "      <th>BLOCK_TIMESTAMP</th>\n",
       "      <th>EVENT_FROM</th>\n",
       "      <th>EVENT_TO</th>\n",
       "      <th>PRICE</th>\n",
       "      <th>PROJECT_NAME</th>\n",
       "      <th>TOKEN_ID</th>\n",
       "      <th>TX_CURRENCY</th>\n",
       "      <th>TX_ID</th>\n",
       "    </tr>\n",
       "  </thead>\n",
       "  <tbody>\n",
       "    <tr>\n",
       "      <th>17</th>\n",
       "      <td>2022-01-24 14:43:49</td>\n",
       "      <td>0xd7d870220a28d01f2fe914f06f0418c8bbe7b261</td>\n",
       "      <td>0x6a27af7f7a1d80fac6fb8f7e5cec9a88eff26ec6</td>\n",
       "      <td>260.0</td>\n",
       "      <td>World_Of_Women</td>\n",
       "      <td>9248</td>\n",
       "      <td>ETH</td>\n",
       "      <td>0x6eb7bc8c8824070166b2714b0d933629720db7772e3f...</td>\n",
       "    </tr>\n",
       "  </tbody>\n",
       "</table>\n",
       "</div>"
      ],
      "text/plain": [
       "       BLOCK_TIMESTAMP                                  EVENT_FROM  \\\n",
       "17 2022-01-24 14:43:49  0xd7d870220a28d01f2fe914f06f0418c8bbe7b261   \n",
       "\n",
       "                                      EVENT_TO  PRICE    PROJECT_NAME  \\\n",
       "17  0x6a27af7f7a1d80fac6fb8f7e5cec9a88eff26ec6  260.0  World_Of_Women   \n",
       "\n",
       "    TOKEN_ID TX_CURRENCY                                              TX_ID  \n",
       "17      9248         ETH  0x6eb7bc8c8824070166b2714b0d933629720db7772e3f...  "
      ]
     },
     "execution_count": 90,
     "metadata": {},
     "output_type": "execute_result"
    }
   ],
   "source": [
    "sales_ETH[sales_ETH['PRICE']==max(sales_ETH['PRICE'])]"
   ]
  },
  {
   "cell_type": "code",
   "execution_count": 91,
   "id": "0dc68651-597c-41a8-b5c0-5ff303cc7c34",
   "metadata": {},
   "outputs": [],
   "source": [
    "#The WoW NFT with token id 9248 which was sold on Jan 24th 2022, was sold for the highest price of 260 ETH."
   ]
  },
  {
   "cell_type": "code",
   "execution_count": 92,
   "id": "d254048c-9d72-479f-bf7f-b4c0de1532f9",
   "metadata": {},
   "outputs": [
    {
     "data": {
      "text/html": [
       "<div>\n",
       "<style scoped>\n",
       "    .dataframe tbody tr th:only-of-type {\n",
       "        vertical-align: middle;\n",
       "    }\n",
       "\n",
       "    .dataframe tbody tr th {\n",
       "        vertical-align: top;\n",
       "    }\n",
       "\n",
       "    .dataframe thead th {\n",
       "        text-align: right;\n",
       "    }\n",
       "</style>\n",
       "<table border=\"1\" class=\"dataframe\">\n",
       "  <thead>\n",
       "    <tr style=\"text-align: right;\">\n",
       "      <th></th>\n",
       "      <th>BLOCK_TIMESTAMP</th>\n",
       "      <th>EVENT_FROM</th>\n",
       "      <th>EVENT_TO</th>\n",
       "      <th>PRICE</th>\n",
       "      <th>PROJECT_NAME</th>\n",
       "      <th>TOKEN_ID</th>\n",
       "      <th>TX_CURRENCY</th>\n",
       "      <th>TX_ID</th>\n",
       "    </tr>\n",
       "  </thead>\n",
       "  <tbody>\n",
       "    <tr>\n",
       "      <th>551</th>\n",
       "      <td>2022-01-14 04:29:33</td>\n",
       "      <td>0x4f29656fdb5753c8568732e72ec3439d1868584c</td>\n",
       "      <td>0xac0fd5aab36d8ac4fe3d5ad15c69dcf7ca36d6d9</td>\n",
       "      <td>0.00001</td>\n",
       "      <td>World_Of_Women</td>\n",
       "      <td>9921</td>\n",
       "      <td>ETH</td>\n",
       "      <td>0x92dae1aba2e4dc87f8ec4254cb97f2bdcbc276a4b9c1...</td>\n",
       "    </tr>\n",
       "    <tr>\n",
       "      <th>2563</th>\n",
       "      <td>2021-12-31 02:49:48</td>\n",
       "      <td>0xac0fd5aab36d8ac4fe3d5ad15c69dcf7ca36d6d9</td>\n",
       "      <td>0x4f29656fdb5753c8568732e72ec3439d1868584c</td>\n",
       "      <td>0.00001</td>\n",
       "      <td>World_Of_Women</td>\n",
       "      <td>9921</td>\n",
       "      <td>ETH</td>\n",
       "      <td>0xa520c613045b32e765fc0284287869f084310fed7d26...</td>\n",
       "    </tr>\n",
       "  </tbody>\n",
       "</table>\n",
       "</div>"
      ],
      "text/plain": [
       "         BLOCK_TIMESTAMP                                  EVENT_FROM  \\\n",
       "551  2022-01-14 04:29:33  0x4f29656fdb5753c8568732e72ec3439d1868584c   \n",
       "2563 2021-12-31 02:49:48  0xac0fd5aab36d8ac4fe3d5ad15c69dcf7ca36d6d9   \n",
       "\n",
       "                                        EVENT_TO    PRICE    PROJECT_NAME  \\\n",
       "551   0xac0fd5aab36d8ac4fe3d5ad15c69dcf7ca36d6d9  0.00001  World_Of_Women   \n",
       "2563  0x4f29656fdb5753c8568732e72ec3439d1868584c  0.00001  World_Of_Women   \n",
       "\n",
       "      TOKEN_ID TX_CURRENCY                                              TX_ID  \n",
       "551       9921         ETH  0x92dae1aba2e4dc87f8ec4254cb97f2bdcbc276a4b9c1...  \n",
       "2563      9921         ETH  0xa520c613045b32e765fc0284287869f084310fed7d26...  "
      ]
     },
     "execution_count": 92,
     "metadata": {},
     "output_type": "execute_result"
    }
   ],
   "source": [
    "sales_ETH[sales_ETH['PRICE']==min(sales_ETH['PRICE'])]"
   ]
  },
  {
   "cell_type": "code",
   "execution_count": 94,
   "id": "692024db-be89-48c1-bfe0-3bb79d7377cf",
   "metadata": {},
   "outputs": [],
   "source": [
    "#The WoW NFT with token id 9921 which was sold on Jan 14th and 31st, 2022, was sold for the lowest price of 0.00001 ETH."
   ]
  },
  {
   "cell_type": "code",
   "execution_count": 95,
   "id": "288d48c3-f151-4fb3-9d04-b9ac7f7bd090",
   "metadata": {},
   "outputs": [],
   "source": [
    "#Time Series"
   ]
  },
  {
   "cell_type": "code",
   "execution_count": 102,
   "id": "21b75de0-ba6a-4ef4-9113-76b746976062",
   "metadata": {},
   "outputs": [],
   "source": [
    "sales_ETH.sort_values(by='BLOCK_TIMESTAMP',inplace=True)\n",
    "sales_ETH['Date']=sales_ETH['BLOCK_TIMESTAMP'].dt.date"
   ]
  },
  {
   "cell_type": "code",
   "execution_count": 104,
   "id": "dde6f956-e744-46e0-822a-5c0bbf62228a",
   "metadata": {},
   "outputs": [
    {
     "data": {
      "image/png": "[encoded data removed]",
      "text/plain": [
       "<Figure size 720x504 with 1 Axes>"
      ]
     },
     "metadata": {
      "needs_background": "light"
     },
     "output_type": "display_data"
    }
   ],
   "source": [
    "fig=plt.figure(figsize=(10,7))\n",
    "ax3=fig.add_subplot(111)\n",
    "ax3.plot(sales_ETH['Date'],sales_ETH['PRICE'])\n",
    "plt.show()\n"
   ]
  },
  {
   "cell_type": "code",
   "execution_count": 101,
   "id": "1f0dbf8f-be48-48f3-a4f2-7bc99e97f492",
   "metadata": {},
   "outputs": [],
   "source": [
    "#We can see multiple peaks in 2021 with some prominent peaks in September and October 2021.\n",
    "#However, the major peak in NFT prices has occoured in Jan 2022."
   ]
  },
  {
   "cell_type": "code",
   "execution_count": 107,
   "id": "dae3ddb7-d92e-47ec-b2ff-dc4ffdddb6bd",
   "metadata": {},
   "outputs": [],
   "source": [
    "sales_ETH['Date']=pd.to_datetime(sales_ETH['Date'],format='%Y-%m-%d')"
   ]
  },
  {
   "cell_type": "code",
   "execution_count": 110,
   "id": "ba45d550-03f1-47d3-9cf9-02b73ab20d1d",
   "metadata": {},
   "outputs": [
    {
     "data": {
      "text/html": [
       "<div>\n",
       "<style scoped>\n",
       "    .dataframe tbody tr th:only-of-type {\n",
       "        vertical-align: middle;\n",
       "    }\n",
       "\n",
       "    .dataframe tbody tr th {\n",
       "        vertical-align: top;\n",
       "    }\n",
       "\n",
       "    .dataframe thead th {\n",
       "        text-align: right;\n",
       "    }\n",
       "</style>\n",
       "<table border=\"1\" class=\"dataframe\">\n",
       "  <thead>\n",
       "    <tr style=\"text-align: right;\">\n",
       "      <th></th>\n",
       "      <th>BLOCK_TIMESTAMP</th>\n",
       "      <th>EVENT_FROM</th>\n",
       "      <th>EVENT_TO</th>\n",
       "      <th>PRICE</th>\n",
       "      <th>PROJECT_NAME</th>\n",
       "      <th>TOKEN_ID</th>\n",
       "      <th>TX_CURRENCY</th>\n",
       "      <th>TX_ID</th>\n",
       "      <th>Date</th>\n",
       "    </tr>\n",
       "  </thead>\n",
       "  <tbody>\n",
       "    <tr>\n",
       "      <th>2484</th>\n",
       "      <td>2022-01-02 00:43:15</td>\n",
       "      <td>0x30762e2624c4b97d84bd69ba6527a4c00f30826d</td>\n",
       "      <td>0x008e070f53cdd0cdd202a35c93b26f560abbb4c2</td>\n",
       "      <td>3.200</td>\n",
       "      <td>World_Of_Women</td>\n",
       "      <td>3637</td>\n",
       "      <td>ETH</td>\n",
       "      <td>0x5a714829131028de74473938e16da8845b33793ac030...</td>\n",
       "      <td>2022-01-02</td>\n",
       "    </tr>\n",
       "    <tr>\n",
       "      <th>2482</th>\n",
       "      <td>2022-01-02 03:37:47</td>\n",
       "      <td>0x1ecd31e8fe6f783274f1e4f347b50945b4dbbe0d</td>\n",
       "      <td>0x29bca487c390fa4773fe10839af969e13f2e5844</td>\n",
       "      <td>2.600</td>\n",
       "      <td>World_Of_Women</td>\n",
       "      <td>6728</td>\n",
       "      <td>ETH</td>\n",
       "      <td>0x095371798aa4c191d54e601dfc55635014faabb71a58...</td>\n",
       "      <td>2022-01-02</td>\n",
       "    </tr>\n",
       "    <tr>\n",
       "      <th>2481</th>\n",
       "      <td>2022-01-02 04:05:30</td>\n",
       "      <td>0x1c5dccb380c92cf152a8d27f24c6e3cc42b59206</td>\n",
       "      <td>0x29bca487c390fa4773fe10839af969e13f2e5844</td>\n",
       "      <td>2.175</td>\n",
       "      <td>World_Of_Women</td>\n",
       "      <td>8847</td>\n",
       "      <td>ETH</td>\n",
       "      <td>0xeeb0229c9338980042455bb5de5c7d6c3cc835ad7a09...</td>\n",
       "      <td>2022-01-02</td>\n",
       "    </tr>\n",
       "    <tr>\n",
       "      <th>2479</th>\n",
       "      <td>2022-01-02 05:46:16</td>\n",
       "      <td>0x7631746b3009c1d0b710d63a226efb0c7fcaef47</td>\n",
       "      <td>0x734a0524db74f3550aa8b22ccd8a333178949146</td>\n",
       "      <td>1.800</td>\n",
       "      <td>World_Of_Women</td>\n",
       "      <td>9419</td>\n",
       "      <td>WETH</td>\n",
       "      <td>0xea1639ed0794088199f8d205d0a191263f27cecdd4f5...</td>\n",
       "      <td>2022-01-02</td>\n",
       "    </tr>\n",
       "    <tr>\n",
       "      <th>2478</th>\n",
       "      <td>2022-01-02 06:38:04</td>\n",
       "      <td>0x1c5dccb380c92cf152a8d27f24c6e3cc42b59206</td>\n",
       "      <td>0xa9444ad9862cd95651a9a2e0a560896d5c3fa90d</td>\n",
       "      <td>2.440</td>\n",
       "      <td>World_Of_Women</td>\n",
       "      <td>5711</td>\n",
       "      <td>ETH</td>\n",
       "      <td>0x437eb766cb69e0bc8f25e4516757d4c72c2d8a6a49f0...</td>\n",
       "      <td>2022-01-02</td>\n",
       "    </tr>\n",
       "  </tbody>\n",
       "</table>\n",
       "</div>"
      ],
      "text/plain": [
       "         BLOCK_TIMESTAMP                                  EVENT_FROM  \\\n",
       "2484 2022-01-02 00:43:15  0x30762e2624c4b97d84bd69ba6527a4c00f30826d   \n",
       "2482 2022-01-02 03:37:47  0x1ecd31e8fe6f783274f1e4f347b50945b4dbbe0d   \n",
       "2481 2022-01-02 04:05:30  0x1c5dccb380c92cf152a8d27f24c6e3cc42b59206   \n",
       "2479 2022-01-02 05:46:16  0x7631746b3009c1d0b710d63a226efb0c7fcaef47   \n",
       "2478 2022-01-02 06:38:04  0x1c5dccb380c92cf152a8d27f24c6e3cc42b59206   \n",
       "\n",
       "                                        EVENT_TO  PRICE    PROJECT_NAME  \\\n",
       "2484  0x008e070f53cdd0cdd202a35c93b26f560abbb4c2  3.200  World_Of_Women   \n",
       "2482  0x29bca487c390fa4773fe10839af969e13f2e5844  2.600  World_Of_Women   \n",
       "2481  0x29bca487c390fa4773fe10839af969e13f2e5844  2.175  World_Of_Women   \n",
       "2479  0x734a0524db74f3550aa8b22ccd8a333178949146  1.800  World_Of_Women   \n",
       "2478  0xa9444ad9862cd95651a9a2e0a560896d5c3fa90d  2.440  World_Of_Women   \n",
       "\n",
       "      TOKEN_ID TX_CURRENCY                                              TX_ID  \\\n",
       "2484      3637         ETH  0x5a714829131028de74473938e16da8845b33793ac030...   \n",
       "2482      6728         ETH  0x095371798aa4c191d54e601dfc55635014faabb71a58...   \n",
       "2481      8847         ETH  0xeeb0229c9338980042455bb5de5c7d6c3cc835ad7a09...   \n",
       "2479      9419        WETH  0xea1639ed0794088199f8d205d0a191263f27cecdd4f5...   \n",
       "2478      5711         ETH  0x437eb766cb69e0bc8f25e4516757d4c72c2d8a6a49f0...   \n",
       "\n",
       "           Date  \n",
       "2484 2022-01-02  \n",
       "2482 2022-01-02  \n",
       "2481 2022-01-02  \n",
       "2479 2022-01-02  \n",
       "2478 2022-01-02  "
      ]
     },
     "execution_count": 110,
     "metadata": {},
     "output_type": "execute_result"
    }
   ],
   "source": [
    "jan_peak_sales_ETH=sales_ETH[(sales_ETH['Date'] > ('2022-1-1'))&(sales_ETH['Date'] < ('2022-1-31'))]\n",
    "jan_peak_sales_ETH.head()"
   ]
  },
  {
   "cell_type": "code",
   "execution_count": 111,
   "id": "3ac8828d-5ec4-465e-99bf-aadaf9c1175e",
   "metadata": {},
   "outputs": [
    {
     "data": {
      "text/plain": [
       "1450"
      ]
     },
     "execution_count": 111,
     "metadata": {},
     "output_type": "execute_result"
    }
   ],
   "source": [
    "len(jan_peak_sales_ETH['EVENT_FROM'].unique())"
   ]
  },
  {
   "cell_type": "code",
   "execution_count": 112,
   "id": "cb4503b6-75be-46f8-9ff7-f29574f262be",
   "metadata": {},
   "outputs": [
    {
     "data": {
      "text/plain": [
       "1513"
      ]
     },
     "execution_count": 112,
     "metadata": {},
     "output_type": "execute_result"
    }
   ],
   "source": [
    "len(jan_peak_sales_ETH['EVENT_TO'].unique())"
   ]
  },
  {
   "cell_type": "code",
   "execution_count": 118,
   "id": "e8745705-8c6c-4844-b03e-22947b384f08",
   "metadata": {},
   "outputs": [
    {
     "data": {
      "text/plain": [
       "0xd387a6e4e84a6c86bd90c158c6028a58cc8ac459    149\n",
       "0xe4855ea1e26865247d412c0891184b535e2fb849     46\n",
       "0x7d544a853dbcd39a53315e7002f4951a6d2f080d     25\n",
       "0x25aaf13451e66f4f322a6105f7b295d1a7e9da96     16\n",
       "0x0b8f4c4e7626a91460dac057eb43e0de59d5b44f     15\n",
       "                                             ... \n",
       "0x6285b0727fdaf31cd1ba9fa8d5cddccb02fa5f6c      2\n",
       "0xe3f663418251186888935dc1c4979fa3a3da1bac      2\n",
       "0xf51d05c6477f23647c0d4c9832e6a800e77621ed      1\n",
       "0xff727e6028f67549debd1975546cb5323f7e0569      1\n",
       "0xdbc431a22eb00b0a552198034717d7563f69945c      1\n",
       "Name: EVENT_FROM, Length: 328, dtype: int64"
      ]
     },
     "execution_count": 118,
     "metadata": {},
     "output_type": "execute_result"
    }
   ],
   "source": [
    "jan_peak_sales_ETH['EVENT_FROM'].value_counts().head(328)"
   ]
  },
  {
   "cell_type": "code",
   "execution_count": 115,
   "id": "d522f0a9-3822-46ce-8b35-89f09c31a2c8",
   "metadata": {},
   "outputs": [
    {
     "data": {
      "text/plain": [
       "0xb6dbbb6ddf875cb0b7d4328e2d8c33632173f295    35\n",
       "0xa1707c82aa2866955991c7f2c6f431d6619b8b4c    28\n",
       "0xc1ff576b9f9254230970f4db0ac4c5f8b92d07e9    24\n",
       "0x669691bb5d9a1744565af06615b62a08026090ce    16\n",
       "0x25aaf13451e66f4f322a6105f7b295d1a7e9da96    15\n",
       "                                              ..\n",
       "0x5a6c8df7d9acea10512420107765adc4209d3326     2\n",
       "0x48e362e7a4c9463e408b09892e97b1a9faa1ddc4     2\n",
       "0xb909b992d3607217a8809177bc1481d2a1b1f6c6     2\n",
       "0x373c08663e286915980f6699c9eac0e0efe3bb07     1\n",
       "0xb36cb5b52511d1a095272d371566fbfaa29286ee     1\n",
       "Name: EVENT_TO, Length: 380, dtype: int64"
      ]
     },
     "execution_count": 115,
     "metadata": {},
     "output_type": "execute_result"
    }
   ],
   "source": [
    "jan_peak_sales_ETH['EVENT_TO'].value_counts().head(380)"
   ]
  },
  {
   "cell_type": "code",
   "execution_count": 119,
   "id": "f63936fd-1f2f-410f-b2fb-aa7e72737b7f",
   "metadata": {},
   "outputs": [],
   "source": [
    "#2374 TRANSACTION IN JAN PEAK of which there are 1450 unique sellers and 1513 unique buyers. 327 out of 1450 sellers sold more than 1 NFT\n",
    "#378 out of 1513 bought more than 1 NFT"
   ]
  },
  {
   "cell_type": "code",
   "execution_count": 120,
   "id": "cb3d92d6-36dd-4574-95ce-cb7af1fdb753",
   "metadata": {},
   "outputs": [],
   "source": [
    "#During JAN peak - top 2 transactors in sellers and buyers \n",
    "txn_top_seller1='0xd387a6e4e84a6c86bd90c158c6028a58cc8ac459'\n",
    "txn_top_seller2='0xe4855ea1e26865247d412c0891184b535e2fb849'\n",
    "txn_top_seller3='0x7d544a853dbcd39a53315e7002f4951a6d2f080d'\n",
    "txn_top_buyer1='0xb6dbbb6ddf875cb0b7d4328e2d8c33632173f295'\n",
    "txn_top_buyer2='0xa1707c82aa2866955991c7f2c6f431d6619b8b4c'\n",
    "txn_top_buyer3='0xc1ff576b9f9254230970f4db0ac4c5f8b92d07e9'\n"
   ]
  },
  {
   "cell_type": "code",
   "execution_count": 121,
   "id": "39cebe66-a189-4445-bb24-c7e4d5c12fca",
   "metadata": {},
   "outputs": [
    {
     "data": {
      "text/html": [
       "<div>\n",
       "<style scoped>\n",
       "    .dataframe tbody tr th:only-of-type {\n",
       "        vertical-align: middle;\n",
       "    }\n",
       "\n",
       "    .dataframe tbody tr th {\n",
       "        vertical-align: top;\n",
       "    }\n",
       "\n",
       "    .dataframe thead th {\n",
       "        text-align: right;\n",
       "    }\n",
       "</style>\n",
       "<table border=\"1\" class=\"dataframe\">\n",
       "  <thead>\n",
       "    <tr style=\"text-align: right;\">\n",
       "      <th></th>\n",
       "      <th>BLOCK_TIMESTAMP</th>\n",
       "      <th>EVENT_FROM</th>\n",
       "      <th>EVENT_TO</th>\n",
       "      <th>PRICE</th>\n",
       "      <th>PROJECT_NAME</th>\n",
       "      <th>TOKEN_ID</th>\n",
       "      <th>TX_CURRENCY</th>\n",
       "      <th>TX_ID</th>\n",
       "      <th>Date</th>\n",
       "    </tr>\n",
       "  </thead>\n",
       "  <tbody>\n",
       "    <tr>\n",
       "      <th>17</th>\n",
       "      <td>2022-01-24 14:43:49</td>\n",
       "      <td>0xd7d870220a28d01f2fe914f06f0418c8bbe7b261</td>\n",
       "      <td>0x6a27af7f7a1d80fac6fb8f7e5cec9a88eff26ec6</td>\n",
       "      <td>260.00</td>\n",
       "      <td>World_Of_Women</td>\n",
       "      <td>9248</td>\n",
       "      <td>ETH</td>\n",
       "      <td>0x6eb7bc8c8824070166b2714b0d933629720db7772e3f...</td>\n",
       "      <td>2022-01-24</td>\n",
       "    </tr>\n",
       "    <tr>\n",
       "      <th>49</th>\n",
       "      <td>2022-01-23 17:41:31</td>\n",
       "      <td>0x5706708a015bbd47cb844ffa52aa272c08cf0166</td>\n",
       "      <td>0x1e5ce6f088fd0adb4fcff31cfb02a61503311be9</td>\n",
       "      <td>210.00</td>\n",
       "      <td>World_Of_Women</td>\n",
       "      <td>706</td>\n",
       "      <td>ETH</td>\n",
       "      <td>0xe1f4665dba77b6bd6782c86c5995c3fed1dab2f186f2...</td>\n",
       "      <td>2022-01-23</td>\n",
       "    </tr>\n",
       "    <tr>\n",
       "      <th>2194</th>\n",
       "      <td>2022-01-05 16:38:23</td>\n",
       "      <td>0xff0bd4aa3496739d5667adc10e2b843dfab5712b</td>\n",
       "      <td>0x7a9fe22691c811ea339d9b73150e6911a5343dca</td>\n",
       "      <td>200.00</td>\n",
       "      <td>World_Of_Women</td>\n",
       "      <td>6025</td>\n",
       "      <td>ETH</td>\n",
       "      <td>0x471b3efea072b5f5b960ce85a0db2f2169e54a1d7268...</td>\n",
       "      <td>2022-01-05</td>\n",
       "    </tr>\n",
       "    <tr>\n",
       "      <th>404</th>\n",
       "      <td>2022-01-15 13:13:07</td>\n",
       "      <td>0x7d544a853dbcd39a53315e7002f4951a6d2f080d</td>\n",
       "      <td>0xd7d870220a28d01f2fe914f06f0418c8bbe7b261</td>\n",
       "      <td>130.00</td>\n",
       "      <td>World_Of_Women</td>\n",
       "      <td>9248</td>\n",
       "      <td>WETH</td>\n",
       "      <td>0xfc6287c355406e82f5df4e5665c50725081e98c2a805...</td>\n",
       "      <td>2022-01-15</td>\n",
       "    </tr>\n",
       "    <tr>\n",
       "      <th>6329</th>\n",
       "      <td>2021-09-02 08:01:35</td>\n",
       "      <td>0x34805e6a3796fb04e82183667a78c2f7bff29170</td>\n",
       "      <td>0xadea5bd7cd91974d02777d8b8537dab5654d7267</td>\n",
       "      <td>100.00</td>\n",
       "      <td>World_Of_Women</td>\n",
       "      <td>3733</td>\n",
       "      <td>ETH</td>\n",
       "      <td>0x0cf8881dbee73f4cc714426275922472341cfa3fd247...</td>\n",
       "      <td>2021-09-02</td>\n",
       "    </tr>\n",
       "    <tr>\n",
       "      <th>234</th>\n",
       "      <td>2022-01-19 02:37:29</td>\n",
       "      <td>0xe4855ea1e26865247d412c0891184b535e2fb849</td>\n",
       "      <td>0x2965b75df6300fe2893529fd8f02c667c84567bc</td>\n",
       "      <td>100.00</td>\n",
       "      <td>World_Of_Women</td>\n",
       "      <td>7508</td>\n",
       "      <td>ETH</td>\n",
       "      <td>0xd6e2b8d8aad5986dd925f066d83a1938a3ae3480b642...</td>\n",
       "      <td>2022-01-19</td>\n",
       "    </tr>\n",
       "    <tr>\n",
       "      <th>7616</th>\n",
       "      <td>2021-08-27 09:21:48</td>\n",
       "      <td>0xcc288a17781b9ec380561796e57c32f0d3afe8d8</td>\n",
       "      <td>0xca02e6c2f0633e15977951fed564f818f853887d</td>\n",
       "      <td>99.90</td>\n",
       "      <td>World_Of_Women</td>\n",
       "      <td>1510</td>\n",
       "      <td>ETH</td>\n",
       "      <td>0x2006c20a69b99dde367f1b59cb8c0efc7870771f9f47...</td>\n",
       "      <td>2021-08-27</td>\n",
       "    </tr>\n",
       "    <tr>\n",
       "      <th>4506</th>\n",
       "      <td>2021-10-04 13:58:10</td>\n",
       "      <td>0x7d544a853dbcd39a53315e7002f4951a6d2f080d</td>\n",
       "      <td>0x60902f364540c0870b9b64957d1e23622756b198</td>\n",
       "      <td>90.00</td>\n",
       "      <td>World_Of_Women</td>\n",
       "      <td>4730</td>\n",
       "      <td>ETH</td>\n",
       "      <td>0x2f4e9d8e4dbdf6c54e8bfeb8cb7c3793f6c1bca6ddbf...</td>\n",
       "      <td>2021-10-04</td>\n",
       "    </tr>\n",
       "    <tr>\n",
       "      <th>1696</th>\n",
       "      <td>2022-01-08 20:12:09</td>\n",
       "      <td>0xb692704d590e224c67fa96830c4b2526fccaf3a3</td>\n",
       "      <td>0x7d544a853dbcd39a53315e7002f4951a6d2f080d</td>\n",
       "      <td>70.00</td>\n",
       "      <td>World_Of_Women</td>\n",
       "      <td>9248</td>\n",
       "      <td>ETH</td>\n",
       "      <td>0xcbb50d456df5aecbabde935fe1c9ca9c37a0da6a79e9...</td>\n",
       "      <td>2022-01-08</td>\n",
       "    </tr>\n",
       "    <tr>\n",
       "      <th>715</th>\n",
       "      <td>2022-01-13 07:36:46</td>\n",
       "      <td>0x25aaf13451e66f4f322a6105f7b295d1a7e9da96</td>\n",
       "      <td>0xb2e7d833396a4a33d2af238cbaf2e3fadcaa233a</td>\n",
       "      <td>69.69</td>\n",
       "      <td>World_Of_Women</td>\n",
       "      <td>3090</td>\n",
       "      <td>ETH</td>\n",
       "      <td>0xdaedbb2b5a130fb3c034d64fd09e8a9508dc5896c73b...</td>\n",
       "      <td>2022-01-13</td>\n",
       "    </tr>\n",
       "  </tbody>\n",
       "</table>\n",
       "</div>"
      ],
      "text/plain": [
       "         BLOCK_TIMESTAMP                                  EVENT_FROM  \\\n",
       "17   2022-01-24 14:43:49  0xd7d870220a28d01f2fe914f06f0418c8bbe7b261   \n",
       "49   2022-01-23 17:41:31  0x5706708a015bbd47cb844ffa52aa272c08cf0166   \n",
       "2194 2022-01-05 16:38:23  0xff0bd4aa3496739d5667adc10e2b843dfab5712b   \n",
       "404  2022-01-15 13:13:07  0x7d544a853dbcd39a53315e7002f4951a6d2f080d   \n",
       "6329 2021-09-02 08:01:35  0x34805e6a3796fb04e82183667a78c2f7bff29170   \n",
       "234  2022-01-19 02:37:29  0xe4855ea1e26865247d412c0891184b535e2fb849   \n",
       "7616 2021-08-27 09:21:48  0xcc288a17781b9ec380561796e57c32f0d3afe8d8   \n",
       "4506 2021-10-04 13:58:10  0x7d544a853dbcd39a53315e7002f4951a6d2f080d   \n",
       "1696 2022-01-08 20:12:09  0xb692704d590e224c67fa96830c4b2526fccaf3a3   \n",
       "715  2022-01-13 07:36:46  0x25aaf13451e66f4f322a6105f7b295d1a7e9da96   \n",
       "\n",
       "                                        EVENT_TO   PRICE    PROJECT_NAME  \\\n",
       "17    0x6a27af7f7a1d80fac6fb8f7e5cec9a88eff26ec6  260.00  World_Of_Women   \n",
       "49    0x1e5ce6f088fd0adb4fcff31cfb02a61503311be9  210.00  World_Of_Women   \n",
       "2194  0x7a9fe22691c811ea339d9b73150e6911a5343dca  200.00  World_Of_Women   \n",
       "404   0xd7d870220a28d01f2fe914f06f0418c8bbe7b261  130.00  World_Of_Women   \n",
       "6329  0xadea5bd7cd91974d02777d8b8537dab5654d7267  100.00  World_Of_Women   \n",
       "234   0x2965b75df6300fe2893529fd8f02c667c84567bc  100.00  World_Of_Women   \n",
       "7616  0xca02e6c2f0633e15977951fed564f818f853887d   99.90  World_Of_Women   \n",
       "4506  0x60902f364540c0870b9b64957d1e23622756b198   90.00  World_Of_Women   \n",
       "1696  0x7d544a853dbcd39a53315e7002f4951a6d2f080d   70.00  World_Of_Women   \n",
       "715   0xb2e7d833396a4a33d2af238cbaf2e3fadcaa233a   69.69  World_Of_Women   \n",
       "\n",
       "      TOKEN_ID TX_CURRENCY                                              TX_ID  \\\n",
       "17        9248         ETH  0x6eb7bc8c8824070166b2714b0d933629720db7772e3f...   \n",
       "49         706         ETH  0xe1f4665dba77b6bd6782c86c5995c3fed1dab2f186f2...   \n",
       "2194      6025         ETH  0x471b3efea072b5f5b960ce85a0db2f2169e54a1d7268...   \n",
       "404       9248        WETH  0xfc6287c355406e82f5df4e5665c50725081e98c2a805...   \n",
       "6329      3733         ETH  0x0cf8881dbee73f4cc714426275922472341cfa3fd247...   \n",
       "234       7508         ETH  0xd6e2b8d8aad5986dd925f066d83a1938a3ae3480b642...   \n",
       "7616      1510         ETH  0x2006c20a69b99dde367f1b59cb8c0efc7870771f9f47...   \n",
       "4506      4730         ETH  0x2f4e9d8e4dbdf6c54e8bfeb8cb7c3793f6c1bca6ddbf...   \n",
       "1696      9248         ETH  0xcbb50d456df5aecbabde935fe1c9ca9c37a0da6a79e9...   \n",
       "715       3090         ETH  0xdaedbb2b5a130fb3c034d64fd09e8a9508dc5896c73b...   \n",
       "\n",
       "           Date  \n",
       "17   2022-01-24  \n",
       "49   2022-01-23  \n",
       "2194 2022-01-05  \n",
       "404  2022-01-15  \n",
       "6329 2021-09-02  \n",
       "234  2022-01-19  \n",
       "7616 2021-08-27  \n",
       "4506 2021-10-04  \n",
       "1696 2022-01-08  \n",
       "715  2022-01-13  "
      ]
     },
     "execution_count": 121,
     "metadata": {},
     "output_type": "execute_result"
    }
   ],
   "source": [
    "sales_ETH.nlargest(10, ['PRICE'])"
   ]
  },
  {
   "cell_type": "code",
   "execution_count": 123,
   "id": "9ee6a350-8fdf-4f41-b309-8cab40d15be7",
   "metadata": {},
   "outputs": [],
   "source": [
    "#All highest transations taking price\n",
    "top_seller1='0xd7d870220a28d01f2fe914f06f0418c8bbe7b261'\n",
    "top_seller2='0x5706708a015bbd47cb844ffa52aa272c08cf0166'\n",
    "top_seller3='0xff0bd4aa3496739d5667adc10e2b843dfab5712b'\n",
    "top_buyer1='0x6a27af7f7a1d80fac6fb8f7e5cec9a88eff26ec6'\n",
    "top_buyer2='0x1e5ce6f088fd0adb4fcff31cfb02a61503311be9'\n",
    "top_buyer3='0x7a9fe22691c811ea339d9b73150e6911a5343dca'"
   ]
  },
  {
   "cell_type": "code",
   "execution_count": 124,
   "id": "0ecd0929-8a29-4b71-9ea3-22cb85df7629",
   "metadata": {},
   "outputs": [],
   "source": [
    "list_top=[top_seller1,top_seller2,top_seller3,top_buyer1,top_buyer2,top_buyer3,txn_top_seller1,txn_top_seller2,txn_top_seller3,txn_top_buyer1,txn_top_buyer2,txn_top_buyer3]\n"
   ]
  },
  {
   "cell_type": "code",
   "execution_count": 125,
   "id": "a4f0a629-71cc-4909-b603-7e712f845b89",
   "metadata": {},
   "outputs": [
    {
     "data": {
      "text/html": [
       "<div>\n",
       "<style scoped>\n",
       "    .dataframe tbody tr th:only-of-type {\n",
       "        vertical-align: middle;\n",
       "    }\n",
       "\n",
       "    .dataframe tbody tr th {\n",
       "        vertical-align: top;\n",
       "    }\n",
       "\n",
       "    .dataframe thead th {\n",
       "        text-align: right;\n",
       "    }\n",
       "</style>\n",
       "<table border=\"1\" class=\"dataframe\">\n",
       "  <thead>\n",
       "    <tr style=\"text-align: right;\">\n",
       "      <th></th>\n",
       "      <th>Transaction_person</th>\n",
       "    </tr>\n",
       "  </thead>\n",
       "  <tbody>\n",
       "    <tr>\n",
       "      <th>0</th>\n",
       "      <td>0xd7d870220a28d01f2fe914f06f0418c8bbe7b261</td>\n",
       "    </tr>\n",
       "    <tr>\n",
       "      <th>1</th>\n",
       "      <td>0x5706708a015bbd47cb844ffa52aa272c08cf0166</td>\n",
       "    </tr>\n",
       "    <tr>\n",
       "      <th>2</th>\n",
       "      <td>0xff0bd4aa3496739d5667adc10e2b843dfab5712b</td>\n",
       "    </tr>\n",
       "    <tr>\n",
       "      <th>3</th>\n",
       "      <td>0x6a27af7f7a1d80fac6fb8f7e5cec9a88eff26ec6</td>\n",
       "    </tr>\n",
       "    <tr>\n",
       "      <th>4</th>\n",
       "      <td>0x1e5ce6f088fd0adb4fcff31cfb02a61503311be9</td>\n",
       "    </tr>\n",
       "    <tr>\n",
       "      <th>5</th>\n",
       "      <td>0x7a9fe22691c811ea339d9b73150e6911a5343dca</td>\n",
       "    </tr>\n",
       "    <tr>\n",
       "      <th>6</th>\n",
       "      <td>0xd387a6e4e84a6c86bd90c158c6028a58cc8ac459</td>\n",
       "    </tr>\n",
       "    <tr>\n",
       "      <th>7</th>\n",
       "      <td>0xe4855ea1e26865247d412c0891184b535e2fb849</td>\n",
       "    </tr>\n",
       "    <tr>\n",
       "      <th>8</th>\n",
       "      <td>0x7d544a853dbcd39a53315e7002f4951a6d2f080d</td>\n",
       "    </tr>\n",
       "    <tr>\n",
       "      <th>9</th>\n",
       "      <td>0xb6dbbb6ddf875cb0b7d4328e2d8c33632173f295</td>\n",
       "    </tr>\n",
       "    <tr>\n",
       "      <th>10</th>\n",
       "      <td>0xa1707c82aa2866955991c7f2c6f431d6619b8b4c</td>\n",
       "    </tr>\n",
       "    <tr>\n",
       "      <th>11</th>\n",
       "      <td>0xc1ff576b9f9254230970f4db0ac4c5f8b92d07e9</td>\n",
       "    </tr>\n",
       "  </tbody>\n",
       "</table>\n",
       "</div>"
      ],
      "text/plain": [
       "                            Transaction_person\n",
       "0   0xd7d870220a28d01f2fe914f06f0418c8bbe7b261\n",
       "1   0x5706708a015bbd47cb844ffa52aa272c08cf0166\n",
       "2   0xff0bd4aa3496739d5667adc10e2b843dfab5712b\n",
       "3   0x6a27af7f7a1d80fac6fb8f7e5cec9a88eff26ec6\n",
       "4   0x1e5ce6f088fd0adb4fcff31cfb02a61503311be9\n",
       "5   0x7a9fe22691c811ea339d9b73150e6911a5343dca\n",
       "6   0xd387a6e4e84a6c86bd90c158c6028a58cc8ac459\n",
       "7   0xe4855ea1e26865247d412c0891184b535e2fb849\n",
       "8   0x7d544a853dbcd39a53315e7002f4951a6d2f080d\n",
       "9   0xb6dbbb6ddf875cb0b7d4328e2d8c33632173f295\n",
       "10  0xa1707c82aa2866955991c7f2c6f431d6619b8b4c\n",
       "11  0xc1ff576b9f9254230970f4db0ac4c5f8b92d07e9"
      ]
     },
     "execution_count": 125,
     "metadata": {},
     "output_type": "execute_result"
    }
   ],
   "source": [
    "profit_df=pd.DataFrame()\n",
    "profit_df['Transaction_person']=list_top\n",
    "profit_df"
   ]
  },
  {
   "cell_type": "code",
   "execution_count": 126,
   "id": "df0f44a8-5e97-40f8-94bc-321e389fde48",
   "metadata": {},
   "outputs": [
    {
     "data": {
      "text/plain": [
       "[145.0,\n",
       " 207.4,\n",
       " -18.06450000000001,\n",
       " -297.5,\n",
       " -210.0,\n",
       " -268.28999999999996,\n",
       " 1631.38,\n",
       " 375.77000000000004,\n",
       " 377.6305755690001,\n",
       " -251.9789,\n",
       " -348.11,\n",
       " -356.79699999999997]"
      ]
     },
     "execution_count": 126,
     "metadata": {},
     "output_type": "execute_result"
    }
   ],
   "source": [
    "profit_list=[]\n",
    "\n",
    "for i in list_top:\n",
    "    profit=(sales_ETH[sales_ETH['EVENT_FROM']==i]['PRICE'].sum()) - (sales_ETH[sales_ETH['EVENT_TO']==i]['PRICE'].sum())\n",
    "    profit_list.append(profit)\n",
    "profit_list"
   ]
  },
  {
   "cell_type": "code",
   "execution_count": 127,
   "id": "48507c32-0563-4937-abcb-fdc13ff25577",
   "metadata": {},
   "outputs": [],
   "source": [
    "profit_df['Profit/Loss']=profit_list"
   ]
  },
  {
   "cell_type": "code",
   "execution_count": 128,
   "id": "50c750bc-10b0-4c12-92a9-53430b619075",
   "metadata": {},
   "outputs": [
    {
     "data": {
      "text/html": [
       "<div>\n",
       "<style scoped>\n",
       "    .dataframe tbody tr th:only-of-type {\n",
       "        vertical-align: middle;\n",
       "    }\n",
       "\n",
       "    .dataframe tbody tr th {\n",
       "        vertical-align: top;\n",
       "    }\n",
       "\n",
       "    .dataframe thead th {\n",
       "        text-align: right;\n",
       "    }\n",
       "</style>\n",
       "<table border=\"1\" class=\"dataframe\">\n",
       "  <thead>\n",
       "    <tr style=\"text-align: right;\">\n",
       "      <th></th>\n",
       "      <th>Transaction_person</th>\n",
       "      <th>Profit/Loss</th>\n",
       "    </tr>\n",
       "  </thead>\n",
       "  <tbody>\n",
       "    <tr>\n",
       "      <th>11</th>\n",
       "      <td>0xc1ff576b9f9254230970f4db0ac4c5f8b92d07e9</td>\n",
       "      <td>-356.797000</td>\n",
       "    </tr>\n",
       "    <tr>\n",
       "      <th>10</th>\n",
       "      <td>0xa1707c82aa2866955991c7f2c6f431d6619b8b4c</td>\n",
       "      <td>-348.110000</td>\n",
       "    </tr>\n",
       "    <tr>\n",
       "      <th>3</th>\n",
       "      <td>0x6a27af7f7a1d80fac6fb8f7e5cec9a88eff26ec6</td>\n",
       "      <td>-297.500000</td>\n",
       "    </tr>\n",
       "    <tr>\n",
       "      <th>5</th>\n",
       "      <td>0x7a9fe22691c811ea339d9b73150e6911a5343dca</td>\n",
       "      <td>-268.290000</td>\n",
       "    </tr>\n",
       "    <tr>\n",
       "      <th>9</th>\n",
       "      <td>0xb6dbbb6ddf875cb0b7d4328e2d8c33632173f295</td>\n",
       "      <td>-251.978900</td>\n",
       "    </tr>\n",
       "    <tr>\n",
       "      <th>4</th>\n",
       "      <td>0x1e5ce6f088fd0adb4fcff31cfb02a61503311be9</td>\n",
       "      <td>-210.000000</td>\n",
       "    </tr>\n",
       "    <tr>\n",
       "      <th>2</th>\n",
       "      <td>0xff0bd4aa3496739d5667adc10e2b843dfab5712b</td>\n",
       "      <td>-18.064500</td>\n",
       "    </tr>\n",
       "    <tr>\n",
       "      <th>0</th>\n",
       "      <td>0xd7d870220a28d01f2fe914f06f0418c8bbe7b261</td>\n",
       "      <td>145.000000</td>\n",
       "    </tr>\n",
       "    <tr>\n",
       "      <th>1</th>\n",
       "      <td>0x5706708a015bbd47cb844ffa52aa272c08cf0166</td>\n",
       "      <td>207.400000</td>\n",
       "    </tr>\n",
       "    <tr>\n",
       "      <th>7</th>\n",
       "      <td>0xe4855ea1e26865247d412c0891184b535e2fb849</td>\n",
       "      <td>375.770000</td>\n",
       "    </tr>\n",
       "    <tr>\n",
       "      <th>8</th>\n",
       "      <td>0x7d544a853dbcd39a53315e7002f4951a6d2f080d</td>\n",
       "      <td>377.630576</td>\n",
       "    </tr>\n",
       "    <tr>\n",
       "      <th>6</th>\n",
       "      <td>0xd387a6e4e84a6c86bd90c158c6028a58cc8ac459</td>\n",
       "      <td>1631.380000</td>\n",
       "    </tr>\n",
       "  </tbody>\n",
       "</table>\n",
       "</div>"
      ],
      "text/plain": [
       "                            Transaction_person  Profit/Loss\n",
       "11  0xc1ff576b9f9254230970f4db0ac4c5f8b92d07e9  -356.797000\n",
       "10  0xa1707c82aa2866955991c7f2c6f431d6619b8b4c  -348.110000\n",
       "3   0x6a27af7f7a1d80fac6fb8f7e5cec9a88eff26ec6  -297.500000\n",
       "5   0x7a9fe22691c811ea339d9b73150e6911a5343dca  -268.290000\n",
       "9   0xb6dbbb6ddf875cb0b7d4328e2d8c33632173f295  -251.978900\n",
       "4   0x1e5ce6f088fd0adb4fcff31cfb02a61503311be9  -210.000000\n",
       "2   0xff0bd4aa3496739d5667adc10e2b843dfab5712b   -18.064500\n",
       "0   0xd7d870220a28d01f2fe914f06f0418c8bbe7b261   145.000000\n",
       "1   0x5706708a015bbd47cb844ffa52aa272c08cf0166   207.400000\n",
       "7   0xe4855ea1e26865247d412c0891184b535e2fb849   375.770000\n",
       "8   0x7d544a853dbcd39a53315e7002f4951a6d2f080d   377.630576\n",
       "6   0xd387a6e4e84a6c86bd90c158c6028a58cc8ac459  1631.380000"
      ]
     },
     "execution_count": 128,
     "metadata": {},
     "output_type": "execute_result"
    }
   ],
   "source": [
    "profit_df.sort_values(by='Profit/Loss')"
   ]
  },
  {
   "cell_type": "code",
   "execution_count": 130,
   "id": "e218ce03-64c6-4350-8b34-1b105b523729",
   "metadata": {},
   "outputs": [
    {
     "name": "stderr",
     "output_type": "stream",
     "text": [
      "<ipython-input-130-ec4809595b7b>:1: UserWarning: Boolean Series key will be reindexed to match DataFrame index.\n",
      "  sales_ETH[sales['EVENT_FROM']==txn_top_seller1].count()\n"
     ]
    },
    {
     "data": {
      "text/plain": [
       "BLOCK_TIMESTAMP    681\n",
       "EVENT_FROM         681\n",
       "EVENT_TO           681\n",
       "PRICE              681\n",
       "PROJECT_NAME       681\n",
       "TOKEN_ID           681\n",
       "TX_CURRENCY        681\n",
       "TX_ID              681\n",
       "Date               681\n",
       "dtype: int64"
      ]
     },
     "execution_count": 130,
     "metadata": {},
     "output_type": "execute_result"
    }
   ],
   "source": [
    "sales_ETH[sales['EVENT_FROM']==txn_top_seller1].count()"
   ]
  },
  {
   "cell_type": "code",
   "execution_count": 131,
   "id": "23053ec3-5b1a-49c7-9f09-c66fb7f1773c",
   "metadata": {},
   "outputs": [
    {
     "name": "stderr",
     "output_type": "stream",
     "text": [
      "<ipython-input-131-58245ae66f69>:1: UserWarning: Boolean Series key will be reindexed to match DataFrame index.\n",
      "  sales_ETH[sales['EVENT_TO']==txn_top_seller1].count()\n"
     ]
    },
    {
     "data": {
      "text/plain": [
       "BLOCK_TIMESTAMP    7\n",
       "EVENT_FROM         7\n",
       "EVENT_TO           7\n",
       "PRICE              7\n",
       "PROJECT_NAME       7\n",
       "TOKEN_ID           7\n",
       "TX_CURRENCY        7\n",
       "TX_ID              7\n",
       "Date               7\n",
       "dtype: int64"
      ]
     },
     "execution_count": 131,
     "metadata": {},
     "output_type": "execute_result"
    }
   ],
   "source": [
    "sales_ETH[sales['EVENT_TO']==txn_top_seller1].count()"
   ]
  },
  {
   "cell_type": "code",
   "execution_count": 132,
   "id": "01365076-5324-4b91-9f75-4c17fa3121f4",
   "metadata": {},
   "outputs": [
    {
     "name": "stderr",
     "output_type": "stream",
     "text": [
      "<ipython-input-132-35f72ef0d881>:1: UserWarning: Boolean Series key will be reindexed to match DataFrame index.\n",
      "  sales_ETH[sales['EVENT_TO']==txn_top_seller1]\n"
     ]
    },
    {
     "data": {
      "text/html": [
       "<div>\n",
       "<style scoped>\n",
       "    .dataframe tbody tr th:only-of-type {\n",
       "        vertical-align: middle;\n",
       "    }\n",
       "\n",
       "    .dataframe tbody tr th {\n",
       "        vertical-align: top;\n",
       "    }\n",
       "\n",
       "    .dataframe thead th {\n",
       "        text-align: right;\n",
       "    }\n",
       "</style>\n",
       "<table border=\"1\" class=\"dataframe\">\n",
       "  <thead>\n",
       "    <tr style=\"text-align: right;\">\n",
       "      <th></th>\n",
       "      <th>BLOCK_TIMESTAMP</th>\n",
       "      <th>EVENT_FROM</th>\n",
       "      <th>EVENT_TO</th>\n",
       "      <th>PRICE</th>\n",
       "      <th>PROJECT_NAME</th>\n",
       "      <th>TOKEN_ID</th>\n",
       "      <th>TX_CURRENCY</th>\n",
       "      <th>TX_ID</th>\n",
       "      <th>Date</th>\n",
       "    </tr>\n",
       "  </thead>\n",
       "  <tbody>\n",
       "    <tr>\n",
       "      <th>848</th>\n",
       "      <td>2022-01-12 21:55:38</td>\n",
       "      <td>0x20f7cb624845f37b7bbf1db1af1ef71d8c5c8661</td>\n",
       "      <td>0xd387a6e4e84a6c86bd90c158c6028a58cc8ac459</td>\n",
       "      <td>21.00</td>\n",
       "      <td>World_Of_Women</td>\n",
       "      <td>9034</td>\n",
       "      <td>ETH</td>\n",
       "      <td>0x1887441792998784c76b28ca718b1efc0bbadc917245...</td>\n",
       "      <td>2022-01-12</td>\n",
       "    </tr>\n",
       "    <tr>\n",
       "      <th>840</th>\n",
       "      <td>2022-01-12 22:02:29</td>\n",
       "      <td>0x28ac9e4eeca87b5310cb64fbe8ff22f498deae07</td>\n",
       "      <td>0xd387a6e4e84a6c86bd90c158c6028a58cc8ac459</td>\n",
       "      <td>9.90</td>\n",
       "      <td>World_Of_Women</td>\n",
       "      <td>9913</td>\n",
       "      <td>ETH</td>\n",
       "      <td>0x364e026b0d772b107ef94cb9a6f4ec9f04ec7b25adda...</td>\n",
       "      <td>2022-01-12</td>\n",
       "    </tr>\n",
       "    <tr>\n",
       "      <th>837</th>\n",
       "      <td>2022-01-12 22:05:22</td>\n",
       "      <td>0x500d4fcbc6dc7ee9cea0cccf9d533de7f9228f57</td>\n",
       "      <td>0xd387a6e4e84a6c86bd90c158c6028a58cc8ac459</td>\n",
       "      <td>15.00</td>\n",
       "      <td>World_Of_Women</td>\n",
       "      <td>3803</td>\n",
       "      <td>ETH</td>\n",
       "      <td>0x65857d0d695a3c6313d158fdedabec16ea5d74c2489d...</td>\n",
       "      <td>2022-01-12</td>\n",
       "    </tr>\n",
       "    <tr>\n",
       "      <th>834</th>\n",
       "      <td>2022-01-12 22:09:23</td>\n",
       "      <td>0x4a8d3ea24af43e1d9af5f79fe58c9b9ed3a3e2d4</td>\n",
       "      <td>0xd387a6e4e84a6c86bd90c158c6028a58cc8ac459</td>\n",
       "      <td>6.99</td>\n",
       "      <td>World_Of_Women</td>\n",
       "      <td>3083</td>\n",
       "      <td>ETH</td>\n",
       "      <td>0x14928a6e5e857ee8e150697ccf61dc1412116ef92ba3...</td>\n",
       "      <td>2022-01-12</td>\n",
       "    </tr>\n",
       "    <tr>\n",
       "      <th>828</th>\n",
       "      <td>2022-01-12 22:14:22</td>\n",
       "      <td>0xb3aa9923489bc2bfec323bf05346acd4afbc92a0</td>\n",
       "      <td>0xd387a6e4e84a6c86bd90c158c6028a58cc8ac459</td>\n",
       "      <td>6.00</td>\n",
       "      <td>World_Of_Women</td>\n",
       "      <td>7826</td>\n",
       "      <td>ETH</td>\n",
       "      <td>0x235cd0392cb9bce1048110e48aaf0b0eaabc1f17f6b0...</td>\n",
       "      <td>2022-01-12</td>\n",
       "    </tr>\n",
       "    <tr>\n",
       "      <th>825</th>\n",
       "      <td>2022-01-12 22:17:10</td>\n",
       "      <td>0x9a6801956fa07f2aa6ad3d4767088d78edf1d3dd</td>\n",
       "      <td>0xd387a6e4e84a6c86bd90c158c6028a58cc8ac459</td>\n",
       "      <td>16.00</td>\n",
       "      <td>World_Of_Women</td>\n",
       "      <td>6529</td>\n",
       "      <td>ETH</td>\n",
       "      <td>0x522a1a268c6ab6b99ab8a2b4022e11df1c95c4f7057d...</td>\n",
       "      <td>2022-01-12</td>\n",
       "    </tr>\n",
       "    <tr>\n",
       "      <th>824</th>\n",
       "      <td>2022-01-12 22:17:10</td>\n",
       "      <td>0x25aaf13451e66f4f322a6105f7b295d1a7e9da96</td>\n",
       "      <td>0xd387a6e4e84a6c86bd90c158c6028a58cc8ac459</td>\n",
       "      <td>8.69</td>\n",
       "      <td>World_Of_Women</td>\n",
       "      <td>4717</td>\n",
       "      <td>ETH</td>\n",
       "      <td>0x7d32daf90dc75a2042d8092a486254b70d528109e7f8...</td>\n",
       "      <td>2022-01-12</td>\n",
       "    </tr>\n",
       "  </tbody>\n",
       "</table>\n",
       "</div>"
      ],
      "text/plain": [
       "        BLOCK_TIMESTAMP                                  EVENT_FROM  \\\n",
       "848 2022-01-12 21:55:38  0x20f7cb624845f37b7bbf1db1af1ef71d8c5c8661   \n",
       "840 2022-01-12 22:02:29  0x28ac9e4eeca87b5310cb64fbe8ff22f498deae07   \n",
       "837 2022-01-12 22:05:22  0x500d4fcbc6dc7ee9cea0cccf9d533de7f9228f57   \n",
       "834 2022-01-12 22:09:23  0x4a8d3ea24af43e1d9af5f79fe58c9b9ed3a3e2d4   \n",
       "828 2022-01-12 22:14:22  0xb3aa9923489bc2bfec323bf05346acd4afbc92a0   \n",
       "825 2022-01-12 22:17:10  0x9a6801956fa07f2aa6ad3d4767088d78edf1d3dd   \n",
       "824 2022-01-12 22:17:10  0x25aaf13451e66f4f322a6105f7b295d1a7e9da96   \n",
       "\n",
       "                                       EVENT_TO  PRICE    PROJECT_NAME  \\\n",
       "848  0xd387a6e4e84a6c86bd90c158c6028a58cc8ac459  21.00  World_Of_Women   \n",
       "840  0xd387a6e4e84a6c86bd90c158c6028a58cc8ac459   9.90  World_Of_Women   \n",
       "837  0xd387a6e4e84a6c86bd90c158c6028a58cc8ac459  15.00  World_Of_Women   \n",
       "834  0xd387a6e4e84a6c86bd90c158c6028a58cc8ac459   6.99  World_Of_Women   \n",
       "828  0xd387a6e4e84a6c86bd90c158c6028a58cc8ac459   6.00  World_Of_Women   \n",
       "825  0xd387a6e4e84a6c86bd90c158c6028a58cc8ac459  16.00  World_Of_Women   \n",
       "824  0xd387a6e4e84a6c86bd90c158c6028a58cc8ac459   8.69  World_Of_Women   \n",
       "\n",
       "     TOKEN_ID TX_CURRENCY                                              TX_ID  \\\n",
       "848      9034         ETH  0x1887441792998784c76b28ca718b1efc0bbadc917245...   \n",
       "840      9913         ETH  0x364e026b0d772b107ef94cb9a6f4ec9f04ec7b25adda...   \n",
       "837      3803         ETH  0x65857d0d695a3c6313d158fdedabec16ea5d74c2489d...   \n",
       "834      3083         ETH  0x14928a6e5e857ee8e150697ccf61dc1412116ef92ba3...   \n",
       "828      7826         ETH  0x235cd0392cb9bce1048110e48aaf0b0eaabc1f17f6b0...   \n",
       "825      6529         ETH  0x522a1a268c6ab6b99ab8a2b4022e11df1c95c4f7057d...   \n",
       "824      4717         ETH  0x7d32daf90dc75a2042d8092a486254b70d528109e7f8...   \n",
       "\n",
       "          Date  \n",
       "848 2022-01-12  \n",
       "840 2022-01-12  \n",
       "837 2022-01-12  \n",
       "834 2022-01-12  \n",
       "828 2022-01-12  \n",
       "825 2022-01-12  \n",
       "824 2022-01-12  "
      ]
     },
     "execution_count": 132,
     "metadata": {},
     "output_type": "execute_result"
    }
   ],
   "source": [
    "sales_ETH[sales['EVENT_TO']==txn_top_seller1]"
   ]
  },
  {
   "cell_type": "code",
   "execution_count": 134,
   "id": "3eec511c-12e8-456b-b4b0-10b60fb9eba0",
   "metadata": {},
   "outputs": [
    {
     "name": "stderr",
     "output_type": "stream",
     "text": [
      "<ipython-input-134-fdd4a747eac3>:1: UserWarning: Boolean Series key will be reindexed to match DataFrame index.\n",
      "  sales_ETH[sales['EVENT_TO']==txn_top_seller1]['PRICE'].mean()\n"
     ]
    },
    {
     "data": {
      "text/plain": [
       "11.94"
      ]
     },
     "execution_count": 134,
     "metadata": {},
     "output_type": "execute_result"
    }
   ],
   "source": [
    "sales_ETH[sales['EVENT_TO']==txn_top_seller1]['PRICE'].mean()"
   ]
  },
  {
   "cell_type": "code",
   "execution_count": 142,
   "id": "b78057ad-a882-4526-a3e6-bb27678bdd5a",
   "metadata": {},
   "outputs": [
    {
     "name": "stderr",
     "output_type": "stream",
     "text": [
      "<ipython-input-142-5311df60ece9>:1: UserWarning: Boolean Series key will be reindexed to match DataFrame index.\n",
      "  sales_ETH[sales['EVENT_FROM']==txn_top_seller1]\n"
     ]
    },
    {
     "data": {
      "text/html": [
       "<div>\n",
       "<style scoped>\n",
       "    .dataframe tbody tr th:only-of-type {\n",
       "        vertical-align: middle;\n",
       "    }\n",
       "\n",
       "    .dataframe tbody tr th {\n",
       "        vertical-align: top;\n",
       "    }\n",
       "\n",
       "    .dataframe thead th {\n",
       "        text-align: right;\n",
       "    }\n",
       "</style>\n",
       "<table border=\"1\" class=\"dataframe\">\n",
       "  <thead>\n",
       "    <tr style=\"text-align: right;\">\n",
       "      <th></th>\n",
       "      <th>BLOCK_TIMESTAMP</th>\n",
       "      <th>EVENT_FROM</th>\n",
       "      <th>EVENT_TO</th>\n",
       "      <th>PRICE</th>\n",
       "      <th>PROJECT_NAME</th>\n",
       "      <th>TOKEN_ID</th>\n",
       "      <th>TX_CURRENCY</th>\n",
       "      <th>TX_ID</th>\n",
       "      <th>Date</th>\n",
       "    </tr>\n",
       "  </thead>\n",
       "  <tbody>\n",
       "    <tr>\n",
       "      <th>15443</th>\n",
       "      <td>2021-08-01 22:04:46</td>\n",
       "      <td>0xd387a6e4e84a6c86bd90c158c6028a58cc8ac459</td>\n",
       "      <td>0x9986e762da03b2122c0f7d7a7c5491ad0b7c2fdf</td>\n",
       "      <td>1.40</td>\n",
       "      <td>World_Of_Women</td>\n",
       "      <td>6604</td>\n",
       "      <td>ETH</td>\n",
       "      <td>0x2285f9966cbb5e1c9af09241e6f362455cf2cb7d880c...</td>\n",
       "      <td>2021-08-01</td>\n",
       "    </tr>\n",
       "    <tr>\n",
       "      <th>15411</th>\n",
       "      <td>2021-08-01 22:22:03</td>\n",
       "      <td>0xd387a6e4e84a6c86bd90c158c6028a58cc8ac459</td>\n",
       "      <td>0xe16dce8e44b310953255ffeaa9086f1e3600e999</td>\n",
       "      <td>1.00</td>\n",
       "      <td>World_Of_Women</td>\n",
       "      <td>7211</td>\n",
       "      <td>ETH</td>\n",
       "      <td>0x1e1fef897c71b19ff7a9884449520372deeea815be89...</td>\n",
       "      <td>2021-08-01</td>\n",
       "    </tr>\n",
       "    <tr>\n",
       "      <th>15404</th>\n",
       "      <td>2021-08-01 22:29:10</td>\n",
       "      <td>0xd387a6e4e84a6c86bd90c158c6028a58cc8ac459</td>\n",
       "      <td>0xc6783ef814540c0b6565982febbc0fc5bcbdd1e6</td>\n",
       "      <td>1.00</td>\n",
       "      <td>World_Of_Women</td>\n",
       "      <td>7212</td>\n",
       "      <td>ETH</td>\n",
       "      <td>0x21cd350633952f6d61e9b7b2f19f53ce11f01b66b7ed...</td>\n",
       "      <td>2021-08-01</td>\n",
       "    </tr>\n",
       "    <tr>\n",
       "      <th>15403</th>\n",
       "      <td>2021-08-01 22:30:10</td>\n",
       "      <td>0xd387a6e4e84a6c86bd90c158c6028a58cc8ac459</td>\n",
       "      <td>0xe16dce8e44b310953255ffeaa9086f1e3600e999</td>\n",
       "      <td>1.00</td>\n",
       "      <td>World_Of_Women</td>\n",
       "      <td>7090</td>\n",
       "      <td>ETH</td>\n",
       "      <td>0xf5fce6ca1e67daf091f02e0343610cb64f89bc0d48ec...</td>\n",
       "      <td>2021-08-01</td>\n",
       "    </tr>\n",
       "    <tr>\n",
       "      <th>15398</th>\n",
       "      <td>2021-08-01 22:36:13</td>\n",
       "      <td>0xd387a6e4e84a6c86bd90c158c6028a58cc8ac459</td>\n",
       "      <td>0xc6783ef814540c0b6565982febbc0fc5bcbdd1e6</td>\n",
       "      <td>1.00</td>\n",
       "      <td>World_Of_Women</td>\n",
       "      <td>7002</td>\n",
       "      <td>ETH</td>\n",
       "      <td>0xcc091e370592c879b029bdef7225b5b92c249c32456a...</td>\n",
       "      <td>2021-08-01</td>\n",
       "    </tr>\n",
       "    <tr>\n",
       "      <th>...</th>\n",
       "      <td>...</td>\n",
       "      <td>...</td>\n",
       "      <td>...</td>\n",
       "      <td>...</td>\n",
       "      <td>...</td>\n",
       "      <td>...</td>\n",
       "      <td>...</td>\n",
       "      <td>...</td>\n",
       "      <td>...</td>\n",
       "    </tr>\n",
       "    <tr>\n",
       "      <th>826</th>\n",
       "      <td>2022-01-12 22:16:45</td>\n",
       "      <td>0xd387a6e4e84a6c86bd90c158c6028a58cc8ac459</td>\n",
       "      <td>0xdb01fedf75c733a46ae97676445b6180d8826455</td>\n",
       "      <td>5.79</td>\n",
       "      <td>World_Of_Women</td>\n",
       "      <td>7264</td>\n",
       "      <td>ETH</td>\n",
       "      <td>0x28a4c1a996c1ed997ddf6cb87880b4b46db3b8f73e5c...</td>\n",
       "      <td>2022-01-12</td>\n",
       "    </tr>\n",
       "    <tr>\n",
       "      <th>820</th>\n",
       "      <td>2022-01-12 22:21:11</td>\n",
       "      <td>0xd387a6e4e84a6c86bd90c158c6028a58cc8ac459</td>\n",
       "      <td>0xfe3107bbba13af26d6a38c19c5a24790d8c6eabe</td>\n",
       "      <td>5.79</td>\n",
       "      <td>World_Of_Women</td>\n",
       "      <td>7341</td>\n",
       "      <td>ETH</td>\n",
       "      <td>0xdc89d222f71f0ba7bcdec6e4cdff84341d7477d50f00...</td>\n",
       "      <td>2022-01-12</td>\n",
       "    </tr>\n",
       "    <tr>\n",
       "      <th>819</th>\n",
       "      <td>2022-01-12 22:21:55</td>\n",
       "      <td>0xd387a6e4e84a6c86bd90c158c6028a58cc8ac459</td>\n",
       "      <td>0x129ebef6f5b9f58bcc1ab237bcdb4735d7e9d14f</td>\n",
       "      <td>5.79</td>\n",
       "      <td>World_Of_Women</td>\n",
       "      <td>7365</td>\n",
       "      <td>ETH</td>\n",
       "      <td>0xa673b3bac0bcd8ae84f2bcd0c9eee36da84c30177261...</td>\n",
       "      <td>2022-01-12</td>\n",
       "    </tr>\n",
       "    <tr>\n",
       "      <th>818</th>\n",
       "      <td>2022-01-12 22:24:23</td>\n",
       "      <td>0xd387a6e4e84a6c86bd90c158c6028a58cc8ac459</td>\n",
       "      <td>0x1fb6b92fb25dbb68dbfb45bdd0f58561961aaa15</td>\n",
       "      <td>5.79</td>\n",
       "      <td>World_Of_Women</td>\n",
       "      <td>7692</td>\n",
       "      <td>ETH</td>\n",
       "      <td>0xcb16c223eb1311c432332562c8a600d6edb2965400ad...</td>\n",
       "      <td>2022-01-12</td>\n",
       "    </tr>\n",
       "    <tr>\n",
       "      <th>815</th>\n",
       "      <td>2022-01-12 22:26:24</td>\n",
       "      <td>0xd387a6e4e84a6c86bd90c158c6028a58cc8ac459</td>\n",
       "      <td>0x161b293e8252eeb3c30edca8d8c34c2b73ac8375</td>\n",
       "      <td>5.99</td>\n",
       "      <td>World_Of_Women</td>\n",
       "      <td>7392</td>\n",
       "      <td>ETH</td>\n",
       "      <td>0xc9aeb9b58be52043dd4b6c866ececa26efbf55b1d8cf...</td>\n",
       "      <td>2022-01-12</td>\n",
       "    </tr>\n",
       "  </tbody>\n",
       "</table>\n",
       "<p>681 rows × 9 columns</p>\n",
       "</div>"
      ],
      "text/plain": [
       "          BLOCK_TIMESTAMP                                  EVENT_FROM  \\\n",
       "15443 2021-08-01 22:04:46  0xd387a6e4e84a6c86bd90c158c6028a58cc8ac459   \n",
       "15411 2021-08-01 22:22:03  0xd387a6e4e84a6c86bd90c158c6028a58cc8ac459   \n",
       "15404 2021-08-01 22:29:10  0xd387a6e4e84a6c86bd90c158c6028a58cc8ac459   \n",
       "15403 2021-08-01 22:30:10  0xd387a6e4e84a6c86bd90c158c6028a58cc8ac459   \n",
       "15398 2021-08-01 22:36:13  0xd387a6e4e84a6c86bd90c158c6028a58cc8ac459   \n",
       "...                   ...                                         ...   \n",
       "826   2022-01-12 22:16:45  0xd387a6e4e84a6c86bd90c158c6028a58cc8ac459   \n",
       "820   2022-01-12 22:21:11  0xd387a6e4e84a6c86bd90c158c6028a58cc8ac459   \n",
       "819   2022-01-12 22:21:55  0xd387a6e4e84a6c86bd90c158c6028a58cc8ac459   \n",
       "818   2022-01-12 22:24:23  0xd387a6e4e84a6c86bd90c158c6028a58cc8ac459   \n",
       "815   2022-01-12 22:26:24  0xd387a6e4e84a6c86bd90c158c6028a58cc8ac459   \n",
       "\n",
       "                                         EVENT_TO  PRICE    PROJECT_NAME  \\\n",
       "15443  0x9986e762da03b2122c0f7d7a7c5491ad0b7c2fdf   1.40  World_Of_Women   \n",
       "15411  0xe16dce8e44b310953255ffeaa9086f1e3600e999   1.00  World_Of_Women   \n",
       "15404  0xc6783ef814540c0b6565982febbc0fc5bcbdd1e6   1.00  World_Of_Women   \n",
       "15403  0xe16dce8e44b310953255ffeaa9086f1e3600e999   1.00  World_Of_Women   \n",
       "15398  0xc6783ef814540c0b6565982febbc0fc5bcbdd1e6   1.00  World_Of_Women   \n",
       "...                                           ...    ...             ...   \n",
       "826    0xdb01fedf75c733a46ae97676445b6180d8826455   5.79  World_Of_Women   \n",
       "820    0xfe3107bbba13af26d6a38c19c5a24790d8c6eabe   5.79  World_Of_Women   \n",
       "819    0x129ebef6f5b9f58bcc1ab237bcdb4735d7e9d14f   5.79  World_Of_Women   \n",
       "818    0x1fb6b92fb25dbb68dbfb45bdd0f58561961aaa15   5.79  World_Of_Women   \n",
       "815    0x161b293e8252eeb3c30edca8d8c34c2b73ac8375   5.99  World_Of_Women   \n",
       "\n",
       "       TOKEN_ID TX_CURRENCY  \\\n",
       "15443      6604         ETH   \n",
       "15411      7211         ETH   \n",
       "15404      7212         ETH   \n",
       "15403      7090         ETH   \n",
       "15398      7002         ETH   \n",
       "...         ...         ...   \n",
       "826        7264         ETH   \n",
       "820        7341         ETH   \n",
       "819        7365         ETH   \n",
       "818        7692         ETH   \n",
       "815        7392         ETH   \n",
       "\n",
       "                                                   TX_ID       Date  \n",
       "15443  0x2285f9966cbb5e1c9af09241e6f362455cf2cb7d880c... 2021-08-01  \n",
       "15411  0x1e1fef897c71b19ff7a9884449520372deeea815be89... 2021-08-01  \n",
       "15404  0x21cd350633952f6d61e9b7b2f19f53ce11f01b66b7ed... 2021-08-01  \n",
       "15403  0xf5fce6ca1e67daf091f02e0343610cb64f89bc0d48ec... 2021-08-01  \n",
       "15398  0xcc091e370592c879b029bdef7225b5b92c249c32456a... 2021-08-01  \n",
       "...                                                  ...        ...  \n",
       "826    0x28a4c1a996c1ed997ddf6cb87880b4b46db3b8f73e5c... 2022-01-12  \n",
       "820    0xdc89d222f71f0ba7bcdec6e4cdff84341d7477d50f00... 2022-01-12  \n",
       "819    0xa673b3bac0bcd8ae84f2bcd0c9eee36da84c30177261... 2022-01-12  \n",
       "818    0xcb16c223eb1311c432332562c8a600d6edb2965400ad... 2022-01-12  \n",
       "815    0xc9aeb9b58be52043dd4b6c866ececa26efbf55b1d8cf... 2022-01-12  \n",
       "\n",
       "[681 rows x 9 columns]"
      ]
     },
     "execution_count": 142,
     "metadata": {},
     "output_type": "execute_result"
    }
   ],
   "source": [
    "sales_ETH[sales['EVENT_FROM']==txn_top_seller1]"
   ]
  },
  {
   "cell_type": "code",
   "execution_count": 138,
   "id": "5bf8290e-c17a-4b25-a53e-d7a90af7f020",
   "metadata": {},
   "outputs": [
    {
     "name": "stderr",
     "output_type": "stream",
     "text": [
      "<ipython-input-138-1d89cdc59581>:1: UserWarning: Boolean Series key will be reindexed to match DataFrame index.\n",
      "  sales_ETH[sales['EVENT_FROM']==txn_top_seller1]['PRICE'].mean()\n"
     ]
    },
    {
     "data": {
      "text/plain": [
       "2.518296622613806"
      ]
     },
     "execution_count": 138,
     "metadata": {},
     "output_type": "execute_result"
    }
   ],
   "source": [
    "sales_ETH[sales['EVENT_FROM']==txn_top_seller1]['PRICE'].mean()"
   ]
  },
  {
   "cell_type": "code",
   "execution_count": 139,
   "id": "77a94e2d-cb6e-46f0-9a90-8512eb38c631",
   "metadata": {},
   "outputs": [
    {
     "name": "stderr",
     "output_type": "stream",
     "text": [
      "<ipython-input-139-8d5c205b0b7f>:1: UserWarning: Boolean Series key will be reindexed to match DataFrame index.\n",
      "  sales_ETH[sales['EVENT_FROM']==txn_top_seller1]['PRICE'].max()\n"
     ]
    },
    {
     "data": {
      "text/plain": [
       "20.0"
      ]
     },
     "execution_count": 139,
     "metadata": {},
     "output_type": "execute_result"
    }
   ],
   "source": [
    "sales_ETH[sales['EVENT_FROM']==txn_top_seller1]['PRICE'].max()"
   ]
  },
  {
   "cell_type": "code",
   "execution_count": 140,
   "id": "e9aa2677-8cff-40cc-b31b-6d8c667f08a9",
   "metadata": {},
   "outputs": [
    {
     "name": "stderr",
     "output_type": "stream",
     "text": [
      "<ipython-input-140-9f66073378fa>:1: UserWarning: Boolean Series key will be reindexed to match DataFrame index.\n",
      "  sales_ETH[sales['EVENT_FROM']==txn_top_seller1]['PRICE'].min()\n"
     ]
    },
    {
     "data": {
      "text/plain": [
       "1.0"
      ]
     },
     "execution_count": 140,
     "metadata": {},
     "output_type": "execute_result"
    }
   ],
   "source": [
    "sales_ETH[sales['EVENT_FROM']==txn_top_seller1]['PRICE'].min()"
   ]
  },
  {
   "cell_type": "code",
   "execution_count": 133,
   "id": "583225d4-6dad-4d0f-b003-fef1320b5af0",
   "metadata": {},
   "outputs": [],
   "source": [
    "# Higher profit made in WoW NFT is made by '0xd387a6e4e84a6c86bd90c158c6028a58cc8ac459'. Profit made is 1631.38 ETH. The pseron has done 149 selling  transaction during the JAN peak(txn_top_seller1).\n",
    "#Overall did 681  selling and bought 7 times."
   ]
  },
  {
   "cell_type": "code",
   "execution_count": 144,
   "id": "28e15b19-730c-4f34-9d57-16ba1d628765",
   "metadata": {},
   "outputs": [],
   "source": [
    "#Selling between: started in August 2021 till Jan 2022\n",
    "#Selling average value: 2.5 ETH\n",
    "#Selling max value: 20 ETH\n",
    "#Selling min value: 1 ETH"
   ]
  },
  {
   "cell_type": "code",
   "execution_count": 136,
   "id": "c6ca02ca-6f4c-4c23-a9d1-70515069c58e",
   "metadata": {},
   "outputs": [],
   "source": [
    "#Buying between: Jan 2022\n",
    "#Buying average value: 11.94 ETH\n"
   ]
  },
  {
   "cell_type": "code",
   "execution_count": 145,
   "id": "cf30ea86-4d6c-4df5-97cb-9a5e6eda1724",
   "metadata": {},
   "outputs": [],
   "source": [
    "#Conclusion:\n",
    "#Since WoW was released in 27th July 2021, this person could be:\n",
    "#1. the person who minted the NFT \n",
    "#2. Creator of some of the projects \n",
    "#3. May have bought from a different wallet and transferred "
   ]
  },
  {
   "cell_type": "code",
   "execution_count": 146,
   "id": "22fb29c1-e82f-45b2-bae5-ef979fbcc93e",
   "metadata": {},
   "outputs": [],
   "source": [
    "#Analysing poeple who made the second and third highest profit"
   ]
  },
  {
   "cell_type": "code",
   "execution_count": 150,
   "id": "2a251535-f52c-470a-b14b-87426006d88d",
   "metadata": {},
   "outputs": [
    {
     "name": "stderr",
     "output_type": "stream",
     "text": [
      "<ipython-input-150-05d004996417>:1: UserWarning: Boolean Series key will be reindexed to match DataFrame index.\n",
      "  len(sales_ETH[sales['EVENT_FROM']==txn_top_seller2])\n"
     ]
    },
    {
     "data": {
      "text/plain": [
       "50"
      ]
     },
     "execution_count": 150,
     "metadata": {},
     "output_type": "execute_result"
    }
   ],
   "source": [
    "len(sales_ETH[sales['EVENT_FROM']==txn_top_seller2])"
   ]
  },
  {
   "cell_type": "code",
   "execution_count": 151,
   "id": "f1e14964-9612-4576-ab01-8f0f22c4f26a",
   "metadata": {},
   "outputs": [
    {
     "name": "stderr",
     "output_type": "stream",
     "text": [
      "<ipython-input-151-446e587f110b>:1: UserWarning: Boolean Series key will be reindexed to match DataFrame index.\n",
      "  len(sales_ETH[sales['EVENT_TO']==txn_top_seller2])\n"
     ]
    },
    {
     "data": {
      "text/plain": [
       "2"
      ]
     },
     "execution_count": 151,
     "metadata": {},
     "output_type": "execute_result"
    }
   ],
   "source": [
    "len(sales_ETH[sales['EVENT_TO']==txn_top_seller2])"
   ]
  },
  {
   "cell_type": "code",
   "execution_count": 152,
   "id": "6f351a8c-9953-4074-a841-553d158fe9ec",
   "metadata": {},
   "outputs": [
    {
     "name": "stderr",
     "output_type": "stream",
     "text": [
      "<ipython-input-152-ac825bd03099>:1: UserWarning: Boolean Series key will be reindexed to match DataFrame index.\n",
      "  sales_ETH[sales['EVENT_FROM']==txn_top_seller2]['PRICE'].mean()\n"
     ]
    },
    {
     "data": {
      "text/plain": [
       "7.7654000000000005"
      ]
     },
     "execution_count": 152,
     "metadata": {},
     "output_type": "execute_result"
    }
   ],
   "source": [
    "sales_ETH[sales['EVENT_FROM']==txn_top_seller2]['PRICE'].mean()"
   ]
  },
  {
   "cell_type": "code",
   "execution_count": 162,
   "id": "7aff323f-338f-41a4-9634-8d4750261cc7",
   "metadata": {},
   "outputs": [
    {
     "name": "stderr",
     "output_type": "stream",
     "text": [
      "<ipython-input-162-7fb4fef7afcf>:1: UserWarning: Boolean Series key will be reindexed to match DataFrame index.\n",
      "  sales_ETH[sales['EVENT_TO']==txn_top_seller2]['PRICE'].mean()\n"
     ]
    },
    {
     "data": {
      "text/plain": [
       "6.25"
      ]
     },
     "execution_count": 162,
     "metadata": {},
     "output_type": "execute_result"
    }
   ],
   "source": [
    "sales_ETH[sales['EVENT_TO']==txn_top_seller2]['PRICE'].mean()"
   ]
  },
  {
   "cell_type": "code",
   "execution_count": 166,
   "id": "ee1fd722-b32a-486b-86e5-d450bb69b758",
   "metadata": {},
   "outputs": [
    {
     "name": "stderr",
     "output_type": "stream",
     "text": [
      "<ipython-input-166-6c965a52402a>:1: UserWarning: Boolean Series key will be reindexed to match DataFrame index.\n",
      "  sales_ETH[sales['EVENT_TO']==txn_top_seller2]\n"
     ]
    },
    {
     "data": {
      "text/html": [
       "<div>\n",
       "<style scoped>\n",
       "    .dataframe tbody tr th:only-of-type {\n",
       "        vertical-align: middle;\n",
       "    }\n",
       "\n",
       "    .dataframe tbody tr th {\n",
       "        vertical-align: top;\n",
       "    }\n",
       "\n",
       "    .dataframe thead th {\n",
       "        text-align: right;\n",
       "    }\n",
       "</style>\n",
       "<table border=\"1\" class=\"dataframe\">\n",
       "  <thead>\n",
       "    <tr style=\"text-align: right;\">\n",
       "      <th></th>\n",
       "      <th>BLOCK_TIMESTAMP</th>\n",
       "      <th>EVENT_FROM</th>\n",
       "      <th>EVENT_TO</th>\n",
       "      <th>PRICE</th>\n",
       "      <th>PROJECT_NAME</th>\n",
       "      <th>TOKEN_ID</th>\n",
       "      <th>TX_CURRENCY</th>\n",
       "      <th>TX_ID</th>\n",
       "      <th>Date</th>\n",
       "    </tr>\n",
       "  </thead>\n",
       "  <tbody>\n",
       "    <tr>\n",
       "      <th>1763</th>\n",
       "      <td>2022-01-08 15:24:14</td>\n",
       "      <td>0x58abc26647541dca211928a0e45a43b4ce323979</td>\n",
       "      <td>0xe4855ea1e26865247d412c0891184b535e2fb849</td>\n",
       "      <td>4.0</td>\n",
       "      <td>World_Of_Women</td>\n",
       "      <td>8959</td>\n",
       "      <td>ETH</td>\n",
       "      <td>0x44bcbe13e87a94149ce5371189a5df5f93d57585f08c...</td>\n",
       "      <td>2022-01-08</td>\n",
       "    </tr>\n",
       "    <tr>\n",
       "      <th>737</th>\n",
       "      <td>2022-01-13 06:05:27</td>\n",
       "      <td>0xa05bca6f6d9c0bc2c3a597ac3f800eaf502aca66</td>\n",
       "      <td>0xe4855ea1e26865247d412c0891184b535e2fb849</td>\n",
       "      <td>8.5</td>\n",
       "      <td>World_Of_Women</td>\n",
       "      <td>1424</td>\n",
       "      <td>ETH</td>\n",
       "      <td>0xf240a7f8aaadee983247dbec09dd44a6b5b10941c0b6...</td>\n",
       "      <td>2022-01-13</td>\n",
       "    </tr>\n",
       "  </tbody>\n",
       "</table>\n",
       "</div>"
      ],
      "text/plain": [
       "         BLOCK_TIMESTAMP                                  EVENT_FROM  \\\n",
       "1763 2022-01-08 15:24:14  0x58abc26647541dca211928a0e45a43b4ce323979   \n",
       "737  2022-01-13 06:05:27  0xa05bca6f6d9c0bc2c3a597ac3f800eaf502aca66   \n",
       "\n",
       "                                        EVENT_TO  PRICE    PROJECT_NAME  \\\n",
       "1763  0xe4855ea1e26865247d412c0891184b535e2fb849    4.0  World_Of_Women   \n",
       "737   0xe4855ea1e26865247d412c0891184b535e2fb849    8.5  World_Of_Women   \n",
       "\n",
       "      TOKEN_ID TX_CURRENCY                                              TX_ID  \\\n",
       "1763      8959         ETH  0x44bcbe13e87a94149ce5371189a5df5f93d57585f08c...   \n",
       "737       1424         ETH  0xf240a7f8aaadee983247dbec09dd44a6b5b10941c0b6...   \n",
       "\n",
       "           Date  \n",
       "1763 2022-01-08  \n",
       "737  2022-01-13  "
      ]
     },
     "execution_count": 166,
     "metadata": {},
     "output_type": "execute_result"
    }
   ],
   "source": [
    "sales_ETH[sales['EVENT_TO']==txn_top_seller2]"
   ]
  },
  {
   "cell_type": "code",
   "execution_count": 158,
   "id": "9ab244b4-87c1-4135-b258-29c18ed685c5",
   "metadata": {},
   "outputs": [],
   "source": [
    "#Conclusion on third highest profit:\n",
    "#1. Made 50 sales and bought 2 times.\n",
    "#2. Similar persona as the person who made the highest profit"
   ]
  },
  {
   "cell_type": "code",
   "execution_count": 167,
   "id": "5548026c-89f4-4bcb-8c18-2df07d7efa70",
   "metadata": {},
   "outputs": [
    {
     "name": "stderr",
     "output_type": "stream",
     "text": [
      "<ipython-input-167-0be3906a9681>:1: UserWarning: Boolean Series key will be reindexed to match DataFrame index.\n",
      "  len(sales_ETH[sales['EVENT_FROM']==txn_top_seller3])\n"
     ]
    },
    {
     "data": {
      "text/plain": [
       "80"
      ]
     },
     "execution_count": 167,
     "metadata": {},
     "output_type": "execute_result"
    }
   ],
   "source": [
    "len(sales_ETH[sales['EVENT_FROM']==txn_top_seller3])"
   ]
  },
  {
   "cell_type": "code",
   "execution_count": 168,
   "id": "00d15bb4-c97c-413b-8157-89eef6d71491",
   "metadata": {},
   "outputs": [
    {
     "name": "stderr",
     "output_type": "stream",
     "text": [
      "<ipython-input-168-c76dafe30173>:1: UserWarning: Boolean Series key will be reindexed to match DataFrame index.\n",
      "  len(sales_ETH[sales['EVENT_TO']==txn_top_seller3])\n"
     ]
    },
    {
     "data": {
      "text/plain": [
       "117"
      ]
     },
     "execution_count": 168,
     "metadata": {},
     "output_type": "execute_result"
    }
   ],
   "source": [
    "len(sales_ETH[sales['EVENT_TO']==txn_top_seller3])"
   ]
  },
  {
   "cell_type": "code",
   "execution_count": 169,
   "id": "9aec7982-44b8-401e-a926-f91852963bd6",
   "metadata": {},
   "outputs": [
    {
     "name": "stderr",
     "output_type": "stream",
     "text": [
      "<ipython-input-169-cebbc2a05279>:1: UserWarning: Boolean Series key will be reindexed to match DataFrame index.\n",
      "  sales_ETH[sales['EVENT_FROM']==txn_top_seller3]['PRICE'].mean()\n"
     ]
    },
    {
     "data": {
      "text/plain": [
       "10.5425"
      ]
     },
     "execution_count": 169,
     "metadata": {},
     "output_type": "execute_result"
    }
   ],
   "source": [
    "sales_ETH[sales['EVENT_FROM']==txn_top_seller3]['PRICE'].mean()"
   ]
  },
  {
   "cell_type": "code",
   "execution_count": 170,
   "id": "8c1927ac-0e4e-4441-8b6b-4a08572057d0",
   "metadata": {},
   "outputs": [
    {
     "name": "stderr",
     "output_type": "stream",
     "text": [
      "<ipython-input-170-c91db856f10c>:1: UserWarning: Boolean Series key will be reindexed to match DataFrame index.\n",
      "  sales_ETH[sales['EVENT_TO']==txn_top_seller3]['PRICE'].mean()\n"
     ]
    },
    {
     "data": {
      "text/plain": [
       "3.980935251547009"
      ]
     },
     "execution_count": 170,
     "metadata": {},
     "output_type": "execute_result"
    }
   ],
   "source": [
    "sales_ETH[sales['EVENT_TO']==txn_top_seller3]['PRICE'].mean()"
   ]
  },
  {
   "cell_type": "code",
   "execution_count": null,
   "id": "b982384d-c9a0-4385-b82a-6fa7fde3c6f0",
   "metadata": {},
   "outputs": [],
   "source": [
    "#Selling graph on this person"
   ]
  },
  {
   "cell_type": "code",
   "execution_count": 184,
   "id": "253e23d3-7ef3-49a3-a52b-55ad976364e1",
   "metadata": {},
   "outputs": [],
   "source": [
    "top3_selling=sales_ETH[sales_ETH['EVENT_FROM']==txn_top_seller3]"
   ]
  },
  {
   "cell_type": "code",
   "execution_count": 185,
   "id": "7c7e6c29-43fe-4d19-9f5b-3dde147a8836",
   "metadata": {},
   "outputs": [
    {
     "data": {
      "image/png": "[encoded data removed]",
      "text/plain": [
       "<Figure size 720x504 with 1 Axes>"
      ]
     },
     "metadata": {
      "needs_background": "light"
     },
     "output_type": "display_data"
    }
   ],
   "source": [
    "fig=plt.figure(figsize=(10,7))\n",
    "ax3=fig.add_subplot(111)\n",
    "ax3.plot(top3_selling['Date'],top3_selling['PRICE'])\n",
    "plt.show()"
   ]
  },
  {
   "cell_type": "code",
   "execution_count": 175,
   "id": "8c1a10ff-689f-40e2-8b0d-2213e4929b76",
   "metadata": {},
   "outputs": [],
   "source": [
    "#Buying graph on this person"
   ]
  },
  {
   "cell_type": "code",
   "execution_count": 189,
   "id": "665d6638-91d8-4580-a416-df3716bfebf9",
   "metadata": {},
   "outputs": [],
   "source": [
    "top3_buying=sales_ETH[sales_ETH['EVENT_TO']==txn_top_seller3]"
   ]
  },
  {
   "cell_type": "code",
   "execution_count": 190,
   "id": "f9a91e2e-e3b2-4d0f-8bd4-fb3870b5db5c",
   "metadata": {},
   "outputs": [
    {
     "data": {
      "image/png": "[encoded data removed]",
      "text/plain": [
       "<Figure size 720x504 with 1 Axes>"
      ]
     },
     "metadata": {
      "needs_background": "light"
     },
     "output_type": "display_data"
    }
   ],
   "source": [
    "fig=plt.figure(figsize=(10,7))\n",
    "ax3=fig.add_subplot(111)\n",
    "ax3.plot(top3_buying['Date'],top3_buying['PRICE'])\n",
    "plt.show()"
   ]
  },
  {
   "cell_type": "code",
   "execution_count": 193,
   "id": "68682152-e0a2-4384-9a8a-3293d87812b3",
   "metadata": {},
   "outputs": [],
   "source": [
    "#Conclusion on second highest profit:\n",
    "#1. He has bought NFT's more number of times then have sold and managed to make a profit\n",
    "#2. His buying and selling pattern indicates the same trend as the overall trend with peaks in Jan 2022\n",
    "#3. However, it seems this person has bough NFT's in September 2021 thus being able to leverage the peaks than came in October and January.\n"
   ]
  },
  {
   "cell_type": "code",
   "execution_count": 237,
   "id": "06b31434-3d3e-4bbf-909f-eeab254a5cf7",
   "metadata": {},
   "outputs": [],
   "source": [
    "#Analysing NFT Owners"
   ]
  },
  {
   "cell_type": "code",
   "execution_count": 238,
   "id": "24652df1-8b81-48a8-ab2a-b082cc957314",
   "metadata": {},
   "outputs": [
    {
     "data": {
      "text/html": [
       "<div>\n",
       "<style scoped>\n",
       "    .dataframe tbody tr th:only-of-type {\n",
       "        vertical-align: middle;\n",
       "    }\n",
       "\n",
       "    .dataframe tbody tr th {\n",
       "        vertical-align: top;\n",
       "    }\n",
       "\n",
       "    .dataframe thead th {\n",
       "        text-align: right;\n",
       "    }\n",
       "</style>\n",
       "<table border=\"1\" class=\"dataframe\">\n",
       "  <thead>\n",
       "    <tr style=\"text-align: right;\">\n",
       "      <th></th>\n",
       "      <th>token_address</th>\n",
       "      <th>token_id</th>\n",
       "      <th>block_number_minted</th>\n",
       "      <th>owner_of</th>\n",
       "      <th>block_number</th>\n",
       "      <th>amount</th>\n",
       "      <th>contract_type</th>\n",
       "      <th>name</th>\n",
       "      <th>symbol</th>\n",
       "      <th>token_uri</th>\n",
       "      <th>metadata</th>\n",
       "      <th>synced_at</th>\n",
       "      <th>is_valid</th>\n",
       "      <th>syncing</th>\n",
       "      <th>frozen</th>\n",
       "    </tr>\n",
       "  </thead>\n",
       "  <tbody>\n",
       "    <tr>\n",
       "      <th>0</th>\n",
       "      <td>0xe785e82358879f061bc3dcac6f0444462d4b5330</td>\n",
       "      <td>6835</td>\n",
       "      <td>12912080</td>\n",
       "      <td>0x78958553a0297f3ad0137a619c33b10b318e8fcd</td>\n",
       "      <td>14159674</td>\n",
       "      <td>1</td>\n",
       "      <td>ERC721</td>\n",
       "      <td>World Of Women</td>\n",
       "      <td>WOW</td>\n",
       "      <td>https://wow-prod-nftribe.s3.eu-west-2.amazonaw...</td>\n",
       "      <td>{\"name\":\"Woman #6835\",\"description\":\"World of ...</td>\n",
       "      <td>2021-11-04 01:19:45.795000+00:00</td>\n",
       "      <td>1</td>\n",
       "      <td>2</td>\n",
       "      <td>0</td>\n",
       "    </tr>\n",
       "    <tr>\n",
       "      <th>1</th>\n",
       "      <td>0xe785e82358879f061bc3dcac6f0444462d4b5330</td>\n",
       "      <td>3656</td>\n",
       "      <td>12911657</td>\n",
       "      <td>0x5376c1a9ac4b94c83be0728482bbc7e9d99a1eaa</td>\n",
       "      <td>14159482</td>\n",
       "      <td>1</td>\n",
       "      <td>ERC721</td>\n",
       "      <td>World Of Women</td>\n",
       "      <td>WOW</td>\n",
       "      <td>https://wow-prod-nftribe.s3.eu-west-2.amazonaw...</td>\n",
       "      <td>{\"name\":\"Woman #3656\",\"description\":\"World of ...</td>\n",
       "      <td>2021-11-03 11:54:31.357000+00:00</td>\n",
       "      <td>1</td>\n",
       "      <td>2</td>\n",
       "      <td>0</td>\n",
       "    </tr>\n",
       "    <tr>\n",
       "      <th>2</th>\n",
       "      <td>0xe785e82358879f061bc3dcac6f0444462d4b5330</td>\n",
       "      <td>4664</td>\n",
       "      <td>12911830</td>\n",
       "      <td>0xc0bcbc0a91cd42e4808faf190e0ad6e9a6c027cc</td>\n",
       "      <td>14159285</td>\n",
       "      <td>1</td>\n",
       "      <td>ERC721</td>\n",
       "      <td>World Of Women</td>\n",
       "      <td>WOW</td>\n",
       "      <td>https://wow-prod-nftribe.s3.eu-west-2.amazonaw...</td>\n",
       "      <td>{\"name\":\"Woman #4664\",\"description\":\"World of ...</td>\n",
       "      <td>2021-11-10 00:21:47.279000+00:00</td>\n",
       "      <td>1</td>\n",
       "      <td>2</td>\n",
       "      <td>0</td>\n",
       "    </tr>\n",
       "    <tr>\n",
       "      <th>3</th>\n",
       "      <td>0xe785e82358879f061bc3dcac6f0444462d4b5330</td>\n",
       "      <td>4058</td>\n",
       "      <td>12911712</td>\n",
       "      <td>0xc0bcbc0a91cd42e4808faf190e0ad6e9a6c027cc</td>\n",
       "      <td>14159285</td>\n",
       "      <td>1</td>\n",
       "      <td>ERC721</td>\n",
       "      <td>World Of Women</td>\n",
       "      <td>WOW</td>\n",
       "      <td>https://wow-prod-nftribe.s3.eu-west-2.amazonaw...</td>\n",
       "      <td>{\"name\":\"Woman #4058\",\"description\":\"World of ...</td>\n",
       "      <td>2021-12-06 02:40:45.216000+00:00</td>\n",
       "      <td>1</td>\n",
       "      <td>2</td>\n",
       "      <td>0</td>\n",
       "    </tr>\n",
       "    <tr>\n",
       "      <th>4</th>\n",
       "      <td>0xe785e82358879f061bc3dcac6f0444462d4b5330</td>\n",
       "      <td>6269</td>\n",
       "      <td>12912043</td>\n",
       "      <td>0x658608458a84e426e34ae1a8bb83a9eb9075e950</td>\n",
       "      <td>14159228</td>\n",
       "      <td>1</td>\n",
       "      <td>ERC721</td>\n",
       "      <td>World Of Women</td>\n",
       "      <td>WOW</td>\n",
       "      <td>https://wow-prod-nftribe.s3.eu-west-2.amazonaw...</td>\n",
       "      <td>{\"name\":\"Woman #6269\",\"description\":\"World of ...</td>\n",
       "      <td>2021-12-07 06:56:11.474000+00:00</td>\n",
       "      <td>1</td>\n",
       "      <td>2</td>\n",
       "      <td>0</td>\n",
       "    </tr>\n",
       "  </tbody>\n",
       "</table>\n",
       "</div>"
      ],
      "text/plain": [
       "                                token_address  token_id  block_number_minted  \\\n",
       "0  0xe785e82358879f061bc3dcac6f0444462d4b5330      6835             12912080   \n",
       "1  0xe785e82358879f061bc3dcac6f0444462d4b5330      3656             12911657   \n",
       "2  0xe785e82358879f061bc3dcac6f0444462d4b5330      4664             12911830   \n",
       "3  0xe785e82358879f061bc3dcac6f0444462d4b5330      4058             12911712   \n",
       "4  0xe785e82358879f061bc3dcac6f0444462d4b5330      6269             12912043   \n",
       "\n",
       "                                     owner_of  block_number  amount  \\\n",
       "0  0x78958553a0297f3ad0137a619c33b10b318e8fcd      14159674       1   \n",
       "1  0x5376c1a9ac4b94c83be0728482bbc7e9d99a1eaa      14159482       1   \n",
       "2  0xc0bcbc0a91cd42e4808faf190e0ad6e9a6c027cc      14159285       1   \n",
       "3  0xc0bcbc0a91cd42e4808faf190e0ad6e9a6c027cc      14159285       1   \n",
       "4  0x658608458a84e426e34ae1a8bb83a9eb9075e950      14159228       1   \n",
       "\n",
       "  contract_type            name symbol  \\\n",
       "0        ERC721  World Of Women    WOW   \n",
       "1        ERC721  World Of Women    WOW   \n",
       "2        ERC721  World Of Women    WOW   \n",
       "3        ERC721  World Of Women    WOW   \n",
       "4        ERC721  World Of Women    WOW   \n",
       "\n",
       "                                           token_uri  \\\n",
       "0  https://wow-prod-nftribe.s3.eu-west-2.amazonaw...   \n",
       "1  https://wow-prod-nftribe.s3.eu-west-2.amazonaw...   \n",
       "2  https://wow-prod-nftribe.s3.eu-west-2.amazonaw...   \n",
       "3  https://wow-prod-nftribe.s3.eu-west-2.amazonaw...   \n",
       "4  https://wow-prod-nftribe.s3.eu-west-2.amazonaw...   \n",
       "\n",
       "                                            metadata  \\\n",
       "0  {\"name\":\"Woman #6835\",\"description\":\"World of ...   \n",
       "1  {\"name\":\"Woman #3656\",\"description\":\"World of ...   \n",
       "2  {\"name\":\"Woman #4664\",\"description\":\"World of ...   \n",
       "3  {\"name\":\"Woman #4058\",\"description\":\"World of ...   \n",
       "4  {\"name\":\"Woman #6269\",\"description\":\"World of ...   \n",
       "\n",
       "                         synced_at  is_valid  syncing  frozen  \n",
       "0 2021-11-04 01:19:45.795000+00:00         1        2       0  \n",
       "1 2021-11-03 11:54:31.357000+00:00         1        2       0  \n",
       "2 2021-11-10 00:21:47.279000+00:00         1        2       0  \n",
       "3 2021-12-06 02:40:45.216000+00:00         1        2       0  \n",
       "4 2021-12-07 06:56:11.474000+00:00         1        2       0  "
      ]
     },
     "execution_count": 238,
     "metadata": {},
     "output_type": "execute_result"
    }
   ],
   "source": [
    "NFT_owner=pd.read_json('wow_owners.json')\n",
    "NFT_owner.head()"
   ]
  },
  {
   "cell_type": "code",
   "execution_count": 317,
   "id": "8a67a2cf-4b2d-4da5-9288-5f5ce6c6f0ce",
   "metadata": {},
   "outputs": [
    {
     "data": {
      "text/plain": [
       "0       1\n",
       "8865    1\n",
       "6806    1\n",
       "4759    1\n",
       "8857    1\n",
       "       ..\n",
       "3379    1\n",
       "9526    1\n",
       "5432    1\n",
       "7481    1\n",
       "2047    1\n",
       "Name: token_id, Length: 10000, dtype: int64"
      ]
     },
     "execution_count": 317,
     "metadata": {},
     "output_type": "execute_result"
    }
   ],
   "source": [
    "NFT_owner['token_id'].value_counts()"
   ]
  },
  {
   "cell_type": "code",
   "execution_count": null,
   "id": "32d1796f-723f-47eb-86a3-7488fee7e91e",
   "metadata": {},
   "outputs": [],
   "source": []
  },
  {
   "cell_type": "code",
   "execution_count": 318,
   "id": "0fb31b92-481c-4c59-a802-4e6487ac3106",
   "metadata": {},
   "outputs": [],
   "source": [
    "#This shows that token ID's are unique. Thus it would mean that this is the data of people who owned/minted the NFT."
   ]
  },
  {
   "cell_type": "code",
   "execution_count": 245,
   "id": "7ceb58e7-baba-42f0-8aad-f256d783d2e1",
   "metadata": {},
   "outputs": [],
   "source": [
    "NFT_owner['synced_at']=NFT_owner['synced_at'].dt.date"
   ]
  },
  {
   "cell_type": "code",
   "execution_count": 246,
   "id": "bf121b88-df1c-44ac-a94f-01de4e816057",
   "metadata": {},
   "outputs": [
    {
     "data": {
      "text/plain": [
       "10000"
      ]
     },
     "execution_count": 246,
     "metadata": {},
     "output_type": "execute_result"
    }
   ],
   "source": [
    "len(NFT_owner)"
   ]
  },
  {
   "cell_type": "code",
   "execution_count": 247,
   "id": "281bcd64-f61b-4e94-9023-7c3dd4352e86",
   "metadata": {},
   "outputs": [
    {
     "data": {
      "text/plain": [
       "5060"
      ]
     },
     "execution_count": 247,
     "metadata": {},
     "output_type": "execute_result"
    }
   ],
   "source": [
    "len(NFT_owner['owner_of'].unique())"
   ]
  },
  {
   "cell_type": "code",
   "execution_count": 329,
   "id": "b706e551-e789-4493-b22d-c263269ba602",
   "metadata": {},
   "outputs": [],
   "source": [
    "NFT_owner_new=pd.DataFrame()\n",
    "NFT_owner_new=NFT_owner['owner_of'].value_counts()"
   ]
  },
  {
   "cell_type": "code",
   "execution_count": 249,
   "id": "15be7019-f50d-4815-9a92-b11abe3610f0",
   "metadata": {},
   "outputs": [
    {
     "data": {
      "image/png": "[encoded data removed]",
      "text/plain": [
       "<Figure size 720x504 with 1 Axes>"
      ]
     },
     "metadata": {},
     "output_type": "display_data"
    }
   ],
   "source": [
    "fig, ax = plt.subplots(figsize =(10, 7))\n",
    "bin_list = list(range(1, 60))\n",
    "ax.hist(NFT_owner_new, bins=bin_list)\n",
    "plt.show()"
   ]
  },
  {
   "cell_type": "code",
   "execution_count": 305,
   "id": "52ccac33-8f77-48cc-bc13-dda84f0af438",
   "metadata": {},
   "outputs": [],
   "source": [
    "#Conclusion:\n",
    "#1. More than 3500 own only 1 WoW NFT."
   ]
  },
  {
   "cell_type": "code",
   "execution_count": 257,
   "id": "2947fa72-2f7a-44bb-910e-b7d6bf0de84d",
   "metadata": {},
   "outputs": [
    {
     "data": {
      "text/plain": [
       "50"
      ]
     },
     "execution_count": 257,
     "metadata": {},
     "output_type": "execute_result"
    }
   ],
   "source": [
    "len(NFT_owner[NFT_owner['owner_of']==txn_top_seller1])"
   ]
  },
  {
   "cell_type": "code",
   "execution_count": 300,
   "id": "4e0cabbc-8a75-4771-aaec-9357315aeef4",
   "metadata": {},
   "outputs": [
    {
     "data": {
      "text/plain": [
       "2021-11-03    12\n",
       "2021-11-04    11\n",
       "2021-11-05     8\n",
       "2021-11-10     6\n",
       "2021-11-12     4\n",
       "2021-11-24     2\n",
       "2021-11-13     1\n",
       "2021-12-07     1\n",
       "2021-12-05     1\n",
       "2021-11-27     1\n",
       "2021-12-06     1\n",
       "2021-11-09     1\n",
       "2021-11-08     1\n",
       "Name: synced_at, dtype: int64"
      ]
     },
     "execution_count": 300,
     "metadata": {},
     "output_type": "execute_result"
    }
   ],
   "source": [
    "NFT_owner[NFT_owner['owner_of']==txn_top_seller1]['synced_at'].value_counts()"
   ]
  },
  {
   "cell_type": "code",
   "execution_count": 306,
   "id": "735272bd-80b9-4343-93c5-2fa2e2a3e079",
   "metadata": {},
   "outputs": [
    {
     "data": {
      "text/plain": [
       "7"
      ]
     },
     "execution_count": 306,
     "metadata": {},
     "output_type": "execute_result"
    }
   ],
   "source": [
    "len(NFT_owner[NFT_owner['owner_of']==txn_top_seller2])"
   ]
  },
  {
   "cell_type": "code",
   "execution_count": 310,
   "id": "11ad613a-61cb-4207-99f8-3bdb77f509c4",
   "metadata": {},
   "outputs": [
    {
     "data": {
      "text/plain": [
       "2021-11-03    2\n",
       "2021-11-10    2\n",
       "2021-11-13    1\n",
       "2021-11-26    1\n",
       "2021-11-12    1\n",
       "Name: synced_at, dtype: int64"
      ]
     },
     "execution_count": 310,
     "metadata": {},
     "output_type": "execute_result"
    }
   ],
   "source": [
    "NFT_owner[NFT_owner['owner_of']==txn_top_seller2]['synced_at'].value_counts()"
   ]
  },
  {
   "cell_type": "code",
   "execution_count": 308,
   "id": "1c412e0d-7955-458c-ad62-368a4b108d2d",
   "metadata": {},
   "outputs": [
    {
     "data": {
      "text/plain": [
       "37"
      ]
     },
     "execution_count": 308,
     "metadata": {},
     "output_type": "execute_result"
    }
   ],
   "source": [
    "len(NFT_owner[NFT_owner['owner_of']==txn_top_seller3])"
   ]
  },
  {
   "cell_type": "code",
   "execution_count": 311,
   "id": "e23644ee-0fba-4705-8faf-7042cc57d6b5",
   "metadata": {},
   "outputs": [
    {
     "data": {
      "text/plain": [
       "2021-11-10    10\n",
       "2021-11-03     7\n",
       "2021-11-12     5\n",
       "2021-11-04     4\n",
       "2021-11-09     3\n",
       "2021-11-08     3\n",
       "2021-12-06     2\n",
       "2021-11-05     1\n",
       "2021-11-06     1\n",
       "2021-11-16     1\n",
       "Name: synced_at, dtype: int64"
      ]
     },
     "execution_count": 311,
     "metadata": {},
     "output_type": "execute_result"
    }
   ],
   "source": [
    "NFT_owner[NFT_owner['owner_of']==txn_top_seller3]['synced_at'].value_counts()"
   ]
  },
  {
   "cell_type": "code",
   "execution_count": 327,
   "id": "ed3764bf-342f-4951-bc71-54e7274e0f79",
   "metadata": {},
   "outputs": [],
   "source": [
    "#Conclusion:\n",
    "#1.Of the top 3 people who transacted the highest during peak times,they were the owners of/or minted multiple NFT's that were mostly realeased during Noveber 2021.\n",
    "#2. These are also the people who made the top 3 highest profits.\n"
   ]
  },
  {
   "cell_type": "code",
   "execution_count": 333,
   "id": "af0bde49-0aab-4c69-96f3-e41d0d43a1bc",
   "metadata": {},
   "outputs": [],
   "source": [
    "#Analysing top 3 owners profits made and selling patterns"
   ]
  },
  {
   "cell_type": "code",
   "execution_count": 330,
   "id": "9e16781f-6171-4c68-bbee-3d4bd0c901e6",
   "metadata": {},
   "outputs": [
    {
     "data": {
      "text/plain": [
       "0x073ff66ec93c4ddd98edafeaecd677a7ef61f000    427\n",
       "0x80845058350b8c3df5c3015d8a717d64b3bf9267    200\n",
       "0x573d75e2cd4cdbad99e5fb8a599ebab3cf90fd94     98\n",
       "0x511876aace51210752eab85e6905f05b44e319aa     62\n",
       "0x88341d1a8f672d2780c8dc725902aae72f143b0c     60\n",
       "                                             ... \n",
       "0xcd508a6411a39cb0bab7d258564fb4110e28f3b2      1\n",
       "0x69e630c314bb7c62307e6bef8d53f96c2b5cb6be      1\n",
       "0xde3faa27dd5daca77115e3af6a2077c111bb81a6      1\n",
       "0xcda72070e455bb31c7690a170224ce43623d0b6f      1\n",
       "0xaaf46b8c0834693dc85a53a31cd61e46e4669ed2      1\n",
       "Name: owner_of, Length: 5060, dtype: int64"
      ]
     },
     "execution_count": 330,
     "metadata": {},
     "output_type": "execute_result"
    }
   ],
   "source": [
    "NFT_owner_new"
   ]
  },
  {
   "cell_type": "code",
   "execution_count": 334,
   "id": "cd7ce3cd-803e-4683-ba24-07eb49778f61",
   "metadata": {},
   "outputs": [],
   "source": [
    "top_owner1='0x073ff66ec93c4ddd98edafeaecd677a7ef61f000'\n",
    "top_owner2='0x80845058350b8c3df5c3015d8a717d64b3bf9267'\n",
    "top_owner3='0x573d75e2cd4cdbad99e5fb8a599ebab3cf90fd94'\n",
    "\n",
    "#top_owner3 is also the 4th largest buyer"
   ]
  },
  {
   "cell_type": "code",
   "execution_count": 342,
   "id": "c8da6147-457b-4c12-b598-0bc30c48154b",
   "metadata": {},
   "outputs": [
    {
     "data": {
      "text/html": [
       "<div>\n",
       "<style scoped>\n",
       "    .dataframe tbody tr th:only-of-type {\n",
       "        vertical-align: middle;\n",
       "    }\n",
       "\n",
       "    .dataframe tbody tr th {\n",
       "        vertical-align: top;\n",
       "    }\n",
       "\n",
       "    .dataframe thead th {\n",
       "        text-align: right;\n",
       "    }\n",
       "</style>\n",
       "<table border=\"1\" class=\"dataframe\">\n",
       "  <thead>\n",
       "    <tr style=\"text-align: right;\">\n",
       "      <th></th>\n",
       "      <th>BLOCK_TIMESTAMP</th>\n",
       "      <th>EVENT_FROM</th>\n",
       "      <th>EVENT_TO</th>\n",
       "      <th>PRICE</th>\n",
       "      <th>PROJECT_NAME</th>\n",
       "      <th>TOKEN_ID</th>\n",
       "      <th>TX_CURRENCY</th>\n",
       "      <th>TX_ID</th>\n",
       "      <th>Date</th>\n",
       "    </tr>\n",
       "  </thead>\n",
       "  <tbody>\n",
       "  </tbody>\n",
       "</table>\n",
       "</div>"
      ],
      "text/plain": [
       "Empty DataFrame\n",
       "Columns: [BLOCK_TIMESTAMP, EVENT_FROM, EVENT_TO, PRICE, PROJECT_NAME, TOKEN_ID, TX_CURRENCY, TX_ID, Date]\n",
       "Index: []"
      ]
     },
     "execution_count": 342,
     "metadata": {},
     "output_type": "execute_result"
    }
   ],
   "source": [
    "sales_ETH[sales_ETH['EVENT_FROM']==top_owner1]\n",
    "sales_ETH[sales_ETH['EVENT_TO']==top_owner1]"
   ]
  },
  {
   "cell_type": "code",
   "execution_count": 343,
   "id": "897dc2fc-db33-4644-88c3-cb11da7d48f4",
   "metadata": {},
   "outputs": [
    {
     "data": {
      "text/html": [
       "<div>\n",
       "<style scoped>\n",
       "    .dataframe tbody tr th:only-of-type {\n",
       "        vertical-align: middle;\n",
       "    }\n",
       "\n",
       "    .dataframe tbody tr th {\n",
       "        vertical-align: top;\n",
       "    }\n",
       "\n",
       "    .dataframe thead th {\n",
       "        text-align: right;\n",
       "    }\n",
       "</style>\n",
       "<table border=\"1\" class=\"dataframe\">\n",
       "  <thead>\n",
       "    <tr style=\"text-align: right;\">\n",
       "      <th></th>\n",
       "      <th>BLOCK_TIMESTAMP</th>\n",
       "      <th>EVENT_FROM</th>\n",
       "      <th>EVENT_TO</th>\n",
       "      <th>PRICE</th>\n",
       "      <th>PROJECT_NAME</th>\n",
       "      <th>TOKEN_ID</th>\n",
       "      <th>TX_CURRENCY</th>\n",
       "      <th>TX_ID</th>\n",
       "      <th>Date</th>\n",
       "    </tr>\n",
       "  </thead>\n",
       "  <tbody>\n",
       "  </tbody>\n",
       "</table>\n",
       "</div>"
      ],
      "text/plain": [
       "Empty DataFrame\n",
       "Columns: [BLOCK_TIMESTAMP, EVENT_FROM, EVENT_TO, PRICE, PROJECT_NAME, TOKEN_ID, TX_CURRENCY, TX_ID, Date]\n",
       "Index: []"
      ]
     },
     "execution_count": 343,
     "metadata": {},
     "output_type": "execute_result"
    }
   ],
   "source": [
    "sales_ETH[sales_ETH['EVENT_FROM']==top_owner2]\n",
    "sales_ETH[sales_ETH['EVENT_TO']==top_owner2]"
   ]
  },
  {
   "cell_type": "code",
   "execution_count": 340,
   "id": "04d93911-097c-4801-9509-b0cb4c547232",
   "metadata": {},
   "outputs": [
    {
     "data": {
      "text/html": [
       "<div>\n",
       "<style scoped>\n",
       "    .dataframe tbody tr th:only-of-type {\n",
       "        vertical-align: middle;\n",
       "    }\n",
       "\n",
       "    .dataframe tbody tr th {\n",
       "        vertical-align: top;\n",
       "    }\n",
       "\n",
       "    .dataframe thead th {\n",
       "        text-align: right;\n",
       "    }\n",
       "</style>\n",
       "<table border=\"1\" class=\"dataframe\">\n",
       "  <thead>\n",
       "    <tr style=\"text-align: right;\">\n",
       "      <th></th>\n",
       "      <th>BLOCK_TIMESTAMP</th>\n",
       "      <th>EVENT_FROM</th>\n",
       "      <th>EVENT_TO</th>\n",
       "      <th>PRICE</th>\n",
       "      <th>PROJECT_NAME</th>\n",
       "      <th>TOKEN_ID</th>\n",
       "      <th>TX_CURRENCY</th>\n",
       "      <th>TX_ID</th>\n",
       "      <th>Date</th>\n",
       "    </tr>\n",
       "  </thead>\n",
       "  <tbody>\n",
       "    <tr>\n",
       "      <th>3062</th>\n",
       "      <td>2021-12-04 03:01:34</td>\n",
       "      <td>0x573d75e2cd4cdbad99e5fb8a599ebab3cf90fd94</td>\n",
       "      <td>0x6517667689491ae1ff5a4cf1d14c4ebe79a8dfc5</td>\n",
       "      <td>2.300</td>\n",
       "      <td>World_Of_Women</td>\n",
       "      <td>6198</td>\n",
       "      <td>WETH</td>\n",
       "      <td>0x30033d827d2c8108b6c3b1976efde461ece663fe79cf...</td>\n",
       "      <td>2021-12-04</td>\n",
       "    </tr>\n",
       "    <tr>\n",
       "      <th>2989</th>\n",
       "      <td>2021-12-09 00:24:08</td>\n",
       "      <td>0x573d75e2cd4cdbad99e5fb8a599ebab3cf90fd94</td>\n",
       "      <td>0x58abc26647541dca211928a0e45a43b4ce323979</td>\n",
       "      <td>2.251</td>\n",
       "      <td>World_Of_Women</td>\n",
       "      <td>8959</td>\n",
       "      <td>WETH</td>\n",
       "      <td>0x9d9f32845c7d19053c7eee9a531bcc4454fdaaa54e68...</td>\n",
       "      <td>2021-12-09</td>\n",
       "    </tr>\n",
       "  </tbody>\n",
       "</table>\n",
       "</div>"
      ],
      "text/plain": [
       "         BLOCK_TIMESTAMP                                  EVENT_FROM  \\\n",
       "3062 2021-12-04 03:01:34  0x573d75e2cd4cdbad99e5fb8a599ebab3cf90fd94   \n",
       "2989 2021-12-09 00:24:08  0x573d75e2cd4cdbad99e5fb8a599ebab3cf90fd94   \n",
       "\n",
       "                                        EVENT_TO  PRICE    PROJECT_NAME  \\\n",
       "3062  0x6517667689491ae1ff5a4cf1d14c4ebe79a8dfc5  2.300  World_Of_Women   \n",
       "2989  0x58abc26647541dca211928a0e45a43b4ce323979  2.251  World_Of_Women   \n",
       "\n",
       "      TOKEN_ID TX_CURRENCY                                              TX_ID  \\\n",
       "3062      6198        WETH  0x30033d827d2c8108b6c3b1976efde461ece663fe79cf...   \n",
       "2989      8959        WETH  0x9d9f32845c7d19053c7eee9a531bcc4454fdaaa54e68...   \n",
       "\n",
       "           Date  \n",
       "3062 2021-12-04  \n",
       "2989 2021-12-09  "
      ]
     },
     "execution_count": 340,
     "metadata": {},
     "output_type": "execute_result"
    }
   ],
   "source": [
    "sales_ETH[sales_ETH['EVENT_FROM']==top_owner3]"
   ]
  },
  {
   "cell_type": "code",
   "execution_count": 341,
   "id": "13030466-2669-4bbc-84e4-478cbd173636",
   "metadata": {},
   "outputs": [
    {
     "data": {
      "text/html": [
       "<div>\n",
       "<style scoped>\n",
       "    .dataframe tbody tr th:only-of-type {\n",
       "        vertical-align: middle;\n",
       "    }\n",
       "\n",
       "    .dataframe tbody tr th {\n",
       "        vertical-align: top;\n",
       "    }\n",
       "\n",
       "    .dataframe thead th {\n",
       "        text-align: right;\n",
       "    }\n",
       "</style>\n",
       "<table border=\"1\" class=\"dataframe\">\n",
       "  <thead>\n",
       "    <tr style=\"text-align: right;\">\n",
       "      <th></th>\n",
       "      <th>BLOCK_TIMESTAMP</th>\n",
       "      <th>EVENT_FROM</th>\n",
       "      <th>EVENT_TO</th>\n",
       "      <th>PRICE</th>\n",
       "      <th>PROJECT_NAME</th>\n",
       "      <th>TOKEN_ID</th>\n",
       "      <th>TX_CURRENCY</th>\n",
       "      <th>TX_ID</th>\n",
       "      <th>Date</th>\n",
       "    </tr>\n",
       "  </thead>\n",
       "  <tbody>\n",
       "    <tr>\n",
       "      <th>17281</th>\n",
       "      <td>2021-07-30 22:58:17</td>\n",
       "      <td>0x304cb3e7ac683571eea99baab5ad47b5163c4798</td>\n",
       "      <td>0x573d75e2cd4cdbad99e5fb8a599ebab3cf90fd94</td>\n",
       "      <td>0.1000</td>\n",
       "      <td>World_Of_Women</td>\n",
       "      <td>8699</td>\n",
       "      <td>ETH</td>\n",
       "      <td>0xe0d993672c090faafdf5649165980e22864faf81d06f...</td>\n",
       "      <td>2021-07-30</td>\n",
       "    </tr>\n",
       "    <tr>\n",
       "      <th>17280</th>\n",
       "      <td>2021-07-30 23:01:22</td>\n",
       "      <td>0x71373fc3d84069e3936f99520d6cd9286a36a5d5</td>\n",
       "      <td>0x573d75e2cd4cdbad99e5fb8a599ebab3cf90fd94</td>\n",
       "      <td>0.0700</td>\n",
       "      <td>World_Of_Women</td>\n",
       "      <td>5020</td>\n",
       "      <td>ETH</td>\n",
       "      <td>0x501113e7704affffd0db7371a89e69f43fc60ebfd622...</td>\n",
       "      <td>2021-07-30</td>\n",
       "    </tr>\n",
       "    <tr>\n",
       "      <th>17276</th>\n",
       "      <td>2021-07-30 23:03:58</td>\n",
       "      <td>0x279d8311094cc91c4bbe06bc7e1a4fc7b42d73ef</td>\n",
       "      <td>0x573d75e2cd4cdbad99e5fb8a599ebab3cf90fd94</td>\n",
       "      <td>0.0598</td>\n",
       "      <td>World_Of_Women</td>\n",
       "      <td>7852</td>\n",
       "      <td>ETH</td>\n",
       "      <td>0x857bb55ab0839f1f9fa2f435e92d17bb10d9bc9e0211...</td>\n",
       "      <td>2021-07-30</td>\n",
       "    </tr>\n",
       "    <tr>\n",
       "      <th>17275</th>\n",
       "      <td>2021-07-30 23:04:57</td>\n",
       "      <td>0xd25c299d3604c1f3356c4a1c415b84ac5bee7804</td>\n",
       "      <td>0x573d75e2cd4cdbad99e5fb8a599ebab3cf90fd94</td>\n",
       "      <td>0.0700</td>\n",
       "      <td>World_Of_Women</td>\n",
       "      <td>9981</td>\n",
       "      <td>ETH</td>\n",
       "      <td>0xa7103ed407940c9f1545931e7aef4d85bd60d7ab694e...</td>\n",
       "      <td>2021-07-30</td>\n",
       "    </tr>\n",
       "    <tr>\n",
       "      <th>17269</th>\n",
       "      <td>2021-07-30 23:51:59</td>\n",
       "      <td>0x19010d5d3db8658af6cec235177d475a1839a89e</td>\n",
       "      <td>0x573d75e2cd4cdbad99e5fb8a599ebab3cf90fd94</td>\n",
       "      <td>7.5000</td>\n",
       "      <td>World_Of_Women</td>\n",
       "      <td>6397</td>\n",
       "      <td>ETH</td>\n",
       "      <td>0x5284fe3bc6c8e911f2bc3c5ed3f1d9c06ce2de9debe1...</td>\n",
       "      <td>2021-07-30</td>\n",
       "    </tr>\n",
       "    <tr>\n",
       "      <th>...</th>\n",
       "      <td>...</td>\n",
       "      <td>...</td>\n",
       "      <td>...</td>\n",
       "      <td>...</td>\n",
       "      <td>...</td>\n",
       "      <td>...</td>\n",
       "      <td>...</td>\n",
       "      <td>...</td>\n",
       "      <td>...</td>\n",
       "    </tr>\n",
       "    <tr>\n",
       "      <th>13828</th>\n",
       "      <td>2021-08-03 22:44:08</td>\n",
       "      <td>0x6be5a5027ebb00c1580627e2e664aed4f0f00a76</td>\n",
       "      <td>0x573d75e2cd4cdbad99e5fb8a599ebab3cf90fd94</td>\n",
       "      <td>0.4000</td>\n",
       "      <td>World_Of_Women</td>\n",
       "      <td>5302</td>\n",
       "      <td>ETH</td>\n",
       "      <td>0xd272e3238c90a99eca610172dfab8fefe7a13674d544...</td>\n",
       "      <td>2021-08-03</td>\n",
       "    </tr>\n",
       "    <tr>\n",
       "      <th>13796</th>\n",
       "      <td>2021-08-04 01:10:40</td>\n",
       "      <td>0x88923378021bea85f9b09ce571a309e12c7d2262</td>\n",
       "      <td>0x573d75e2cd4cdbad99e5fb8a599ebab3cf90fd94</td>\n",
       "      <td>0.5000</td>\n",
       "      <td>World_Of_Women</td>\n",
       "      <td>4360</td>\n",
       "      <td>ETH</td>\n",
       "      <td>0x249a5b7a15e70d96abb1b816294afcefea0e000e9756...</td>\n",
       "      <td>2021-08-04</td>\n",
       "    </tr>\n",
       "    <tr>\n",
       "      <th>13791</th>\n",
       "      <td>2021-08-04 02:12:19</td>\n",
       "      <td>0x06807d7e07290be6adbacd6f209c4ced6f183d74</td>\n",
       "      <td>0x573d75e2cd4cdbad99e5fb8a599ebab3cf90fd94</td>\n",
       "      <td>0.6500</td>\n",
       "      <td>World_Of_Women</td>\n",
       "      <td>4250</td>\n",
       "      <td>WETH</td>\n",
       "      <td>0x19f61906d878ae28b2a9b1e210e6a8964b85294719db...</td>\n",
       "      <td>2021-08-04</td>\n",
       "    </tr>\n",
       "    <tr>\n",
       "      <th>13070</th>\n",
       "      <td>2021-08-05 22:29:05</td>\n",
       "      <td>0x8a5d546d0d9269770faba8cfc2d8a84fcd93c231</td>\n",
       "      <td>0x573d75e2cd4cdbad99e5fb8a599ebab3cf90fd94</td>\n",
       "      <td>0.6000</td>\n",
       "      <td>World_Of_Women</td>\n",
       "      <td>9417</td>\n",
       "      <td>ETH</td>\n",
       "      <td>0x3a23a08803713572b889cb13add964ff8a19c51c231a...</td>\n",
       "      <td>2021-08-05</td>\n",
       "    </tr>\n",
       "    <tr>\n",
       "      <th>13018</th>\n",
       "      <td>2021-08-06 02:43:28</td>\n",
       "      <td>0xe288a00df4b697606078876788e4d64633cd2e01</td>\n",
       "      <td>0x573d75e2cd4cdbad99e5fb8a599ebab3cf90fd94</td>\n",
       "      <td>1.0000</td>\n",
       "      <td>World_Of_Women</td>\n",
       "      <td>2149</td>\n",
       "      <td>ETH</td>\n",
       "      <td>0x3d1d53f1e0eb2d741c98568c5b1dbdddb81ab668914b...</td>\n",
       "      <td>2021-08-06</td>\n",
       "    </tr>\n",
       "  </tbody>\n",
       "</table>\n",
       "<p>107 rows × 9 columns</p>\n",
       "</div>"
      ],
      "text/plain": [
       "          BLOCK_TIMESTAMP                                  EVENT_FROM  \\\n",
       "17281 2021-07-30 22:58:17  0x304cb3e7ac683571eea99baab5ad47b5163c4798   \n",
       "17280 2021-07-30 23:01:22  0x71373fc3d84069e3936f99520d6cd9286a36a5d5   \n",
       "17276 2021-07-30 23:03:58  0x279d8311094cc91c4bbe06bc7e1a4fc7b42d73ef   \n",
       "17275 2021-07-30 23:04:57  0xd25c299d3604c1f3356c4a1c415b84ac5bee7804   \n",
       "17269 2021-07-30 23:51:59  0x19010d5d3db8658af6cec235177d475a1839a89e   \n",
       "...                   ...                                         ...   \n",
       "13828 2021-08-03 22:44:08  0x6be5a5027ebb00c1580627e2e664aed4f0f00a76   \n",
       "13796 2021-08-04 01:10:40  0x88923378021bea85f9b09ce571a309e12c7d2262   \n",
       "13791 2021-08-04 02:12:19  0x06807d7e07290be6adbacd6f209c4ced6f183d74   \n",
       "13070 2021-08-05 22:29:05  0x8a5d546d0d9269770faba8cfc2d8a84fcd93c231   \n",
       "13018 2021-08-06 02:43:28  0xe288a00df4b697606078876788e4d64633cd2e01   \n",
       "\n",
       "                                         EVENT_TO   PRICE    PROJECT_NAME  \\\n",
       "17281  0x573d75e2cd4cdbad99e5fb8a599ebab3cf90fd94  0.1000  World_Of_Women   \n",
       "17280  0x573d75e2cd4cdbad99e5fb8a599ebab3cf90fd94  0.0700  World_Of_Women   \n",
       "17276  0x573d75e2cd4cdbad99e5fb8a599ebab3cf90fd94  0.0598  World_Of_Women   \n",
       "17275  0x573d75e2cd4cdbad99e5fb8a599ebab3cf90fd94  0.0700  World_Of_Women   \n",
       "17269  0x573d75e2cd4cdbad99e5fb8a599ebab3cf90fd94  7.5000  World_Of_Women   \n",
       "...                                           ...     ...             ...   \n",
       "13828  0x573d75e2cd4cdbad99e5fb8a599ebab3cf90fd94  0.4000  World_Of_Women   \n",
       "13796  0x573d75e2cd4cdbad99e5fb8a599ebab3cf90fd94  0.5000  World_Of_Women   \n",
       "13791  0x573d75e2cd4cdbad99e5fb8a599ebab3cf90fd94  0.6500  World_Of_Women   \n",
       "13070  0x573d75e2cd4cdbad99e5fb8a599ebab3cf90fd94  0.6000  World_Of_Women   \n",
       "13018  0x573d75e2cd4cdbad99e5fb8a599ebab3cf90fd94  1.0000  World_Of_Women   \n",
       "\n",
       "       TOKEN_ID TX_CURRENCY  \\\n",
       "17281      8699         ETH   \n",
       "17280      5020         ETH   \n",
       "17276      7852         ETH   \n",
       "17275      9981         ETH   \n",
       "17269      6397         ETH   \n",
       "...         ...         ...   \n",
       "13828      5302         ETH   \n",
       "13796      4360         ETH   \n",
       "13791      4250        WETH   \n",
       "13070      9417         ETH   \n",
       "13018      2149         ETH   \n",
       "\n",
       "                                                   TX_ID       Date  \n",
       "17281  0xe0d993672c090faafdf5649165980e22864faf81d06f... 2021-07-30  \n",
       "17280  0x501113e7704affffd0db7371a89e69f43fc60ebfd622... 2021-07-30  \n",
       "17276  0x857bb55ab0839f1f9fa2f435e92d17bb10d9bc9e0211... 2021-07-30  \n",
       "17275  0xa7103ed407940c9f1545931e7aef4d85bd60d7ab694e... 2021-07-30  \n",
       "17269  0x5284fe3bc6c8e911f2bc3c5ed3f1d9c06ce2de9debe1... 2021-07-30  \n",
       "...                                                  ...        ...  \n",
       "13828  0xd272e3238c90a99eca610172dfab8fefe7a13674d544... 2021-08-03  \n",
       "13796  0x249a5b7a15e70d96abb1b816294afcefea0e000e9756... 2021-08-04  \n",
       "13791  0x19f61906d878ae28b2a9b1e210e6a8964b85294719db... 2021-08-04  \n",
       "13070  0x3a23a08803713572b889cb13add964ff8a19c51c231a... 2021-08-05  \n",
       "13018  0x3d1d53f1e0eb2d741c98568c5b1dbdddb81ab668914b... 2021-08-06  \n",
       "\n",
       "[107 rows x 9 columns]"
      ]
     },
     "execution_count": 341,
     "metadata": {},
     "output_type": "execute_result"
    }
   ],
   "source": [
    "sales_ETH[sales_ETH['EVENT_TO']==top_owner3]\n"
   ]
  },
  {
   "cell_type": "code",
   "execution_count": 356,
   "id": "31169caa-4d06-4b93-a33d-68db6865d8e3",
   "metadata": {},
   "outputs": [
    {
     "data": {
      "text/html": [
       "<div>\n",
       "<style scoped>\n",
       "    .dataframe tbody tr th:only-of-type {\n",
       "        vertical-align: middle;\n",
       "    }\n",
       "\n",
       "    .dataframe tbody tr th {\n",
       "        vertical-align: top;\n",
       "    }\n",
       "\n",
       "    .dataframe thead th {\n",
       "        text-align: right;\n",
       "    }\n",
       "</style>\n",
       "<table border=\"1\" class=\"dataframe\">\n",
       "  <thead>\n",
       "    <tr style=\"text-align: right;\">\n",
       "      <th></th>\n",
       "      <th>token_address</th>\n",
       "      <th>token_id</th>\n",
       "      <th>block_number_minted</th>\n",
       "      <th>owner_of</th>\n",
       "      <th>block_number</th>\n",
       "      <th>amount</th>\n",
       "      <th>contract_type</th>\n",
       "      <th>name</th>\n",
       "      <th>symbol</th>\n",
       "      <th>token_uri</th>\n",
       "      <th>metadata</th>\n",
       "      <th>synced_at</th>\n",
       "      <th>is_valid</th>\n",
       "      <th>syncing</th>\n",
       "      <th>frozen</th>\n",
       "    </tr>\n",
       "  </thead>\n",
       "  <tbody>\n",
       "    <tr>\n",
       "      <th>3456</th>\n",
       "      <td>0xe785e82358879f061bc3dcac6f0444462d4b5330</td>\n",
       "      <td>3915</td>\n",
       "      <td>12911696</td>\n",
       "      <td>0x80845058350b8c3df5c3015d8a717d64b3bf9267</td>\n",
       "      <td>13849198</td>\n",
       "      <td>1</td>\n",
       "      <td>ERC721</td>\n",
       "      <td>World Of Women</td>\n",
       "      <td>WOW</td>\n",
       "      <td>https://wow-prod-nftribe.s3.eu-west-2.amazonaw...</td>\n",
       "      <td>{\"name\":\"Woman #3915\",\"description\":\"World of ...</td>\n",
       "      <td>2021-11-12</td>\n",
       "      <td>1</td>\n",
       "      <td>2</td>\n",
       "      <td>0</td>\n",
       "    </tr>\n",
       "    <tr>\n",
       "      <th>3457</th>\n",
       "      <td>0xe785e82358879f061bc3dcac6f0444462d4b5330</td>\n",
       "      <td>5785</td>\n",
       "      <td>12911981</td>\n",
       "      <td>0x80845058350b8c3df5c3015d8a717d64b3bf9267</td>\n",
       "      <td>13849198</td>\n",
       "      <td>1</td>\n",
       "      <td>ERC721</td>\n",
       "      <td>World Of Women</td>\n",
       "      <td>WOW</td>\n",
       "      <td>https://wow-prod-nftribe.s3.eu-west-2.amazonaw...</td>\n",
       "      <td>{\"name\":\"Woman #5785\",\"description\":\"World of ...</td>\n",
       "      <td>2021-11-12</td>\n",
       "      <td>1</td>\n",
       "      <td>2</td>\n",
       "      <td>0</td>\n",
       "    </tr>\n",
       "    <tr>\n",
       "      <th>3458</th>\n",
       "      <td>0xe785e82358879f061bc3dcac6f0444462d4b5330</td>\n",
       "      <td>2367</td>\n",
       "      <td>12911512</td>\n",
       "      <td>0x80845058350b8c3df5c3015d8a717d64b3bf9267</td>\n",
       "      <td>13849198</td>\n",
       "      <td>1</td>\n",
       "      <td>ERC721</td>\n",
       "      <td>World Of Women</td>\n",
       "      <td>WOW</td>\n",
       "      <td>https://wow-prod-nftribe.s3.eu-west-2.amazonaw...</td>\n",
       "      <td>{\"name\":\"Woman #2367\",\"description\":\"World of ...</td>\n",
       "      <td>2021-11-10</td>\n",
       "      <td>1</td>\n",
       "      <td>2</td>\n",
       "      <td>0</td>\n",
       "    </tr>\n",
       "    <tr>\n",
       "      <th>3459</th>\n",
       "      <td>0xe785e82358879f061bc3dcac6f0444462d4b5330</td>\n",
       "      <td>3094</td>\n",
       "      <td>12911602</td>\n",
       "      <td>0x80845058350b8c3df5c3015d8a717d64b3bf9267</td>\n",
       "      <td>13849198</td>\n",
       "      <td>1</td>\n",
       "      <td>ERC721</td>\n",
       "      <td>World Of Women</td>\n",
       "      <td>WOW</td>\n",
       "      <td>https://wow-prod-nftribe.s3.eu-west-2.amazonaw...</td>\n",
       "      <td>{\"name\":\"Woman #3094\",\"description\":\"World of ...</td>\n",
       "      <td>2021-11-08</td>\n",
       "      <td>1</td>\n",
       "      <td>2</td>\n",
       "      <td>0</td>\n",
       "    </tr>\n",
       "    <tr>\n",
       "      <th>3460</th>\n",
       "      <td>0xe785e82358879f061bc3dcac6f0444462d4b5330</td>\n",
       "      <td>1665</td>\n",
       "      <td>12911451</td>\n",
       "      <td>0x80845058350b8c3df5c3015d8a717d64b3bf9267</td>\n",
       "      <td>13849198</td>\n",
       "      <td>1</td>\n",
       "      <td>ERC721</td>\n",
       "      <td>World Of Women</td>\n",
       "      <td>WOW</td>\n",
       "      <td>https://wow-prod-nftribe.s3.eu-west-2.amazonaw...</td>\n",
       "      <td>{\"name\":\"Woman #1665\",\"description\":\"World of ...</td>\n",
       "      <td>2021-11-04</td>\n",
       "      <td>1</td>\n",
       "      <td>2</td>\n",
       "      <td>0</td>\n",
       "    </tr>\n",
       "    <tr>\n",
       "      <th>...</th>\n",
       "      <td>...</td>\n",
       "      <td>...</td>\n",
       "      <td>...</td>\n",
       "      <td>...</td>\n",
       "      <td>...</td>\n",
       "      <td>...</td>\n",
       "      <td>...</td>\n",
       "      <td>...</td>\n",
       "      <td>...</td>\n",
       "      <td>...</td>\n",
       "      <td>...</td>\n",
       "      <td>...</td>\n",
       "      <td>...</td>\n",
       "      <td>...</td>\n",
       "      <td>...</td>\n",
       "    </tr>\n",
       "    <tr>\n",
       "      <th>4322</th>\n",
       "      <td>0xe785e82358879f061bc3dcac6f0444462d4b5330</td>\n",
       "      <td>4956</td>\n",
       "      <td>12911872</td>\n",
       "      <td>0x80845058350b8c3df5c3015d8a717d64b3bf9267</td>\n",
       "      <td>13767285</td>\n",
       "      <td>1</td>\n",
       "      <td>ERC721</td>\n",
       "      <td>World Of Women</td>\n",
       "      <td>WOW</td>\n",
       "      <td>https://wow-prod-nftribe.s3.eu-west-2.amazonaw...</td>\n",
       "      <td>NaN</td>\n",
       "      <td>2021-12-06</td>\n",
       "      <td>0</td>\n",
       "      <td>2</td>\n",
       "      <td>0</td>\n",
       "    </tr>\n",
       "    <tr>\n",
       "      <th>4323</th>\n",
       "      <td>0xe785e82358879f061bc3dcac6f0444462d4b5330</td>\n",
       "      <td>9487</td>\n",
       "      <td>12912142</td>\n",
       "      <td>0x80845058350b8c3df5c3015d8a717d64b3bf9267</td>\n",
       "      <td>13767285</td>\n",
       "      <td>1</td>\n",
       "      <td>ERC721</td>\n",
       "      <td>World Of Women</td>\n",
       "      <td>WOW</td>\n",
       "      <td>https://wow-prod-nftribe.s3.eu-west-2.amazonaw...</td>\n",
       "      <td>{\"name\":\"Woman #9487\",\"description\":\"World of ...</td>\n",
       "      <td>2021-11-10</td>\n",
       "      <td>1</td>\n",
       "      <td>2</td>\n",
       "      <td>0</td>\n",
       "    </tr>\n",
       "    <tr>\n",
       "      <th>4324</th>\n",
       "      <td>0xe785e82358879f061bc3dcac6f0444462d4b5330</td>\n",
       "      <td>1591</td>\n",
       "      <td>12911444</td>\n",
       "      <td>0x80845058350b8c3df5c3015d8a717d64b3bf9267</td>\n",
       "      <td>13767285</td>\n",
       "      <td>1</td>\n",
       "      <td>ERC721</td>\n",
       "      <td>World Of Women</td>\n",
       "      <td>WOW</td>\n",
       "      <td>https://wow-prod-nftribe.s3.eu-west-2.amazonaw...</td>\n",
       "      <td>{\"name\":\"Woman #1591\",\"description\":\"World of ...</td>\n",
       "      <td>2021-11-10</td>\n",
       "      <td>1</td>\n",
       "      <td>2</td>\n",
       "      <td>0</td>\n",
       "    </tr>\n",
       "    <tr>\n",
       "      <th>4325</th>\n",
       "      <td>0xe785e82358879f061bc3dcac6f0444462d4b5330</td>\n",
       "      <td>1672</td>\n",
       "      <td>12911452</td>\n",
       "      <td>0x80845058350b8c3df5c3015d8a717d64b3bf9267</td>\n",
       "      <td>13767285</td>\n",
       "      <td>1</td>\n",
       "      <td>ERC721</td>\n",
       "      <td>World Of Women</td>\n",
       "      <td>WOW</td>\n",
       "      <td>https://wow-prod-nftribe.s3.eu-west-2.amazonaw...</td>\n",
       "      <td>{\"name\":\"Woman #1672\",\"description\":\"World of ...</td>\n",
       "      <td>2021-11-10</td>\n",
       "      <td>1</td>\n",
       "      <td>2</td>\n",
       "      <td>0</td>\n",
       "    </tr>\n",
       "    <tr>\n",
       "      <th>4326</th>\n",
       "      <td>0xe785e82358879f061bc3dcac6f0444462d4b5330</td>\n",
       "      <td>7253</td>\n",
       "      <td>12912090</td>\n",
       "      <td>0x80845058350b8c3df5c3015d8a717d64b3bf9267</td>\n",
       "      <td>13767285</td>\n",
       "      <td>1</td>\n",
       "      <td>ERC721</td>\n",
       "      <td>World Of Women</td>\n",
       "      <td>WOW</td>\n",
       "      <td>https://wow-prod-nftribe.s3.eu-west-2.amazonaw...</td>\n",
       "      <td>{\"name\":\"Woman #7253\",\"description\":\"World of ...</td>\n",
       "      <td>2021-11-04</td>\n",
       "      <td>1</td>\n",
       "      <td>2</td>\n",
       "      <td>0</td>\n",
       "    </tr>\n",
       "  </tbody>\n",
       "</table>\n",
       "<p>200 rows × 15 columns</p>\n",
       "</div>"
      ],
      "text/plain": [
       "                                   token_address  token_id  \\\n",
       "3456  0xe785e82358879f061bc3dcac6f0444462d4b5330      3915   \n",
       "3457  0xe785e82358879f061bc3dcac6f0444462d4b5330      5785   \n",
       "3458  0xe785e82358879f061bc3dcac6f0444462d4b5330      2367   \n",
       "3459  0xe785e82358879f061bc3dcac6f0444462d4b5330      3094   \n",
       "3460  0xe785e82358879f061bc3dcac6f0444462d4b5330      1665   \n",
       "...                                          ...       ...   \n",
       "4322  0xe785e82358879f061bc3dcac6f0444462d4b5330      4956   \n",
       "4323  0xe785e82358879f061bc3dcac6f0444462d4b5330      9487   \n",
       "4324  0xe785e82358879f061bc3dcac6f0444462d4b5330      1591   \n",
       "4325  0xe785e82358879f061bc3dcac6f0444462d4b5330      1672   \n",
       "4326  0xe785e82358879f061bc3dcac6f0444462d4b5330      7253   \n",
       "\n",
       "      block_number_minted                                    owner_of  \\\n",
       "3456             12911696  0x80845058350b8c3df5c3015d8a717d64b3bf9267   \n",
       "3457             12911981  0x80845058350b8c3df5c3015d8a717d64b3bf9267   \n",
       "3458             12911512  0x80845058350b8c3df5c3015d8a717d64b3bf9267   \n",
       "3459             12911602  0x80845058350b8c3df5c3015d8a717d64b3bf9267   \n",
       "3460             12911451  0x80845058350b8c3df5c3015d8a717d64b3bf9267   \n",
       "...                   ...                                         ...   \n",
       "4322             12911872  0x80845058350b8c3df5c3015d8a717d64b3bf9267   \n",
       "4323             12912142  0x80845058350b8c3df5c3015d8a717d64b3bf9267   \n",
       "4324             12911444  0x80845058350b8c3df5c3015d8a717d64b3bf9267   \n",
       "4325             12911452  0x80845058350b8c3df5c3015d8a717d64b3bf9267   \n",
       "4326             12912090  0x80845058350b8c3df5c3015d8a717d64b3bf9267   \n",
       "\n",
       "      block_number  amount contract_type            name symbol  \\\n",
       "3456      13849198       1        ERC721  World Of Women    WOW   \n",
       "3457      13849198       1        ERC721  World Of Women    WOW   \n",
       "3458      13849198       1        ERC721  World Of Women    WOW   \n",
       "3459      13849198       1        ERC721  World Of Women    WOW   \n",
       "3460      13849198       1        ERC721  World Of Women    WOW   \n",
       "...            ...     ...           ...             ...    ...   \n",
       "4322      13767285       1        ERC721  World Of Women    WOW   \n",
       "4323      13767285       1        ERC721  World Of Women    WOW   \n",
       "4324      13767285       1        ERC721  World Of Women    WOW   \n",
       "4325      13767285       1        ERC721  World Of Women    WOW   \n",
       "4326      13767285       1        ERC721  World Of Women    WOW   \n",
       "\n",
       "                                              token_uri  \\\n",
       "3456  https://wow-prod-nftribe.s3.eu-west-2.amazonaw...   \n",
       "3457  https://wow-prod-nftribe.s3.eu-west-2.amazonaw...   \n",
       "3458  https://wow-prod-nftribe.s3.eu-west-2.amazonaw...   \n",
       "3459  https://wow-prod-nftribe.s3.eu-west-2.amazonaw...   \n",
       "3460  https://wow-prod-nftribe.s3.eu-west-2.amazonaw...   \n",
       "...                                                 ...   \n",
       "4322  https://wow-prod-nftribe.s3.eu-west-2.amazonaw...   \n",
       "4323  https://wow-prod-nftribe.s3.eu-west-2.amazonaw...   \n",
       "4324  https://wow-prod-nftribe.s3.eu-west-2.amazonaw...   \n",
       "4325  https://wow-prod-nftribe.s3.eu-west-2.amazonaw...   \n",
       "4326  https://wow-prod-nftribe.s3.eu-west-2.amazonaw...   \n",
       "\n",
       "                                               metadata   synced_at  is_valid  \\\n",
       "3456  {\"name\":\"Woman #3915\",\"description\":\"World of ...  2021-11-12         1   \n",
       "3457  {\"name\":\"Woman #5785\",\"description\":\"World of ...  2021-11-12         1   \n",
       "3458  {\"name\":\"Woman #2367\",\"description\":\"World of ...  2021-11-10         1   \n",
       "3459  {\"name\":\"Woman #3094\",\"description\":\"World of ...  2021-11-08         1   \n",
       "3460  {\"name\":\"Woman #1665\",\"description\":\"World of ...  2021-11-04         1   \n",
       "...                                                 ...         ...       ...   \n",
       "4322                                                NaN  2021-12-06         0   \n",
       "4323  {\"name\":\"Woman #9487\",\"description\":\"World of ...  2021-11-10         1   \n",
       "4324  {\"name\":\"Woman #1591\",\"description\":\"World of ...  2021-11-10         1   \n",
       "4325  {\"name\":\"Woman #1672\",\"description\":\"World of ...  2021-11-10         1   \n",
       "4326  {\"name\":\"Woman #7253\",\"description\":\"World of ...  2021-11-04         1   \n",
       "\n",
       "      syncing  frozen  \n",
       "3456        2       0  \n",
       "3457        2       0  \n",
       "3458        2       0  \n",
       "3459        2       0  \n",
       "3460        2       0  \n",
       "...       ...     ...  \n",
       "4322        2       0  \n",
       "4323        2       0  \n",
       "4324        2       0  \n",
       "4325        2       0  \n",
       "4326        2       0  \n",
       "\n",
       "[200 rows x 15 columns]"
      ]
     },
     "execution_count": 356,
     "metadata": {},
     "output_type": "execute_result"
    }
   ],
   "source": [
    "NFT_owner[NFT_owner['owner_of']==top_owner2]"
   ]
  },
  {
   "cell_type": "code",
   "execution_count": 360,
   "id": "0b4ff424-7f22-4f16-9e7d-2fc0ba32a8f4",
   "metadata": {},
   "outputs": [
    {
     "data": {
      "text/html": [
       "<div>\n",
       "<style scoped>\n",
       "    .dataframe tbody tr th:only-of-type {\n",
       "        vertical-align: middle;\n",
       "    }\n",
       "\n",
       "    .dataframe tbody tr th {\n",
       "        vertical-align: top;\n",
       "    }\n",
       "\n",
       "    .dataframe thead th {\n",
       "        text-align: right;\n",
       "    }\n",
       "</style>\n",
       "<table border=\"1\" class=\"dataframe\">\n",
       "  <thead>\n",
       "    <tr style=\"text-align: right;\">\n",
       "      <th></th>\n",
       "      <th>BLOCK_TIMESTAMP</th>\n",
       "      <th>EVENT_FROM</th>\n",
       "      <th>EVENT_TO</th>\n",
       "      <th>PRICE</th>\n",
       "      <th>PROJECT_NAME</th>\n",
       "      <th>TOKEN_ID</th>\n",
       "      <th>TX_CURRENCY</th>\n",
       "      <th>TX_ID</th>\n",
       "      <th>Date</th>\n",
       "    </tr>\n",
       "  </thead>\n",
       "  <tbody>\n",
       "    <tr>\n",
       "      <th>7194</th>\n",
       "      <td>2021-08-28 14:49:12</td>\n",
       "      <td>0xf19f1c9b5985a3e1b999e95ba3cc4f591a2dc019</td>\n",
       "      <td>0xaddd52868c4abd6f44b0de3b3ed8fc0e20c359d2</td>\n",
       "      <td>2.8700</td>\n",
       "      <td>World_Of_Women</td>\n",
       "      <td>1672</td>\n",
       "      <td>ETH</td>\n",
       "      <td>0x6e2cd5268ad14a9994d2e2f967b51d89ecfe1494a5e1...</td>\n",
       "      <td>2021-08-28</td>\n",
       "    </tr>\n",
       "    <tr>\n",
       "      <th>4763</th>\n",
       "      <td>2021-09-29 04:43:41</td>\n",
       "      <td>0xaddd52868c4abd6f44b0de3b3ed8fc0e20c359d2</td>\n",
       "      <td>0xac707ee01a605bfc712536d703e5e790357c48e5</td>\n",
       "      <td>3.3000</td>\n",
       "      <td>World_Of_Women</td>\n",
       "      <td>1672</td>\n",
       "      <td>ETH</td>\n",
       "      <td>0x4562224c2fece6432777964b6cfdd35aeace58378361...</td>\n",
       "      <td>2021-09-29</td>\n",
       "    </tr>\n",
       "    <tr>\n",
       "      <th>4170</th>\n",
       "      <td>2021-10-15 04:09:34</td>\n",
       "      <td>0xac707ee01a605bfc712536d703e5e790357c48e5</td>\n",
       "      <td>0x07be8468d0aba280ba72a924fd4d30349ed71de5</td>\n",
       "      <td>2.1069</td>\n",
       "      <td>World_Of_Women</td>\n",
       "      <td>1672</td>\n",
       "      <td>ETH</td>\n",
       "      <td>0x35cf0caa9bc62c096a848246934d17b7421b1b65c16b...</td>\n",
       "      <td>2021-10-15</td>\n",
       "    </tr>\n",
       "  </tbody>\n",
       "</table>\n",
       "</div>"
      ],
      "text/plain": [
       "         BLOCK_TIMESTAMP                                  EVENT_FROM  \\\n",
       "7194 2021-08-28 14:49:12  0xf19f1c9b5985a3e1b999e95ba3cc4f591a2dc019   \n",
       "4763 2021-09-29 04:43:41  0xaddd52868c4abd6f44b0de3b3ed8fc0e20c359d2   \n",
       "4170 2021-10-15 04:09:34  0xac707ee01a605bfc712536d703e5e790357c48e5   \n",
       "\n",
       "                                        EVENT_TO   PRICE    PROJECT_NAME  \\\n",
       "7194  0xaddd52868c4abd6f44b0de3b3ed8fc0e20c359d2  2.8700  World_Of_Women   \n",
       "4763  0xac707ee01a605bfc712536d703e5e790357c48e5  3.3000  World_Of_Women   \n",
       "4170  0x07be8468d0aba280ba72a924fd4d30349ed71de5  2.1069  World_Of_Women   \n",
       "\n",
       "      TOKEN_ID TX_CURRENCY                                              TX_ID  \\\n",
       "7194      1672         ETH  0x6e2cd5268ad14a9994d2e2f967b51d89ecfe1494a5e1...   \n",
       "4763      1672         ETH  0x4562224c2fece6432777964b6cfdd35aeace58378361...   \n",
       "4170      1672         ETH  0x35cf0caa9bc62c096a848246934d17b7421b1b65c16b...   \n",
       "\n",
       "           Date  \n",
       "7194 2021-08-28  \n",
       "4763 2021-09-29  \n",
       "4170 2021-10-15  "
      ]
     },
     "execution_count": 360,
     "metadata": {},
     "output_type": "execute_result"
    }
   ],
   "source": [
    "sales_ETH[sales_ETH['TOKEN_ID']==1672]"
   ]
  },
  {
   "cell_type": "code",
   "execution_count": 351,
   "id": "9c2c2e85-ebe1-45f2-9cb8-b83e6b6f490f",
   "metadata": {},
   "outputs": [
    {
     "data": {
      "text/html": [
       "<div>\n",
       "<style scoped>\n",
       "    .dataframe tbody tr th:only-of-type {\n",
       "        vertical-align: middle;\n",
       "    }\n",
       "\n",
       "    .dataframe tbody tr th {\n",
       "        vertical-align: top;\n",
       "    }\n",
       "\n",
       "    .dataframe thead th {\n",
       "        text-align: right;\n",
       "    }\n",
       "</style>\n",
       "<table border=\"1\" class=\"dataframe\">\n",
       "  <thead>\n",
       "    <tr style=\"text-align: right;\">\n",
       "      <th></th>\n",
       "      <th>BLOCK_TIMESTAMP</th>\n",
       "      <th>EVENT_FROM</th>\n",
       "      <th>EVENT_TO</th>\n",
       "      <th>PRICE</th>\n",
       "      <th>PROJECT_NAME</th>\n",
       "      <th>TOKEN_ID</th>\n",
       "      <th>TX_CURRENCY</th>\n",
       "      <th>TX_ID</th>\n",
       "      <th>Date</th>\n",
       "    </tr>\n",
       "  </thead>\n",
       "  <tbody>\n",
       "    <tr>\n",
       "      <th>18290</th>\n",
       "      <td>2021-07-29 00:22:04</td>\n",
       "      <td>0x087e282f6275538ed99b1e7df165eddeb745f3a6</td>\n",
       "      <td>0xfc840af78a496b52e378dfa94838402e1b7f71dd</td>\n",
       "      <td>0.139</td>\n",
       "      <td>World_Of_Women</td>\n",
       "      <td>9701</td>\n",
       "      <td>ETH</td>\n",
       "      <td>0x2bcc695ef04f315c08b1bb972850fe239d6c6ea59d92...</td>\n",
       "      <td>2021-07-29</td>\n",
       "    </tr>\n",
       "  </tbody>\n",
       "</table>\n",
       "</div>"
      ],
      "text/plain": [
       "          BLOCK_TIMESTAMP                                  EVENT_FROM  \\\n",
       "18290 2021-07-29 00:22:04  0x087e282f6275538ed99b1e7df165eddeb745f3a6   \n",
       "\n",
       "                                         EVENT_TO  PRICE    PROJECT_NAME  \\\n",
       "18290  0xfc840af78a496b52e378dfa94838402e1b7f71dd  0.139  World_Of_Women   \n",
       "\n",
       "       TOKEN_ID TX_CURRENCY  \\\n",
       "18290      9701         ETH   \n",
       "\n",
       "                                                   TX_ID       Date  \n",
       "18290  0x2bcc695ef04f315c08b1bb972850fe239d6c6ea59d92... 2021-07-29  "
      ]
     },
     "execution_count": 351,
     "metadata": {},
     "output_type": "execute_result"
    }
   ],
   "source": [
    "sales_ETH[sales_ETH['TOKEN_ID']==9701]"
   ]
  },
  {
   "cell_type": "code",
   "execution_count": 352,
   "id": "9a47f860-2611-47a3-b4c9-7728bd21b24f",
   "metadata": {},
   "outputs": [
    {
     "data": {
      "text/html": [
       "<div>\n",
       "<style scoped>\n",
       "    .dataframe tbody tr th:only-of-type {\n",
       "        vertical-align: middle;\n",
       "    }\n",
       "\n",
       "    .dataframe tbody tr th {\n",
       "        vertical-align: top;\n",
       "    }\n",
       "\n",
       "    .dataframe thead th {\n",
       "        text-align: right;\n",
       "    }\n",
       "</style>\n",
       "<table border=\"1\" class=\"dataframe\">\n",
       "  <thead>\n",
       "    <tr style=\"text-align: right;\">\n",
       "      <th></th>\n",
       "      <th>BLOCK_TIMESTAMP</th>\n",
       "      <th>EVENT_FROM</th>\n",
       "      <th>EVENT_TO</th>\n",
       "      <th>PRICE</th>\n",
       "      <th>PROJECT_NAME</th>\n",
       "      <th>TOKEN_ID</th>\n",
       "      <th>TX_CURRENCY</th>\n",
       "      <th>TX_ID</th>\n",
       "      <th>Date</th>\n",
       "    </tr>\n",
       "  </thead>\n",
       "  <tbody>\n",
       "    <tr>\n",
       "      <th>17917</th>\n",
       "      <td>2021-07-29 14:07:03</td>\n",
       "      <td>0xf7ad1aecb63528ce617e3ec1516b0df61b416f42</td>\n",
       "      <td>0xfc840af78a496b52e378dfa94838402e1b7f71dd</td>\n",
       "      <td>0.1</td>\n",
       "      <td>World_Of_Women</td>\n",
       "      <td>2218</td>\n",
       "      <td>ETH</td>\n",
       "      <td>0x15acebb33d08cf2e127d7be6b996e65fa4d8a461fa82...</td>\n",
       "      <td>2021-07-29</td>\n",
       "    </tr>\n",
       "  </tbody>\n",
       "</table>\n",
       "</div>"
      ],
      "text/plain": [
       "          BLOCK_TIMESTAMP                                  EVENT_FROM  \\\n",
       "17917 2021-07-29 14:07:03  0xf7ad1aecb63528ce617e3ec1516b0df61b416f42   \n",
       "\n",
       "                                         EVENT_TO  PRICE    PROJECT_NAME  \\\n",
       "17917  0xfc840af78a496b52e378dfa94838402e1b7f71dd    0.1  World_Of_Women   \n",
       "\n",
       "       TOKEN_ID TX_CURRENCY  \\\n",
       "17917      2218         ETH   \n",
       "\n",
       "                                                   TX_ID       Date  \n",
       "17917  0x15acebb33d08cf2e127d7be6b996e65fa4d8a461fa82... 2021-07-29  "
      ]
     },
     "execution_count": 352,
     "metadata": {},
     "output_type": "execute_result"
    }
   ],
   "source": [
    "sales_ETH[sales_ETH['TOKEN_ID']==2218]"
   ]
  },
  {
   "cell_type": "code",
   "execution_count": 361,
   "id": "90ba4b03-b06b-4068-a398-01945c6e7fee",
   "metadata": {},
   "outputs": [],
   "source": [
    "#Conclusion:\n",
    "#1. It seems that despite minting a high number of NFT's, these people have not sold the NFT from this account but have trsnafeered to another account\n"
   ]
  },
  {
   "cell_type": "code",
   "execution_count": null,
   "id": "f4f9e492-6c4a-4701-9e11-f51052381585",
   "metadata": {},
   "outputs": [],
   "source": []
  },
  {
   "cell_type": "code",
   "execution_count": 196,
   "id": "efe30a2d-9580-43bb-b94e-bf20ff8ffae2",
   "metadata": {},
   "outputs": [
    {
     "data": {
      "text/html": [
       "<div>\n",
       "<style scoped>\n",
       "    .dataframe tbody tr th:only-of-type {\n",
       "        vertical-align: middle;\n",
       "    }\n",
       "\n",
       "    .dataframe tbody tr th {\n",
       "        vertical-align: top;\n",
       "    }\n",
       "\n",
       "    .dataframe thead th {\n",
       "        text-align: right;\n",
       "    }\n",
       "</style>\n",
       "<table border=\"1\" class=\"dataframe\">\n",
       "  <thead>\n",
       "    <tr style=\"text-align: right;\">\n",
       "      <th></th>\n",
       "      <th>date</th>\n",
       "      <th>followers</th>\n",
       "      <th>following</th>\n",
       "      <th>tweets</th>\n",
       "      <th>favorites</th>\n",
       "    </tr>\n",
       "  </thead>\n",
       "  <tbody>\n",
       "    <tr>\n",
       "      <th>0</th>\n",
       "      <td>2022-02-07</td>\n",
       "      <td>107093</td>\n",
       "      <td>910</td>\n",
       "      <td>4413</td>\n",
       "      <td>16036</td>\n",
       "    </tr>\n",
       "    <tr>\n",
       "      <th>1</th>\n",
       "      <td>2022-02-06</td>\n",
       "      <td>106250</td>\n",
       "      <td>910</td>\n",
       "      <td>4394</td>\n",
       "      <td>15983</td>\n",
       "    </tr>\n",
       "    <tr>\n",
       "      <th>2</th>\n",
       "      <td>2022-02-05</td>\n",
       "      <td>105300</td>\n",
       "      <td>905</td>\n",
       "      <td>4371</td>\n",
       "      <td>15753</td>\n",
       "    </tr>\n",
       "    <tr>\n",
       "      <th>3</th>\n",
       "      <td>2022-02-04</td>\n",
       "      <td>104567</td>\n",
       "      <td>904</td>\n",
       "      <td>4343</td>\n",
       "      <td>15701</td>\n",
       "    </tr>\n",
       "    <tr>\n",
       "      <th>4</th>\n",
       "      <td>2022-02-03</td>\n",
       "      <td>103815</td>\n",
       "      <td>900</td>\n",
       "      <td>4311</td>\n",
       "      <td>15651</td>\n",
       "    </tr>\n",
       "  </tbody>\n",
       "</table>\n",
       "</div>"
      ],
      "text/plain": [
       "         date  followers  following  tweets  favorites\n",
       "0  2022-02-07     107093        910    4413      16036\n",
       "1  2022-02-06     106250        910    4394      15983\n",
       "2  2022-02-05     105300        905    4371      15753\n",
       "3  2022-02-04     104567        904    4343      15701\n",
       "4  2022-02-03     103815        900    4311      15651"
      ]
     },
     "execution_count": 196,
     "metadata": {},
     "output_type": "execute_result"
    }
   ],
   "source": [
    "twitter_no=pd.read_csv('wow_history.csv')\n",
    "twitter_no.head()"
   ]
  },
  {
   "cell_type": "code",
   "execution_count": 197,
   "id": "d4db1047-fb2d-435b-80ed-5b706fd5340f",
   "metadata": {},
   "outputs": [
    {
     "name": "stdout",
     "output_type": "stream",
     "text": [
      "<class 'str'>\n"
     ]
    }
   ],
   "source": [
    "print(type(twitter_no.date[0]))"
   ]
  },
  {
   "cell_type": "code",
   "execution_count": 199,
   "id": "087d53e2-20ec-4c26-ad3e-6e0e980a4222",
   "metadata": {},
   "outputs": [
    {
     "name": "stdout",
     "output_type": "stream",
     "text": [
      "<class 'pandas._libs.tslibs.timestamps.Timestamp'>\n"
     ]
    },
    {
     "data": {
      "text/html": [
       "<div>\n",
       "<style scoped>\n",
       "    .dataframe tbody tr th:only-of-type {\n",
       "        vertical-align: middle;\n",
       "    }\n",
       "\n",
       "    .dataframe tbody tr th {\n",
       "        vertical-align: top;\n",
       "    }\n",
       "\n",
       "    .dataframe thead th {\n",
       "        text-align: right;\n",
       "    }\n",
       "</style>\n",
       "<table border=\"1\" class=\"dataframe\">\n",
       "  <thead>\n",
       "    <tr style=\"text-align: right;\">\n",
       "      <th></th>\n",
       "      <th>date</th>\n",
       "      <th>followers</th>\n",
       "      <th>following</th>\n",
       "      <th>tweets</th>\n",
       "      <th>favorites</th>\n",
       "    </tr>\n",
       "  </thead>\n",
       "  <tbody>\n",
       "    <tr>\n",
       "      <th>186</th>\n",
       "      <td>2021-08-01</td>\n",
       "      <td>4750</td>\n",
       "      <td>162</td>\n",
       "      <td>696</td>\n",
       "      <td>2585</td>\n",
       "    </tr>\n",
       "    <tr>\n",
       "      <th>185</th>\n",
       "      <td>2021-08-02</td>\n",
       "      <td>5393</td>\n",
       "      <td>167</td>\n",
       "      <td>729</td>\n",
       "      <td>2855</td>\n",
       "    </tr>\n",
       "    <tr>\n",
       "      <th>184</th>\n",
       "      <td>2021-08-03</td>\n",
       "      <td>6258</td>\n",
       "      <td>170</td>\n",
       "      <td>770</td>\n",
       "      <td>3098</td>\n",
       "    </tr>\n",
       "    <tr>\n",
       "      <th>183</th>\n",
       "      <td>2021-08-04</td>\n",
       "      <td>6653</td>\n",
       "      <td>175</td>\n",
       "      <td>783</td>\n",
       "      <td>3195</td>\n",
       "    </tr>\n",
       "    <tr>\n",
       "      <th>182</th>\n",
       "      <td>2021-08-05</td>\n",
       "      <td>7066</td>\n",
       "      <td>176</td>\n",
       "      <td>800</td>\n",
       "      <td>3321</td>\n",
       "    </tr>\n",
       "    <tr>\n",
       "      <th>...</th>\n",
       "      <td>...</td>\n",
       "      <td>...</td>\n",
       "      <td>...</td>\n",
       "      <td>...</td>\n",
       "      <td>...</td>\n",
       "    </tr>\n",
       "    <tr>\n",
       "      <th>4</th>\n",
       "      <td>2022-02-03</td>\n",
       "      <td>103815</td>\n",
       "      <td>900</td>\n",
       "      <td>4311</td>\n",
       "      <td>15651</td>\n",
       "    </tr>\n",
       "    <tr>\n",
       "      <th>3</th>\n",
       "      <td>2022-02-04</td>\n",
       "      <td>104567</td>\n",
       "      <td>904</td>\n",
       "      <td>4343</td>\n",
       "      <td>15701</td>\n",
       "    </tr>\n",
       "    <tr>\n",
       "      <th>2</th>\n",
       "      <td>2022-02-05</td>\n",
       "      <td>105300</td>\n",
       "      <td>905</td>\n",
       "      <td>4371</td>\n",
       "      <td>15753</td>\n",
       "    </tr>\n",
       "    <tr>\n",
       "      <th>1</th>\n",
       "      <td>2022-02-06</td>\n",
       "      <td>106250</td>\n",
       "      <td>910</td>\n",
       "      <td>4394</td>\n",
       "      <td>15983</td>\n",
       "    </tr>\n",
       "    <tr>\n",
       "      <th>0</th>\n",
       "      <td>2022-02-07</td>\n",
       "      <td>107093</td>\n",
       "      <td>910</td>\n",
       "      <td>4413</td>\n",
       "      <td>16036</td>\n",
       "    </tr>\n",
       "  </tbody>\n",
       "</table>\n",
       "<p>187 rows × 5 columns</p>\n",
       "</div>"
      ],
      "text/plain": [
       "          date  followers  following  tweets  favorites\n",
       "186 2021-08-01       4750        162     696       2585\n",
       "185 2021-08-02       5393        167     729       2855\n",
       "184 2021-08-03       6258        170     770       3098\n",
       "183 2021-08-04       6653        175     783       3195\n",
       "182 2021-08-05       7066        176     800       3321\n",
       "..         ...        ...        ...     ...        ...\n",
       "4   2022-02-03     103815        900    4311      15651\n",
       "3   2022-02-04     104567        904    4343      15701\n",
       "2   2022-02-05     105300        905    4371      15753\n",
       "1   2022-02-06     106250        910    4394      15983\n",
       "0   2022-02-07     107093        910    4413      16036\n",
       "\n",
       "[187 rows x 5 columns]"
      ]
     },
     "execution_count": 199,
     "metadata": {},
     "output_type": "execute_result"
    }
   ],
   "source": [
    "twitter_no['date']=pd.to_datetime(twitter_no['date'])\n",
    "print(type(twitter_no.date[0]))\n",
    "twitter_no.sort_values(by='date')"
   ]
  },
  {
   "cell_type": "code",
   "execution_count": 221,
   "id": "c0e0a457-a06c-4e44-8d85-f911e900c575",
   "metadata": {},
   "outputs": [
    {
     "data": {
      "text/plain": [
       "<matplotlib.legend.Legend at 0x119f53520>"
      ]
     },
     "execution_count": 221,
     "metadata": {},
     "output_type": "execute_result"
    },
    {
     "data": {
      "image/png": "[encoded data removed]",
      "text/plain": [
       "<Figure size 1080x720 with 4 Axes>"
      ]
     },
     "metadata": {},
     "output_type": "display_data"
    }
   ],
   "source": [
    "style.use('fivethirtyeight')\n",
    "fig, axis = plt.subplots(2,2,figsize=(15,10))\n",
    "axis[0][0].plot(twitter_no['date'],twitter_no['followers'],color='green', label=\"followers\")\n",
    "axis[0][0].legend(loc=\"upper left\")\n",
    "axis[0][1].plot(twitter_no['date'],twitter_no['following'],color='yellow', label=\"following\")\n",
    "axis[0][1].legend(loc=\"upper left\")\n",
    "axis[1][0].plot(twitter_no['date'],twitter_no['tweets'],color='blue', label=\"tweets\")\n",
    "axis[1][0].legend(loc=\"upper left\")\n",
    "axis[1][1].plot(twitter_no['date'],twitter_no['favorites'],color='red', label=\"favorites\")\n",
    "axis[1][1].legend(loc=\"upper left\")"
   ]
  },
  {
   "cell_type": "code",
   "execution_count": 222,
   "id": "8b05cac3-b651-420b-a0d4-7f2edb315269",
   "metadata": {},
   "outputs": [],
   "source": [
    "#Conclusion:\n",
    "#1. There is a clear linear progression in all 4 line items\n",
    "#2. There is a significant bump in 'favorites' and 'following' for WoW around September 2021.\n",
    "#3. This may have contributed to the increase in WoW NFT transactions that started around the same time.\n",
    "#4. The 'following' for WoW shows an expinential increase starting Jan 2022.  "
   ]
  },
  {
   "cell_type": "code",
   "execution_count": 225,
   "id": "45b79958-55e2-4831-a31e-f41e546b93f0",
   "metadata": {},
   "outputs": [],
   "source": [
    "#Understanding tweets from WoW"
   ]
  },
  {
   "cell_type": "code",
   "execution_count": 227,
   "id": "35532124-356e-4ec8-a84c-a0d864652f5c",
   "metadata": {},
   "outputs": [
    {
     "data": {
      "text/html": [
       "<div>\n",
       "<style scoped>\n",
       "    .dataframe tbody tr th:only-of-type {\n",
       "        vertical-align: middle;\n",
       "    }\n",
       "\n",
       "    .dataframe tbody tr th {\n",
       "        vertical-align: top;\n",
       "    }\n",
       "\n",
       "    .dataframe thead th {\n",
       "        text-align: right;\n",
       "    }\n",
       "</style>\n",
       "<table border=\"1\" class=\"dataframe\">\n",
       "  <thead>\n",
       "    <tr style=\"text-align: right;\">\n",
       "      <th></th>\n",
       "      <th>user_id</th>\n",
       "      <th>status_id</th>\n",
       "      <th>created_at</th>\n",
       "      <th>screen_name</th>\n",
       "      <th>text</th>\n",
       "      <th>source</th>\n",
       "      <th>display_text_width</th>\n",
       "      <th>is_quote</th>\n",
       "      <th>is_retweet</th>\n",
       "      <th>favorite_count</th>\n",
       "      <th>...</th>\n",
       "      <th>quoted_retweet_count</th>\n",
       "      <th>quoted_user_id</th>\n",
       "      <th>quoted_screen_name</th>\n",
       "      <th>quoted_name</th>\n",
       "      <th>quoted_followers_count</th>\n",
       "      <th>quoted_friends_count</th>\n",
       "      <th>quoted_statuses_count</th>\n",
       "      <th>quoted_location</th>\n",
       "      <th>quoted_description</th>\n",
       "      <th>quoted_verified</th>\n",
       "    </tr>\n",
       "  </thead>\n",
       "  <tbody>\n",
       "    <tr>\n",
       "      <th>0</th>\n",
       "      <td>1414218489276125184</td>\n",
       "      <td>1490706495947915264</td>\n",
       "      <td>2022-02-07 15:18:19</td>\n",
       "      <td>worldofwomennft</td>\n",
       "      <td>Making NFTs more diverse and inclusive with @w...</td>\n",
       "      <td>Twitter Web App</td>\n",
       "      <td>140</td>\n",
       "      <td>False</td>\n",
       "      <td>True</td>\n",
       "      <td>0</td>\n",
       "      <td>...</td>\n",
       "      <td>NaN</td>\n",
       "      <td>NaN</td>\n",
       "      <td>NaN</td>\n",
       "      <td>NaN</td>\n",
       "      <td>NaN</td>\n",
       "      <td>NaN</td>\n",
       "      <td>NaN</td>\n",
       "      <td>NaN</td>\n",
       "      <td>NaN</td>\n",
       "      <td>NaN</td>\n",
       "    </tr>\n",
       "    <tr>\n",
       "      <th>1</th>\n",
       "      <td>1414218489276125184</td>\n",
       "      <td>1490702165932797952</td>\n",
       "      <td>2022-02-07 15:01:06</td>\n",
       "      <td>worldofwomennft</td>\n",
       "      <td>So, @justinbieber bought my @worldofwomennft t...</td>\n",
       "      <td>Twitter Web App</td>\n",
       "      <td>140</td>\n",
       "      <td>False</td>\n",
       "      <td>True</td>\n",
       "      <td>0</td>\n",
       "      <td>...</td>\n",
       "      <td>NaN</td>\n",
       "      <td>NaN</td>\n",
       "      <td>NaN</td>\n",
       "      <td>NaN</td>\n",
       "      <td>NaN</td>\n",
       "      <td>NaN</td>\n",
       "      <td>NaN</td>\n",
       "      <td>NaN</td>\n",
       "      <td>NaN</td>\n",
       "      <td>NaN</td>\n",
       "    </tr>\n",
       "    <tr>\n",
       "      <th>2</th>\n",
       "      <td>1414218489276125184</td>\n",
       "      <td>1490647306684801024</td>\n",
       "      <td>2022-02-07 11:23:07</td>\n",
       "      <td>worldofwomennft</td>\n",
       "      <td>🖼 WoWFund February curation 🖼\\n\\nWe have acqui...</td>\n",
       "      <td>Twitter Web App</td>\n",
       "      <td>178</td>\n",
       "      <td>False</td>\n",
       "      <td>False</td>\n",
       "      <td>85</td>\n",
       "      <td>...</td>\n",
       "      <td>NaN</td>\n",
       "      <td>NaN</td>\n",
       "      <td>NaN</td>\n",
       "      <td>NaN</td>\n",
       "      <td>NaN</td>\n",
       "      <td>NaN</td>\n",
       "      <td>NaN</td>\n",
       "      <td>NaN</td>\n",
       "      <td>NaN</td>\n",
       "      <td>NaN</td>\n",
       "    </tr>\n",
       "    <tr>\n",
       "      <th>3</th>\n",
       "      <td>1414218489276125184</td>\n",
       "      <td>1490628827407650816</td>\n",
       "      <td>2022-02-07 10:09:41</td>\n",
       "      <td>worldofwomennft</td>\n",
       "      <td>@LDEZEN @EthSauna @ChristiesInc @BossBeautiesN...</td>\n",
       "      <td>Twitter for iPhone</td>\n",
       "      <td>48</td>\n",
       "      <td>False</td>\n",
       "      <td>False</td>\n",
       "      <td>1</td>\n",
       "      <td>...</td>\n",
       "      <td>NaN</td>\n",
       "      <td>NaN</td>\n",
       "      <td>NaN</td>\n",
       "      <td>NaN</td>\n",
       "      <td>NaN</td>\n",
       "      <td>NaN</td>\n",
       "      <td>NaN</td>\n",
       "      <td>NaN</td>\n",
       "      <td>NaN</td>\n",
       "      <td>NaN</td>\n",
       "    </tr>\n",
       "    <tr>\n",
       "      <th>4</th>\n",
       "      <td>1414218489276125184</td>\n",
       "      <td>1490627612691124224</td>\n",
       "      <td>2022-02-07 10:04:52</td>\n",
       "      <td>worldofwomennft</td>\n",
       "      <td>@olifelsi @EthSauna @Crypto__Chicks Thank you 💜💜💜</td>\n",
       "      <td>Twitter for iPhone</td>\n",
       "      <td>13</td>\n",
       "      <td>False</td>\n",
       "      <td>False</td>\n",
       "      <td>8</td>\n",
       "      <td>...</td>\n",
       "      <td>NaN</td>\n",
       "      <td>NaN</td>\n",
       "      <td>NaN</td>\n",
       "      <td>NaN</td>\n",
       "      <td>NaN</td>\n",
       "      <td>NaN</td>\n",
       "      <td>NaN</td>\n",
       "      <td>NaN</td>\n",
       "      <td>NaN</td>\n",
       "      <td>NaN</td>\n",
       "    </tr>\n",
       "  </tbody>\n",
       "</table>\n",
       "<p>5 rows × 79 columns</p>\n",
       "</div>"
      ],
      "text/plain": [
       "               user_id            status_id          created_at  \\\n",
       "0  1414218489276125184  1490706495947915264 2022-02-07 15:18:19   \n",
       "1  1414218489276125184  1490702165932797952 2022-02-07 15:01:06   \n",
       "2  1414218489276125184  1490647306684801024 2022-02-07 11:23:07   \n",
       "3  1414218489276125184  1490628827407650816 2022-02-07 10:09:41   \n",
       "4  1414218489276125184  1490627612691124224 2022-02-07 10:04:52   \n",
       "\n",
       "       screen_name                                               text  \\\n",
       "0  worldofwomennft  Making NFTs more diverse and inclusive with @w...   \n",
       "1  worldofwomennft  So, @justinbieber bought my @worldofwomennft t...   \n",
       "2  worldofwomennft  🖼 WoWFund February curation 🖼\\n\\nWe have acqui...   \n",
       "3  worldofwomennft  @LDEZEN @EthSauna @ChristiesInc @BossBeautiesN...   \n",
       "4  worldofwomennft  @olifelsi @EthSauna @Crypto__Chicks Thank you 💜💜💜   \n",
       "\n",
       "               source  display_text_width  is_quote  is_retweet  \\\n",
       "0     Twitter Web App                 140     False        True   \n",
       "1     Twitter Web App                 140     False        True   \n",
       "2     Twitter Web App                 178     False       False   \n",
       "3  Twitter for iPhone                  48     False       False   \n",
       "4  Twitter for iPhone                  13     False       False   \n",
       "\n",
       "   favorite_count  ...  quoted_retweet_count quoted_user_id  \\\n",
       "0               0  ...                   NaN            NaN   \n",
       "1               0  ...                   NaN            NaN   \n",
       "2              85  ...                   NaN            NaN   \n",
       "3               1  ...                   NaN            NaN   \n",
       "4               8  ...                   NaN            NaN   \n",
       "\n",
       "  quoted_screen_name quoted_name quoted_followers_count quoted_friends_count  \\\n",
       "0                NaN         NaN                    NaN                  NaN   \n",
       "1                NaN         NaN                    NaN                  NaN   \n",
       "2                NaN         NaN                    NaN                  NaN   \n",
       "3                NaN         NaN                    NaN                  NaN   \n",
       "4                NaN         NaN                    NaN                  NaN   \n",
       "\n",
       "  quoted_statuses_count quoted_location quoted_description quoted_verified  \n",
       "0                   NaN             NaN                NaN             NaN  \n",
       "1                   NaN             NaN                NaN             NaN  \n",
       "2                   NaN             NaN                NaN             NaN  \n",
       "3                   NaN             NaN                NaN             NaN  \n",
       "4                   NaN             NaN                NaN             NaN  \n",
       "\n",
       "[5 rows x 79 columns]"
      ]
     },
     "execution_count": 227,
     "metadata": {},
     "output_type": "execute_result"
    }
   ],
   "source": [
    "all_tweets=pd.read_json('wow_all_tweets.json', lines=True)\n",
    "all_tweets.head()"
   ]
  },
  {
   "cell_type": "code",
   "execution_count": 229,
   "id": "6b62aba2-717d-4b16-8128-03a9da545846",
   "metadata": {},
   "outputs": [
    {
     "data": {
      "text/plain": [
       "3199"
      ]
     },
     "execution_count": 229,
     "metadata": {},
     "output_type": "execute_result"
    }
   ],
   "source": [
    "all_tweets.dropna(axis=1,inplace=True)\n",
    "len(all_tweets)"
   ]
  },
  {
   "cell_type": "code",
   "execution_count": 230,
   "id": "554dc095-efaf-40b1-b242-14d956b787a0",
   "metadata": {},
   "outputs": [
    {
     "data": {
      "text/plain": [
       "worldofwomennft    3199\n",
       "Name: screen_name, dtype: int64"
      ]
     },
     "execution_count": 230,
     "metadata": {},
     "output_type": "execute_result"
    }
   ],
   "source": [
    "all_tweets['screen_name'].value_counts()"
   ]
  },
  {
   "cell_type": "code",
   "execution_count": 231,
   "id": "f5130555-8185-448b-a1e8-c00a2712bdb0",
   "metadata": {},
   "outputs": [
    {
     "name": "stdout",
     "output_type": "stream",
     "text": [
      "<class 'pandas.core.frame.DataFrame'>\n",
      "RangeIndex: 3199 entries, 0 to 3198\n",
      "Data columns (total 46 columns):\n",
      " #   Column                  Non-Null Count  Dtype         \n",
      "---  ------                  --------------  -----         \n",
      " 0   user_id                 3199 non-null   int64         \n",
      " 1   status_id               3199 non-null   int64         \n",
      " 2   created_at              3199 non-null   datetime64[ns]\n",
      " 3   screen_name             3199 non-null   object        \n",
      " 4   text                    3199 non-null   object        \n",
      " 5   source                  3199 non-null   object        \n",
      " 6   display_text_width      3199 non-null   int64         \n",
      " 7   is_quote                3199 non-null   bool          \n",
      " 8   is_retweet              3199 non-null   bool          \n",
      " 9   favorite_count          3199 non-null   int64         \n",
      " 10  retweet_count           3199 non-null   int64         \n",
      " 11  hashtags                3199 non-null   object        \n",
      " 12  symbols                 3199 non-null   object        \n",
      " 13  urls_url                3199 non-null   object        \n",
      " 14  urls_t.co               3199 non-null   object        \n",
      " 15  urls_expanded_url       3199 non-null   object        \n",
      " 16  media_url               3199 non-null   object        \n",
      " 17  media_t.co              3199 non-null   object        \n",
      " 18  media_expanded_url      3199 non-null   object        \n",
      " 19  media_type              3199 non-null   object        \n",
      " 20  ext_media_url           3199 non-null   object        \n",
      " 21  ext_media_t.co          3199 non-null   object        \n",
      " 22  ext_media_expanded_url  3199 non-null   object        \n",
      " 23  mentions_user_id        3199 non-null   object        \n",
      " 24  mentions_screen_name    3199 non-null   object        \n",
      " 25  lang                    3199 non-null   object        \n",
      " 26  geo_coords              3199 non-null   object        \n",
      " 27  coords_coords           3199 non-null   object        \n",
      " 28  bbox_coords             3199 non-null   object        \n",
      " 29  status_url              3199 non-null   object        \n",
      " 30  name                    3199 non-null   object        \n",
      " 31  location                3199 non-null   object        \n",
      " 32  description             3199 non-null   object        \n",
      " 33  url                     3199 non-null   object        \n",
      " 34  protected               3199 non-null   bool          \n",
      " 35  followers_count         3199 non-null   int64         \n",
      " 36  friends_count           3199 non-null   int64         \n",
      " 37  listed_count            3199 non-null   int64         \n",
      " 38  statuses_count          3199 non-null   int64         \n",
      " 39  favourites_count        3199 non-null   int64         \n",
      " 40  account_created_at      3199 non-null   datetime64[ns]\n",
      " 41  verified                3199 non-null   bool          \n",
      " 42  profile_url             3199 non-null   object        \n",
      " 43  profile_expanded_url    3199 non-null   object        \n",
      " 44  profile_banner_url      3199 non-null   object        \n",
      " 45  profile_image_url       3199 non-null   object        \n",
      "dtypes: bool(4), datetime64[ns](2), int64(10), object(30)\n",
      "memory usage: 1.0+ MB\n"
     ]
    }
   ],
   "source": [
    "all_tweets.info()"
   ]
  },
  {
   "cell_type": "code",
   "execution_count": 232,
   "id": "1aa40142-1ff5-4bfd-a514-59d5db1b3e7c",
   "metadata": {},
   "outputs": [
    {
     "data": {
      "text/plain": [
       "2021-08-23    30\n",
       "2021-08-24    13\n",
       "2021-08-25     9\n",
       "2021-08-26    15\n",
       "2021-08-27     9\n",
       "              ..\n",
       "2022-02-03    29\n",
       "2022-02-04    23\n",
       "2022-02-05    31\n",
       "2022-02-06     4\n",
       "2022-02-07    18\n",
       "Name: tweeted_date, Length: 169, dtype: int64"
      ]
     },
     "execution_count": 232,
     "metadata": {},
     "output_type": "execute_result"
    }
   ],
   "source": [
    "all_tweets['tweeted_date']=all_tweets['created_at'].dt.date\n",
    "tweets_all_time=all_tweets['tweeted_date'].value_counts()\n",
    "tweets_all_time.sort_index(inplace=True)\n",
    "tweets_all_time"
   ]
  },
  {
   "cell_type": "code",
   "execution_count": 233,
   "id": "f54455dc-b0d2-4b90-a8fd-78b3ad1ca31d",
   "metadata": {},
   "outputs": [
    {
     "data": {
      "text/html": [
       "<div>\n",
       "<style scoped>\n",
       "    .dataframe tbody tr th:only-of-type {\n",
       "        vertical-align: middle;\n",
       "    }\n",
       "\n",
       "    .dataframe tbody tr th {\n",
       "        vertical-align: top;\n",
       "    }\n",
       "\n",
       "    .dataframe thead th {\n",
       "        text-align: right;\n",
       "    }\n",
       "</style>\n",
       "<table border=\"1\" class=\"dataframe\">\n",
       "  <thead>\n",
       "    <tr style=\"text-align: right;\">\n",
       "      <th></th>\n",
       "      <th>tweeted_date</th>\n",
       "      <th>count_of_tweets</th>\n",
       "    </tr>\n",
       "  </thead>\n",
       "  <tbody>\n",
       "    <tr>\n",
       "      <th>0</th>\n",
       "      <td>2021-08-23</td>\n",
       "      <td>30</td>\n",
       "    </tr>\n",
       "    <tr>\n",
       "      <th>1</th>\n",
       "      <td>2021-08-24</td>\n",
       "      <td>13</td>\n",
       "    </tr>\n",
       "    <tr>\n",
       "      <th>2</th>\n",
       "      <td>2021-08-25</td>\n",
       "      <td>9</td>\n",
       "    </tr>\n",
       "    <tr>\n",
       "      <th>3</th>\n",
       "      <td>2021-08-26</td>\n",
       "      <td>15</td>\n",
       "    </tr>\n",
       "    <tr>\n",
       "      <th>4</th>\n",
       "      <td>2021-08-27</td>\n",
       "      <td>9</td>\n",
       "    </tr>\n",
       "    <tr>\n",
       "      <th>...</th>\n",
       "      <td>...</td>\n",
       "      <td>...</td>\n",
       "    </tr>\n",
       "    <tr>\n",
       "      <th>164</th>\n",
       "      <td>2022-02-03</td>\n",
       "      <td>29</td>\n",
       "    </tr>\n",
       "    <tr>\n",
       "      <th>165</th>\n",
       "      <td>2022-02-04</td>\n",
       "      <td>23</td>\n",
       "    </tr>\n",
       "    <tr>\n",
       "      <th>166</th>\n",
       "      <td>2022-02-05</td>\n",
       "      <td>31</td>\n",
       "    </tr>\n",
       "    <tr>\n",
       "      <th>167</th>\n",
       "      <td>2022-02-06</td>\n",
       "      <td>4</td>\n",
       "    </tr>\n",
       "    <tr>\n",
       "      <th>168</th>\n",
       "      <td>2022-02-07</td>\n",
       "      <td>18</td>\n",
       "    </tr>\n",
       "  </tbody>\n",
       "</table>\n",
       "<p>169 rows × 2 columns</p>\n",
       "</div>"
      ],
      "text/plain": [
       "    tweeted_date  count_of_tweets\n",
       "0     2021-08-23               30\n",
       "1     2021-08-24               13\n",
       "2     2021-08-25                9\n",
       "3     2021-08-26               15\n",
       "4     2021-08-27                9\n",
       "..           ...              ...\n",
       "164   2022-02-03               29\n",
       "165   2022-02-04               23\n",
       "166   2022-02-05               31\n",
       "167   2022-02-06                4\n",
       "168   2022-02-07               18\n",
       "\n",
       "[169 rows x 2 columns]"
      ]
     },
     "execution_count": 233,
     "metadata": {},
     "output_type": "execute_result"
    }
   ],
   "source": [
    "tweets_all_time = tweets_all_time.to_frame().reset_index()\n",
    "tweets_all_time.columns=['tweeted_date', 'count_of_tweets']\n",
    "tweets_all_time"
   ]
  },
  {
   "cell_type": "code",
   "execution_count": 234,
   "id": "a07d5668-131b-4778-a0ae-da0e8a9af2d2",
   "metadata": {},
   "outputs": [
    {
     "data": {
      "image/png": "[encoded data removed]",
      "text/plain": [
       "<Figure size 720x504 with 1 Axes>"
      ]
     },
     "metadata": {},
     "output_type": "display_data"
    }
   ],
   "source": [
    "fig=plt.figure(figsize=(10,7))\n",
    "ax=fig.add_subplot(111)\n",
    "ax.plot(tweets_all_time['tweeted_date'],tweets_all_time['count_of_tweets'])\n",
    "plt.show()"
   ]
  },
  {
   "cell_type": "code",
   "execution_count": 236,
   "id": "0117c885-dff7-4feb-8382-49d5a9ca8f68",
   "metadata": {},
   "outputs": [],
   "source": [
    "#Conclusion: \n",
    "#1. The tweeting adn retweeting pattern of WoW is erratic across all time. \n",
    "#2. However, some significant peaks can be observed around mid-october and mid-january."
   ]
  },
  {
   "cell_type": "code",
   "execution_count": null,
   "id": "09ec20ed-60e9-4678-a75a-39815008271f",
   "metadata": {},
   "outputs": [],
   "source": []
  }
 ],
 "metadata": {
  "kernelspec": {
   "display_name": "Python 3",
   "language": "python",
   "name": "python3"
  },
  "language_info": {
   "codemirror_mode": {
    "name": "ipython",
    "version": 3
   },
   "file_extension": ".py",
   "mimetype": "text/x-python",
   "name": "python",
   "nbconvert_exporter": "python",
   "pygments_lexer": "ipython3",
   "version": "3.8.8"
  }
 },
 "nbformat": 4,
 "nbformat_minor": 5
}
